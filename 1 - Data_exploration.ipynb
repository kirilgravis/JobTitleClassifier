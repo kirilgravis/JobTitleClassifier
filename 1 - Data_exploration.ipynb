{
 "cells": [
  {
   "cell_type": "code",
   "execution_count": 21,
   "id": "a46e2397-f8d3-463f-afbe-46854a8ec862",
   "metadata": {},
   "outputs": [],
   "source": [
    "import pandas as pd\n",
    "import numpy as np\n",
    "\n",
    "import matplotlib.pyplot as plt\n",
    "import seaborn as sns\n",
    "%matplotlib inline\n",
    "\n",
    "from commons import *"
   ]
  },
  {
   "cell_type": "code",
   "execution_count": 5,
   "id": "0b4fc71c-f81b-40e4-ba25-f99c20974677",
   "metadata": {},
   "outputs": [],
   "source": [
    "sns.set_style('white')\n",
    "pd.set_option('max_colwidth',300)"
   ]
  },
  {
   "cell_type": "code",
   "execution_count": 11,
   "id": "1bc506c2-e6a4-41f6-b959-c6b090644ba7",
   "metadata": {},
   "outputs": [],
   "source": [
    "df = pd.read_parquet(r\"datasets\\job_title_dataset.parquet\")"
   ]
  },
  {
   "cell_type": "markdown",
   "id": "6eaf0e03-0a01-4040-83a9-b35966ae7cef",
   "metadata": {},
   "source": [
    "### Let's take a look on the dataset"
   ]
  },
  {
   "cell_type": "code",
   "execution_count": 14,
   "id": "07016a12-8c59-479c-8ba2-f10e8c1b54ed",
   "metadata": {},
   "outputs": [
    {
     "data": {
      "text/plain": [
       "(31427, 5)"
      ]
     },
     "execution_count": 14,
     "metadata": {},
     "output_type": "execute_result"
    }
   ],
   "source": [
    "df.shape"
   ]
  },
  {
   "cell_type": "code",
   "execution_count": 15,
   "id": "9e335a53-7518-48b6-a6b3-643940472522",
   "metadata": {},
   "outputs": [
    {
     "data": {
      "text/html": [
       "<div>\n",
       "<style scoped>\n",
       "    .dataframe tbody tr th:only-of-type {\n",
       "        vertical-align: middle;\n",
       "    }\n",
       "\n",
       "    .dataframe tbody tr th {\n",
       "        vertical-align: top;\n",
       "    }\n",
       "\n",
       "    .dataframe thead th {\n",
       "        text-align: right;\n",
       "    }\n",
       "</style>\n",
       "<table border=\"1\" class=\"dataframe\">\n",
       "  <thead>\n",
       "    <tr style=\"text-align: right;\">\n",
       "      <th></th>\n",
       "      <th>JobId</th>\n",
       "      <th>JobTitleId</th>\n",
       "      <th>ExtJobTitleText</th>\n",
       "      <th>JobTitle</th>\n",
       "      <th>Description</th>\n",
       "    </tr>\n",
       "  </thead>\n",
       "  <tbody>\n",
       "    <tr>\n",
       "      <th>24821</th>\n",
       "      <td>464734198</td>\n",
       "      <td>401442</td>\n",
       "      <td>1706 - Inventory Control &amp; Assurance Shift Lead</td>\n",
       "      <td>Inventory Manager</td>\n",
       "      <td>&lt;p&gt;&lt;strong&gt;Location: Franklin, MA&lt;/strong&gt;&lt;/p&gt;&lt;p&gt;&lt;br&gt;&lt;/p&gt;&lt;p&gt;&lt;strong&gt;IN A NUTSHELL…&lt;/strong&gt;&lt;/p&gt;&lt;p&gt;This role is to help drive the teams towards the day’s goals and help them prioritize or switch gears when necessary. &lt;/p&gt;&lt;p&gt;This person will be responsible for the work completed during the shift. ...</td>\n",
       "    </tr>\n",
       "    <tr>\n",
       "      <th>12280</th>\n",
       "      <td>354116136</td>\n",
       "      <td>401616</td>\n",
       "      <td>Commercial Class B Driver</td>\n",
       "      <td>Class B Driver</td>\n",
       "      <td>&lt;p&gt;Centerline is your one access point to limitless truck driving opportunities.&amp;#160; Our job is to connect you with safe, rewarding work at top companies while maintaining your flexibility and work / life balance.&lt;/p&gt;\\n&lt;p&gt;Text the word DRIVE to (510) 256-9546&amp;#160;or call for more information!...</td>\n",
       "    </tr>\n",
       "    <tr>\n",
       "      <th>30836</th>\n",
       "      <td>492308480</td>\n",
       "      <td>402951</td>\n",
       "      <td>Marketing Automation Lead</td>\n",
       "      <td>Automation Manager</td>\n",
       "      <td>Well known healthcare organization looking for Marketing Automation Lead for a 6 month contract with possible extension, full time hours remote (should be on EST). &lt;br&gt; &lt;strong&gt;Marketing Automation Lead Responsibilities:&lt;/strong&gt;&lt;br&gt; &lt;ul&gt; &lt;li&gt;The Marketing Automation Lead develops and executes m...</td>\n",
       "    </tr>\n",
       "    <tr>\n",
       "      <th>25365</th>\n",
       "      <td>465688913</td>\n",
       "      <td>400736</td>\n",
       "      <td>Licensed Utah Electricians - Hire On Bonus!</td>\n",
       "      <td>Electrician</td>\n",
       "      <td>&lt;p&gt;$1000 HIRE ON BONUS!&lt;/p&gt;&lt;p&gt;360 Industrial Services is seeking licensed Utah electricians for a project around Salt Lake City, Utah. This is a commercial project requiring conduit runs, wire pull, switches, lighting, panels, terminations, troubleshooting and more.&lt;/p&gt;&lt;p&gt;Pay: up to 36/hr&lt;br&gt;Per...</td>\n",
       "    </tr>\n",
       "    <tr>\n",
       "      <th>27301</th>\n",
       "      <td>476412754</td>\n",
       "      <td>405636</td>\n",
       "      <td>School Psychologist</td>\n",
       "      <td>School Psychologist</td>\n",
       "      <td>&lt;p&gt;We&amp;rsquo;re looking for an exceptional School Psychologist for a full-time position in Lockport, IL for the 2021-2022 School year. This role is responsible for facilitating problem-solving meetings, initial case studies, reevaluations, working with small groups of children, etc. The caseload ...</td>\n",
       "    </tr>\n",
       "  </tbody>\n",
       "</table>\n",
       "</div>"
      ],
      "text/plain": [
       "           JobId  JobTitleId                                  ExtJobTitleText  \\\n",
       "24821  464734198      401442  1706 - Inventory Control & Assurance Shift Lead   \n",
       "12280  354116136      401616                        Commercial Class B Driver   \n",
       "30836  492308480      402951                        Marketing Automation Lead   \n",
       "25365  465688913      400736      Licensed Utah Electricians - Hire On Bonus!   \n",
       "27301  476412754      405636                              School Psychologist   \n",
       "\n",
       "                  JobTitle  \\\n",
       "24821    Inventory Manager   \n",
       "12280       Class B Driver   \n",
       "30836   Automation Manager   \n",
       "25365          Electrician   \n",
       "27301  School Psychologist   \n",
       "\n",
       "                                                                                                                                                                                                                                                                                                       Description  \n",
       "24821  <p><strong>Location: Franklin, MA</strong></p><p><br></p><p><strong>IN A NUTSHELL…</strong></p><p>This role is to help drive the teams towards the day’s goals and help them prioritize or switch gears when necessary. </p><p>This person will be responsible for the work completed during the shift. ...  \n",
       "12280  <p>Centerline is your one access point to limitless truck driving opportunities.&#160; Our job is to connect you with safe, rewarding work at top companies while maintaining your flexibility and work / life balance.</p>\\n<p>Text the word DRIVE to (510) 256-9546&#160;or call for more information!...  \n",
       "30836  Well known healthcare organization looking for Marketing Automation Lead for a 6 month contract with possible extension, full time hours remote (should be on EST). <br> <strong>Marketing Automation Lead Responsibilities:</strong><br> <ul> <li>The Marketing Automation Lead develops and executes m...  \n",
       "25365  <p>$1000 HIRE ON BONUS!</p><p>360 Industrial Services is seeking licensed Utah electricians for a project around Salt Lake City, Utah. This is a commercial project requiring conduit runs, wire pull, switches, lighting, panels, terminations, troubleshooting and more.</p><p>Pay: up to 36/hr<br>Per...  \n",
       "27301  <p>We&rsquo;re looking for an exceptional School Psychologist for a full-time position in Lockport, IL for the 2021-2022 School year. This role is responsible for facilitating problem-solving meetings, initial case studies, reevaluations, working with small groups of children, etc. The caseload ...  "
      ]
     },
     "execution_count": 15,
     "metadata": {},
     "output_type": "execute_result"
    }
   ],
   "source": [
    "df.sample(5)"
   ]
  },
  {
   "cell_type": "markdown",
   "id": "608e10db-ae09-4081-b63e-b5fedef1cd9b",
   "metadata": {},
   "source": [
    "#### The JobId columnn looks unique, let's check it"
   ]
  },
  {
   "cell_type": "code",
   "execution_count": 16,
   "id": "831887be-6166-4f18-a959-24cbe517e6d7",
   "metadata": {},
   "outputs": [
    {
     "data": {
      "text/html": [
       "<div>\n",
       "<style scoped>\n",
       "    .dataframe tbody tr th:only-of-type {\n",
       "        vertical-align: middle;\n",
       "    }\n",
       "\n",
       "    .dataframe tbody tr th {\n",
       "        vertical-align: top;\n",
       "    }\n",
       "\n",
       "    .dataframe thead th {\n",
       "        text-align: right;\n",
       "    }\n",
       "</style>\n",
       "<table border=\"1\" class=\"dataframe\">\n",
       "  <thead>\n",
       "    <tr style=\"text-align: right;\">\n",
       "      <th></th>\n",
       "      <th>JobId</th>\n",
       "      <th>JobTitleId</th>\n",
       "      <th>ExtJobTitleText</th>\n",
       "      <th>JobTitle</th>\n",
       "      <th>Description</th>\n",
       "    </tr>\n",
       "  </thead>\n",
       "  <tbody>\n",
       "  </tbody>\n",
       "</table>\n",
       "</div>"
      ],
      "text/plain": [
       "Empty DataFrame\n",
       "Columns: [JobId, JobTitleId, ExtJobTitleText, JobTitle, Description]\n",
       "Index: []"
      ]
     },
     "execution_count": 16,
     "metadata": {},
     "output_type": "execute_result"
    }
   ],
   "source": [
    "df[df.JobId.duplicated()]"
   ]
  },
  {
   "cell_type": "markdown",
   "id": "b959cc0e-10d5-4015-943a-40a68683c595",
   "metadata": {},
   "source": [
    "#### So if the column is without duplicates, let's drop it and use the index column we got automatically"
   ]
  },
  {
   "cell_type": "code",
   "execution_count": 17,
   "id": "21c40fec-b4b3-4ba5-a8a3-b2d747900355",
   "metadata": {},
   "outputs": [],
   "source": [
    "df.drop(columns='JobId', inplace=True)"
   ]
  },
  {
   "cell_type": "code",
   "execution_count": 18,
   "id": "11870965-ea47-424b-9c89-0f8fd815b974",
   "metadata": {},
   "outputs": [
    {
     "name": "stdout",
     "output_type": "stream",
     "text": [
      "<class 'pandas.core.frame.DataFrame'>\n",
      "RangeIndex: 31427 entries, 0 to 31426\n",
      "Data columns (total 4 columns):\n",
      " #   Column           Non-Null Count  Dtype \n",
      "---  ------           --------------  ----- \n",
      " 0   JobTitleId       31427 non-null  int32 \n",
      " 1   ExtJobTitleText  31427 non-null  object\n",
      " 2   JobTitle         31427 non-null  object\n",
      " 3   Description      31426 non-null  object\n",
      "dtypes: int32(1), object(3)\n",
      "memory usage: 859.5+ KB\n"
     ]
    }
   ],
   "source": [
    "df.info()"
   ]
  },
  {
   "cell_type": "markdown",
   "id": "c1dde2e0-7310-4303-b37b-265c13ba2e0a",
   "metadata": {},
   "source": [
    "#### One NA, dropping it"
   ]
  },
  {
   "cell_type": "code",
   "execution_count": 19,
   "id": "038fccc7-4364-49df-a5b7-6148689f7c5d",
   "metadata": {},
   "outputs": [
    {
     "name": "stdout",
     "output_type": "stream",
     "text": [
      "<class 'pandas.core.frame.DataFrame'>\n",
      "Int64Index: 31426 entries, 0 to 31426\n",
      "Data columns (total 4 columns):\n",
      " #   Column           Non-Null Count  Dtype \n",
      "---  ------           --------------  ----- \n",
      " 0   JobTitleId       31426 non-null  int32 \n",
      " 1   ExtJobTitleText  31426 non-null  object\n",
      " 2   JobTitle         31426 non-null  object\n",
      " 3   Description      31426 non-null  object\n",
      "dtypes: int32(1), object(3)\n",
      "memory usage: 1.1+ MB\n"
     ]
    }
   ],
   "source": [
    "df.dropna(inplace=True)\n",
    "df.info(0)"
   ]
  },
  {
   "cell_type": "markdown",
   "id": "03b6b771-fcde-4c27-8396-06aa65a2d2d5",
   "metadata": {},
   "source": [
    "#### We want to see if there are rows with empty discription"
   ]
  },
  {
   "cell_type": "code",
   "execution_count": 20,
   "id": "4791e583-2326-4466-94d7-e50c3201ebb9",
   "metadata": {},
   "outputs": [
    {
     "data": {
      "text/html": [
       "<div>\n",
       "<style scoped>\n",
       "    .dataframe tbody tr th:only-of-type {\n",
       "        vertical-align: middle;\n",
       "    }\n",
       "\n",
       "    .dataframe tbody tr th {\n",
       "        vertical-align: top;\n",
       "    }\n",
       "\n",
       "    .dataframe thead th {\n",
       "        text-align: right;\n",
       "    }\n",
       "</style>\n",
       "<table border=\"1\" class=\"dataframe\">\n",
       "  <thead>\n",
       "    <tr style=\"text-align: right;\">\n",
       "      <th></th>\n",
       "      <th>JobTitleId</th>\n",
       "      <th>ExtJobTitleText</th>\n",
       "      <th>JobTitle</th>\n",
       "      <th>Description</th>\n",
       "    </tr>\n",
       "  </thead>\n",
       "  <tbody>\n",
       "  </tbody>\n",
       "</table>\n",
       "</div>"
      ],
      "text/plain": [
       "Empty DataFrame\n",
       "Columns: [JobTitleId, ExtJobTitleText, JobTitle, Description]\n",
       "Index: []"
      ]
     },
     "execution_count": 20,
     "metadata": {},
     "output_type": "execute_result"
    }
   ],
   "source": [
    "df[(df.Description == 'None') | (df.Description == '')]"
   ]
  },
  {
   "cell_type": "markdown",
   "id": "f58060fd-736f-4767-bf96-008d3c07a689",
   "metadata": {},
   "source": [
    "#### Count unique values for each column"
   ]
  },
  {
   "cell_type": "code",
   "execution_count": 23,
   "id": "7c355bad-3b5e-4871-8e17-afbb655f3df1",
   "metadata": {},
   "outputs": [],
   "source": [
    "def count_unique(data):\n",
    "    for col in data.columns:\n",
    "        print (f\" In the '{col}' column there are: {data[col].nunique()} unique values\")"
   ]
  },
  {
   "cell_type": "code",
   "execution_count": 24,
   "id": "7d3ae9e2-de49-4014-9710-b6e98af5b395",
   "metadata": {},
   "outputs": [
    {
     "name": "stdout",
     "output_type": "stream",
     "text": [
      " In the 'JobTitleId' column there are: 1954 unique values\n",
      " In the 'ExtJobTitleText' column there are: 13990 unique values\n",
      " In the 'JobTitle' column there are: 1954 unique values\n",
      " In the 'Description' column there are: 31426 unique values\n"
     ]
    }
   ],
   "source": [
    "count_unique(df)"
   ]
  },
  {
   "cell_type": "markdown",
   "id": "78f81590-3876-4d04-8c69-4ef35df3910c",
   "metadata": {},
   "source": [
    "#### We can see that 'JobTitleId' and 'JobTitle' are the same length\n",
    " Let's check how many unique JobTitles are there per JobTitleId"
   ]
  },
  {
   "cell_type": "code",
   "execution_count": 26,
   "id": "78167965-e57b-4f2d-a434-d9e1064201f5",
   "metadata": {},
   "outputs": [
    {
     "data": {
      "text/plain": [
       "1    1953\n",
       "2       1\n",
       "Name: JobTitle, dtype: int64"
      ]
     },
     "execution_count": 26,
     "metadata": {},
     "output_type": "execute_result"
    }
   ],
   "source": [
    "df.groupby('JobTitleId').JobTitle.nunique().value_counts()"
   ]
  },
  {
   "cell_type": "markdown",
   "id": "e75cded7-f5e3-4dbd-a8a7-9ee318caadb6",
   "metadata": {},
   "source": [
    "#### There is only one JobTitleId that apears twice, lets take a look at it"
   ]
  },
  {
   "cell_type": "code",
   "execution_count": 27,
   "id": "85250929-77df-487f-b8f1-0302f14788a9",
   "metadata": {},
   "outputs": [
    {
     "data": {
      "text/html": [
       "<div>\n",
       "<style scoped>\n",
       "    .dataframe tbody tr th:only-of-type {\n",
       "        vertical-align: middle;\n",
       "    }\n",
       "\n",
       "    .dataframe tbody tr th {\n",
       "        vertical-align: top;\n",
       "    }\n",
       "\n",
       "    .dataframe thead th {\n",
       "        text-align: right;\n",
       "    }\n",
       "</style>\n",
       "<table border=\"1\" class=\"dataframe\">\n",
       "  <thead>\n",
       "    <tr style=\"text-align: right;\">\n",
       "      <th></th>\n",
       "      <th>JobTitleId</th>\n",
       "      <th>ExtJobTitleText</th>\n",
       "      <th>JobTitle</th>\n",
       "      <th>Description</th>\n",
       "    </tr>\n",
       "  </thead>\n",
       "  <tbody>\n",
       "    <tr>\n",
       "      <th>3595</th>\n",
       "      <td>400545</td>\n",
       "      <td>Instructional Designer</td>\n",
       "      <td>Instructional Designer</td>\n",
       "      <td>&lt;p&gt;&lt;b&gt;Instructional Designer &lt;/b&gt;needed in &lt;b&gt;Summit, New Jersey 07901 &lt;/b&gt;for a &lt;b&gt;long-term contract &lt;/b&gt;opportunity with Yoh&amp;rsquo;s client.&lt;/p&gt;\\n\\n&lt;p&gt;&lt;b&gt;The Big Picture &amp;ndash; Top Skills You Should &lt;a name=\"_GoBack\"&gt;&lt;/a&gt;Possess:&lt;/b&gt;&lt;/p&gt;\\n\\n&lt;ul&gt;\\n\\t&lt;li&gt;Design of training materials&lt;/li&gt;\\n\\t&lt;l...</td>\n",
       "    </tr>\n",
       "    <tr>\n",
       "      <th>29169</th>\n",
       "      <td>400545</td>\n",
       "      <td>Professional Development Coordinator</td>\n",
       "      <td>Professional Development Specialist</td>\n",
       "      <td>&lt;p&gt;To be successful in this position, the Professional Development Coordinator, will be the first point of contact for NAHU's Help Desk for inbound calls from members and non-members, and must have an understanding of IMIS and administrative reporting and data systems.&lt;/p&gt;\\n&lt;p&gt;In addition, the P...</td>\n",
       "    </tr>\n",
       "  </tbody>\n",
       "</table>\n",
       "</div>"
      ],
      "text/plain": [
       "       JobTitleId                       ExtJobTitleText  \\\n",
       "3595       400545                Instructional Designer   \n",
       "29169      400545  Professional Development Coordinator   \n",
       "\n",
       "                                  JobTitle  \\\n",
       "3595                Instructional Designer   \n",
       "29169  Professional Development Specialist   \n",
       "\n",
       "                                                                                                                                                                                                                                                                                                       Description  \n",
       "3595   <p><b>Instructional Designer </b>needed in <b>Summit, New Jersey 07901 </b>for a <b>long-term contract </b>opportunity with Yoh&rsquo;s client.</p>\\n\\n<p><b>The Big Picture &ndash; Top Skills You Should <a name=\"_GoBack\"></a>Possess:</b></p>\\n\\n<ul>\\n\\t<li>Design of training materials</li>\\n\\t<l...  \n",
       "29169  <p>To be successful in this position, the Professional Development Coordinator, will be the first point of contact for NAHU's Help Desk for inbound calls from members and non-members, and must have an understanding of IMIS and administrative reporting and data systems.</p>\\n<p>In addition, the P...  "
      ]
     },
     "execution_count": 27,
     "metadata": {},
     "output_type": "execute_result"
    }
   ],
   "source": [
    "df[df.JobTitleId == df.groupby('JobTitleId').JobTitle.nunique().idxmax()]"
   ]
  },
  {
   "cell_type": "markdown",
   "id": "eac63941-ac1f-4e1b-81e9-57d487b91eef",
   "metadata": {},
   "source": [
    "#### We can see that the only place where there is a different JobTitleId for JobTitle was a mistake.\n",
    " So we can now use the JobTitle only, because JobTitleId doen't give us any additional information."
   ]
  },
  {
   "cell_type": "code",
   "execution_count": 28,
   "id": "3bb77f7e-eab7-4fd3-8a31-156d84ea071a",
   "metadata": {},
   "outputs": [],
   "source": [
    "df.drop(columns='JobTitleId', inplace=True)"
   ]
  },
  {
   "cell_type": "code",
   "execution_count": 29,
   "id": "48716446-31db-4920-807f-da4155fec0a5",
   "metadata": {},
   "outputs": [
    {
     "data": {
      "text/html": [
       "<div>\n",
       "<style scoped>\n",
       "    .dataframe tbody tr th:only-of-type {\n",
       "        vertical-align: middle;\n",
       "    }\n",
       "\n",
       "    .dataframe tbody tr th {\n",
       "        vertical-align: top;\n",
       "    }\n",
       "\n",
       "    .dataframe thead th {\n",
       "        text-align: right;\n",
       "    }\n",
       "</style>\n",
       "<table border=\"1\" class=\"dataframe\">\n",
       "  <thead>\n",
       "    <tr style=\"text-align: right;\">\n",
       "      <th></th>\n",
       "      <th>ExtJobTitleText</th>\n",
       "      <th>JobTitle</th>\n",
       "      <th>Description</th>\n",
       "    </tr>\n",
       "  </thead>\n",
       "  <tbody>\n",
       "    <tr>\n",
       "      <th>1971</th>\n",
       "      <td>School Special Education Teacher</td>\n",
       "      <td>Special Education Teacher</td>\n",
       "      <td>&lt;/h2&gt; &lt;strong&gt;Special Education Teacher for elementary school &lt;/strong&gt;&lt;/p&gt;Join our Pediatric School Based Team, and use your passion for Special Education to help make a difference in a child’s life! &lt;/p&gt;&lt;ul&gt;&lt;li&gt;Special Education Teacher for self contained class of 4th-6th graders &lt;/li&gt;&lt;li&gt;Avon...</td>\n",
       "    </tr>\n",
       "    <tr>\n",
       "      <th>239</th>\n",
       "      <td>Licensed Practical Nurse</td>\n",
       "      <td>Licensed Practical Nurse (LPN)</td>\n",
       "      <td>&lt;p style=\"margin: 0px; text-align: center;\"&gt;&lt;span style=\"font-family: calibri, sans-serif; color: #000000;\"&gt;&lt;strong&gt;&lt;span style=\"font-size: 12pt;\"&gt;Correctional healthcare is not just a job. It&amp;rsquo;s a calling.&lt;/span&gt;&lt;/strong&gt;&lt;/span&gt;&lt;/p&gt;&lt;p style=\"margin: 0px;\"&gt;&amp;nbsp;&lt;/p&gt;&lt;p style=\"margin: 0px;\"&gt;...</td>\n",
       "    </tr>\n",
       "    <tr>\n",
       "      <th>1844</th>\n",
       "      <td>CSR</td>\n",
       "      <td>Sales Representative</td>\n",
       "      <td>Dulux, a PPG Sales Associate Job Posting PPG company: We protect and beautify the world. &lt;br&gt; At PPG, we work every day to develop and deliver the paints, coatings and materials that our customers have trusted for more than 130 years. Through dedication and creativity, we solve our customers’ bi...</td>\n",
       "    </tr>\n",
       "    <tr>\n",
       "      <th>26829</th>\n",
       "      <td>Warehouse Package Handler</td>\n",
       "      <td>Packager</td>\n",
       "      <td>&lt;strong&gt;Auto req ID:&lt;/strong&gt; 287592BR&lt;br&gt;&lt;strong&gt;Job Summary&lt;/strong&gt;&lt;/h2&gt;&lt;p&gt;FedEx Ground is an essential business that needs people to help us support the economy, handling life-saving medications and other items that keep our communities as prepared as possible during these uncertain times.&lt;b...</td>\n",
       "    </tr>\n",
       "    <tr>\n",
       "      <th>6579</th>\n",
       "      <td>Cargo Services Duty Manager - ATL</td>\n",
       "      <td>Customer Service Manager</td>\n",
       "      <td>&lt;br&gt; Responsible for the day-to-day safe and efficient operation of cargo operations while ensuring customer service standards and contractual services are met.&lt;/p&gt; &lt;/p&gt; Job Responsibilities&lt;/p&gt; &lt;/p&gt; Effectively manages staff time to reduce dependence on overtime &lt;/li&gt; Ensures applicable safety ...</td>\n",
       "    </tr>\n",
       "  </tbody>\n",
       "</table>\n",
       "</div>"
      ],
      "text/plain": [
       "                         ExtJobTitleText                        JobTitle  \\\n",
       "1971    School Special Education Teacher       Special Education Teacher   \n",
       "239             Licensed Practical Nurse  Licensed Practical Nurse (LPN)   \n",
       "1844                                 CSR            Sales Representative   \n",
       "26829          Warehouse Package Handler                        Packager   \n",
       "6579   Cargo Services Duty Manager - ATL        Customer Service Manager   \n",
       "\n",
       "                                                                                                                                                                                                                                                                                                       Description  \n",
       "1971   </h2> <strong>Special Education Teacher for elementary school </strong></p>Join our Pediatric School Based Team, and use your passion for Special Education to help make a difference in a child’s life! </p><ul><li>Special Education Teacher for self contained class of 4th-6th graders </li><li>Avon...  \n",
       "239    <p style=\"margin: 0px; text-align: center;\"><span style=\"font-family: calibri, sans-serif; color: #000000;\"><strong><span style=\"font-size: 12pt;\">Correctional healthcare is not just a job. It&rsquo;s a calling.</span></strong></span></p><p style=\"margin: 0px;\">&nbsp;</p><p style=\"margin: 0px;\">...  \n",
       "1844   Dulux, a PPG Sales Associate Job Posting PPG company: We protect and beautify the world. <br> At PPG, we work every day to develop and deliver the paints, coatings and materials that our customers have trusted for more than 130 years. Through dedication and creativity, we solve our customers’ bi...  \n",
       "26829  <strong>Auto req ID:</strong> 287592BR<br><strong>Job Summary</strong></h2><p>FedEx Ground is an essential business that needs people to help us support the economy, handling life-saving medications and other items that keep our communities as prepared as possible during these uncertain times.<b...  \n",
       "6579   <br> Responsible for the day-to-day safe and efficient operation of cargo operations while ensuring customer service standards and contractual services are met.</p> </p> Job Responsibilities</p> </p> Effectively manages staff time to reduce dependence on overtime </li> Ensures applicable safety ...  "
      ]
     },
     "execution_count": 29,
     "metadata": {},
     "output_type": "execute_result"
    }
   ],
   "source": [
    "df.sample(5)"
   ]
  },
  {
   "cell_type": "markdown",
   "id": "190fdfd1-d381-438d-ae4b-debcd09279d7",
   "metadata": {},
   "source": [
    "The Description column is full of html tags so we want to get rid of those and make the column more readble"
   ]
  },
  {
   "cell_type": "code",
   "execution_count": 81,
   "id": "ad035422-7234-4193-b0c1-fc6ad3058bd2",
   "metadata": {},
   "outputs": [],
   "source": [
    "# Apply a first round of text cleaning techniques\n",
    "# pip install nltk\n",
    "import nltk\n",
    "# nltk.download('stopwords')\n",
    "# nltk.download('wordnet')\n",
    "# from nltk.corpus import stopwords\n",
    "\n",
    "import re\n",
    "import string\n",
    "from nltk.corpus import stopwords \n",
    "from bs4 import BeautifulSoup\n",
    "\n",
    "def text_process(text):\n",
    "    \"\"\"\n",
    "    1. make text lowercase\n",
    "    2. remove html tags\n",
    "    3. remove punctuation \n",
    "    4. remove words containing numbers\n",
    "    5. return set of clean text words\n",
    "    \"\"\"\n",
    "    \n",
    "    text = text.lower()\n",
    "    text = re.sub('<.*?>', ' ', text)\n",
    "    text = BeautifulSoup(text).get_text()\n",
    "    text = re.sub('\\w*\\d\\w*', ' ', text)\n",
    "    text = re.sub('[%s]' % re.escape(string.punctuation), ' ', text)\n",
    "    text = [word for word in text.split() if word.lower() not in stopwords.words('english')] \n",
    "    text = list(set(text))\n",
    "    \n",
    "    return text\n",
    "\n",
    "round1 = lambda x: text_process(x)"
   ]
  },
  {
   "cell_type": "code",
   "execution_count": 82,
   "id": "c360a4fe-754c-4ba9-bbfd-758106677b1e",
   "metadata": {},
   "outputs": [
    {
     "data": {
      "text/plain": [
       "['i', 'me', 'my', 'myself', 'we', 'our', 'ours', 'ourselves', 'you', \"you're\"]"
      ]
     },
     "execution_count": 82,
     "metadata": {},
     "output_type": "execute_result"
    }
   ],
   "source": [
    "stopwords.words('english')[0:10]"
   ]
  },
  {
   "cell_type": "code",
   "execution_count": 83,
   "id": "ec8a6fc4-c7d1-4e87-93aa-e0af317ae309",
   "metadata": {},
   "outputs": [
    {
     "data": {
      "text/html": [
       "<div>\n",
       "<style scoped>\n",
       "    .dataframe tbody tr th:only-of-type {\n",
       "        vertical-align: middle;\n",
       "    }\n",
       "\n",
       "    .dataframe tbody tr th {\n",
       "        vertical-align: top;\n",
       "    }\n",
       "\n",
       "    .dataframe thead th {\n",
       "        text-align: right;\n",
       "    }\n",
       "</style>\n",
       "<table border=\"1\" class=\"dataframe\">\n",
       "  <thead>\n",
       "    <tr style=\"text-align: right;\">\n",
       "      <th></th>\n",
       "      <th>ExtJobTitleText</th>\n",
       "      <th>JobTitle</th>\n",
       "      <th>Description</th>\n",
       "      <th>Desc</th>\n",
       "    </tr>\n",
       "  </thead>\n",
       "  <tbody>\n",
       "    <tr>\n",
       "      <th>0</th>\n",
       "      <td>Business Development Center Agent</td>\n",
       "      <td>Medical Scientist</td>\n",
       "      <td>For generations, the Landers family has been in the car business.&lt;br/&gt;Steve Landers Chrysler Dodge Jeep continues to build its brand on family val...</td>\n",
       "      <td>[skills, work, requests, number, accident, must, urgency, serving, life, pre, high, check, long, information, plus, submit, minimal, landers, visi...</td>\n",
       "    </tr>\n",
       "    <tr>\n",
       "      <th>1</th>\n",
       "      <td>Technician I</td>\n",
       "      <td>Automotive Technician</td>\n",
       "      <td>&lt;div class=\"earcu_posdescriptionContainer\"&gt;&lt;div class=\"earcu_posdescription\"&gt;&lt;div class=\"earcu_posdescriptionnote\"&gt;&lt;p&gt;Avis Budget Group is an acti...</td>\n",
       "      <td>[skills, work, needed, manager, shops, hiring, number, accordance, must, guarantee, current, developed, competitive, high, maintain, b, tools, inf...</td>\n",
       "    </tr>\n",
       "    <tr>\n",
       "      <th>2</th>\n",
       "      <td>RN or LPN Clinic Nurse, Urology</td>\n",
       "      <td>Nurse Practitioner (NP)</td>\n",
       "      <td>&lt;p&gt;&lt;strong&gt;Position:&lt;/strong&gt; Licensed Practical Nurse or Register Nurse&lt;/p&gt; &lt;p&gt;&lt;strong&gt;Department&lt;/strong&gt;: Urology Clinic&lt;/p&gt; &lt;p&gt;&lt;strong&gt;Status&lt;...</td>\n",
       "      <td>[skills, deadline, practical, maintaining, genitourinary, department, ft, working, current, patients, knowledge, setting, monday, providers, pract...</td>\n",
       "    </tr>\n",
       "    <tr>\n",
       "      <th>3</th>\n",
       "      <td>Service Technician</td>\n",
       "      <td>Automotive Technician</td>\n",
       "      <td>Service Technician &lt;br/&gt;  Every employee with Starling Chevrolet is absolutely critical to its success.&lt;br/&gt;Our rapid growth and fast-paced enviro...</td>\n",
       "      <td>[skills, work, needed, specifications, accordance, diagnostic, must, drive, life, specified, check, tools, employees, submit, screen, vision, holi...</td>\n",
       "    </tr>\n",
       "    <tr>\n",
       "      <th>4</th>\n",
       "      <td>Mechanic Tech A</td>\n",
       "      <td>Automotive Technician</td>\n",
       "      <td>&lt;div class=\"earcu_posdescriptionContainer\"&gt;&lt;div class=\"earcu_posdescription\"&gt;&lt;div class=\"earcu_posdescriptionnote\"&gt;&lt;p&gt;Avis Budget Group is an acti...</td>\n",
       "      <td>[skills, work, needed, manager, braking, shops, resource, hiring, number, accordance, must, guarantee, current, developed, competitive, high, main...</td>\n",
       "    </tr>\n",
       "  </tbody>\n",
       "</table>\n",
       "</div>"
      ],
      "text/plain": [
       "                     ExtJobTitleText                 JobTitle  \\\n",
       "0  Business Development Center Agent        Medical Scientist   \n",
       "1                       Technician I    Automotive Technician   \n",
       "2    RN or LPN Clinic Nurse, Urology  Nurse Practitioner (NP)   \n",
       "3                 Service Technician    Automotive Technician   \n",
       "4                    Mechanic Tech A    Automotive Technician   \n",
       "\n",
       "                                                                                                                                             Description  \\\n",
       "0  For generations, the Landers family has been in the car business.<br/>Steve Landers Chrysler Dodge Jeep continues to build its brand on family val...   \n",
       "1  <div class=\"earcu_posdescriptionContainer\"><div class=\"earcu_posdescription\"><div class=\"earcu_posdescriptionnote\"><p>Avis Budget Group is an acti...   \n",
       "2  <p><strong>Position:</strong> Licensed Practical Nurse or Register Nurse</p> <p><strong>Department</strong>: Urology Clinic</p> <p><strong>Status<...   \n",
       "3  Service Technician <br/>  Every employee with Starling Chevrolet is absolutely critical to its success.<br/>Our rapid growth and fast-paced enviro...   \n",
       "4  <div class=\"earcu_posdescriptionContainer\"><div class=\"earcu_posdescription\"><div class=\"earcu_posdescriptionnote\"><p>Avis Budget Group is an acti...   \n",
       "\n",
       "                                                                                                                                                    Desc  \n",
       "0  [skills, work, requests, number, accident, must, urgency, serving, life, pre, high, check, long, information, plus, submit, minimal, landers, visi...  \n",
       "1  [skills, work, needed, manager, shops, hiring, number, accordance, must, guarantee, current, developed, competitive, high, maintain, b, tools, inf...  \n",
       "2  [skills, deadline, practical, maintaining, genitourinary, department, ft, working, current, patients, knowledge, setting, monday, providers, pract...  \n",
       "3  [skills, work, needed, specifications, accordance, diagnostic, must, drive, life, specified, check, tools, employees, submit, screen, vision, holi...  \n",
       "4  [skills, work, needed, manager, braking, shops, resource, hiring, number, accordance, must, guarantee, current, developed, competitive, high, main...  "
      ]
     },
     "execution_count": 83,
     "metadata": {},
     "output_type": "execute_result"
    }
   ],
   "source": [
    "df['Desc'] = pd.DataFrame(df.Description.apply(round1))\n",
    "df.head()"
   ]
  },
  {
   "cell_type": "code",
   "execution_count": 84,
   "id": "3e66ea19-acee-4266-b4ad-7c9f0c5f2b06",
   "metadata": {},
   "outputs": [],
   "source": [
    "df['DescLength'] = df.Desc.apply(len)\n",
    "df['DescriptionLength'] = df.Description.apply(len)"
   ]
  },
  {
   "cell_type": "code",
   "execution_count": 85,
   "id": "45d00acd-2aeb-4b60-88e4-9339edf1d4ef",
   "metadata": {},
   "outputs": [
    {
     "data": {
      "image/png": "[encoded data removed]",
      "text/plain": [
       "<Figure size 1440x432 with 2 Axes>"
      ]
     },
     "metadata": {},
     "output_type": "display_data"
    }
   ],
   "source": [
    "fig, axes = plt.subplots(1,2, figsize=(20,6))\n",
    "\n",
    "# both subplots title\n",
    "fig.suptitle('Description Length')\n",
    "\n",
    "# plot1 object\n",
    "sns.histplot(df['DescriptionLength'],ax=axes[0])\n",
    "axes[0].set_title('Description Length histogram (before cleaning)')\n",
    "\n",
    "# plot2 object\n",
    "sns.histplot(df['DescLength'],ax=axes[1])\n",
    "axes[1].set_title('Description Length histogram (after cleaning)')\n",
    "\n",
    "# show plot\n",
    "plt.show()"
   ]
  },
  {
   "cell_type": "code",
   "execution_count": 85,
   "id": "6663a8f8-8571-424f-83a7-6656393b203a",
   "metadata": {},
   "outputs": [
    {
     "data": {
      "image/png": "[encoded data removed]",
      "text/plain": [
       "<Figure size 1440x432 with 2 Axes>"
      ]
     },
     "metadata": {},
     "output_type": "display_data"
    }
   ],
   "source": [
    "fig, axes = plt.subplots(1,2, figsize=(20,6))\n",
    "\n",
    "# both subplots title\n",
    "fig.suptitle('Description Length')\n",
    "\n",
    "# plot1 object\n",
    "sns.histplot(df['DescriptionLength'],ax=axes[0])\n",
    "axes[0].set_title('Description Length histogram (before cleaning)')\n",
    "\n",
    "# plot2 object\n",
    "sns.histplot(df['DescLength'],ax=axes[1])\n",
    "axes[1].set_title('Description Length histogram (after cleaning)')\n",
    "\n",
    "# show plot\n",
    "plt.show()"
   ]
  },
  {
   "cell_type": "code",
   "execution_count": 86,
   "id": "42aa45ec-40e3-49b7-8eaa-e2a364dc8260",
   "metadata": {},
   "outputs": [
    {
     "data": {
      "text/html": [
       "<div>\n",
       "<style scoped>\n",
       "    .dataframe tbody tr th:only-of-type {\n",
       "        vertical-align: middle;\n",
       "    }\n",
       "\n",
       "    .dataframe tbody tr th {\n",
       "        vertical-align: top;\n",
       "    }\n",
       "\n",
       "    .dataframe thead th {\n",
       "        text-align: right;\n",
       "    }\n",
       "</style>\n",
       "<table border=\"1\" class=\"dataframe\">\n",
       "  <thead>\n",
       "    <tr style=\"text-align: right;\">\n",
       "      <th></th>\n",
       "      <th>DescLength</th>\n",
       "      <th>DescriptionLength</th>\n",
       "    </tr>\n",
       "  </thead>\n",
       "  <tbody>\n",
       "    <tr>\n",
       "      <th>count</th>\n",
       "      <td>31426.000000</td>\n",
       "      <td>31426.000000</td>\n",
       "    </tr>\n",
       "    <tr>\n",
       "      <th>mean</th>\n",
       "      <td>131.313276</td>\n",
       "      <td>2481.080411</td>\n",
       "    </tr>\n",
       "    <tr>\n",
       "      <th>std</th>\n",
       "      <td>88.886372</td>\n",
       "      <td>2571.633684</td>\n",
       "    </tr>\n",
       "    <tr>\n",
       "      <th>min</th>\n",
       "      <td>0.000000</td>\n",
       "      <td>7.000000</td>\n",
       "    </tr>\n",
       "    <tr>\n",
       "      <th>25%</th>\n",
       "      <td>45.000000</td>\n",
       "      <td>512.000000</td>\n",
       "    </tr>\n",
       "    <tr>\n",
       "      <th>50%</th>\n",
       "      <td>121.000000</td>\n",
       "      <td>1983.000000</td>\n",
       "    </tr>\n",
       "    <tr>\n",
       "      <th>75%</th>\n",
       "      <td>184.000000</td>\n",
       "      <td>3269.000000</td>\n",
       "    </tr>\n",
       "    <tr>\n",
       "      <th>max</th>\n",
       "      <td>713.000000</td>\n",
       "      <td>109550.000000</td>\n",
       "    </tr>\n",
       "  </tbody>\n",
       "</table>\n",
       "</div>"
      ],
      "text/plain": [
       "         DescLength  DescriptionLength\n",
       "count  31426.000000       31426.000000\n",
       "mean     131.313276        2481.080411\n",
       "std       88.886372        2571.633684\n",
       "min        0.000000           7.000000\n",
       "25%       45.000000         512.000000\n",
       "50%      121.000000        1983.000000\n",
       "75%      184.000000        3269.000000\n",
       "max      713.000000      109550.000000"
      ]
     },
     "execution_count": 86,
     "metadata": {},
     "output_type": "execute_result"
    }
   ],
   "source": [
    "df.describe()"
   ]
  },
  {
   "cell_type": "code",
   "execution_count": 86,
   "id": "1234d7e0-e9cc-406d-9a1c-811f69dc8711",
   "metadata": {},
   "outputs": [
    {
     "data": {
      "text/html": [
       "<div>\n",
       "<style scoped>\n",
       "    .dataframe tbody tr th:only-of-type {\n",
       "        vertical-align: middle;\n",
       "    }\n",
       "\n",
       "    .dataframe tbody tr th {\n",
       "        vertical-align: top;\n",
       "    }\n",
       "\n",
       "    .dataframe thead th {\n",
       "        text-align: right;\n",
       "    }\n",
       "</style>\n",
       "<table border=\"1\" class=\"dataframe\">\n",
       "  <thead>\n",
       "    <tr style=\"text-align: right;\">\n",
       "      <th></th>\n",
       "      <th>DescLength</th>\n",
       "      <th>DescriptionLength</th>\n",
       "    </tr>\n",
       "  </thead>\n",
       "  <tbody>\n",
       "    <tr>\n",
       "      <th>count</th>\n",
       "      <td>31426.000000</td>\n",
       "      <td>31426.000000</td>\n",
       "    </tr>\n",
       "    <tr>\n",
       "      <th>mean</th>\n",
       "      <td>131.313276</td>\n",
       "      <td>2481.080411</td>\n",
       "    </tr>\n",
       "    <tr>\n",
       "      <th>std</th>\n",
       "      <td>88.886372</td>\n",
       "      <td>2571.633684</td>\n",
       "    </tr>\n",
       "    <tr>\n",
       "      <th>min</th>\n",
       "      <td>0.000000</td>\n",
       "      <td>7.000000</td>\n",
       "    </tr>\n",
       "    <tr>\n",
       "      <th>25%</th>\n",
       "      <td>45.000000</td>\n",
       "      <td>512.000000</td>\n",
       "    </tr>\n",
       "    <tr>\n",
       "      <th>50%</th>\n",
       "      <td>121.000000</td>\n",
       "      <td>1983.000000</td>\n",
       "    </tr>\n",
       "    <tr>\n",
       "      <th>75%</th>\n",
       "      <td>184.000000</td>\n",
       "      <td>3269.000000</td>\n",
       "    </tr>\n",
       "    <tr>\n",
       "      <th>max</th>\n",
       "      <td>713.000000</td>\n",
       "      <td>109550.000000</td>\n",
       "    </tr>\n",
       "  </tbody>\n",
       "</table>\n",
       "</div>"
      ],
      "text/plain": [
       "         DescLength  DescriptionLength\n",
       "count  31426.000000       31426.000000\n",
       "mean     131.313276        2481.080411\n",
       "std       88.886372        2571.633684\n",
       "min        0.000000           7.000000\n",
       "25%       45.000000         512.000000\n",
       "50%      121.000000        1983.000000\n",
       "75%      184.000000        3269.000000\n",
       "max      713.000000      109550.000000"
      ]
     },
     "execution_count": 86,
     "metadata": {},
     "output_type": "execute_result"
    }
   ],
   "source": [
    "df.describe()"
   ]
  },
  {
   "cell_type": "code",
   "execution_count": 87,
   "id": "1af9e2ff-a8c3-4eef-ae19-46e12819106a",
   "metadata": {},
   "outputs": [
    {
     "data": {
      "text/html": [
       "<div>\n",
       "<style scoped>\n",
       "    .dataframe tbody tr th:only-of-type {\n",
       "        vertical-align: middle;\n",
       "    }\n",
       "\n",
       "    .dataframe tbody tr th {\n",
       "        vertical-align: top;\n",
       "    }\n",
       "\n",
       "    .dataframe thead th {\n",
       "        text-align: right;\n",
       "    }\n",
       "</style>\n",
       "<table border=\"1\" class=\"dataframe\">\n",
       "  <thead>\n",
       "    <tr style=\"text-align: right;\">\n",
       "      <th></th>\n",
       "      <th>ExtJobTitleText</th>\n",
       "      <th>JobTitle</th>\n",
       "      <th>Description</th>\n",
       "      <th>Desc</th>\n",
       "      <th>DescLength</th>\n",
       "      <th>DescriptionLength</th>\n",
       "    </tr>\n",
       "  </thead>\n",
       "  <tbody>\n",
       "    <tr>\n",
       "      <th>7418</th>\n",
       "      <td>CDL Class A Driver | Paid Weekly | Valencia CA</td>\n",
       "      <td>Pick Up and Delivery Driver</td>\n",
       "      <td>#ont123</td>\n",
       "      <td>[]</td>\n",
       "      <td>0</td>\n",
       "      <td>7</td>\n",
       "    </tr>\n",
       "    <tr>\n",
       "      <th>7811</th>\n",
       "      <td>Local CDL A Truck Driver | Home Daily | Albuquerque NM</td>\n",
       "      <td>Pick Up and Delivery Driver</td>\n",
       "      <td>#phx123</td>\n",
       "      <td>[]</td>\n",
       "      <td>0</td>\n",
       "      <td>7</td>\n",
       "    </tr>\n",
       "    <tr>\n",
       "      <th>26166</th>\n",
       "      <td>Maintenance Mechanic</td>\n",
       "      <td>Maintenance Mechanic</td>\n",
       "      <td>&lt;html&gt;&lt;body&gt;&lt;/body&gt;&lt;/html&gt;</td>\n",
       "      <td>[]</td>\n",
       "      <td>0</td>\n",
       "      <td>26</td>\n",
       "    </tr>\n",
       "    <tr>\n",
       "      <th>27547</th>\n",
       "      <td>Mi Sourcing</td>\n",
       "      <td>0000</td>\n",
       "      <td>&lt;p&gt;&lt;br/&gt;&lt;/p&gt;</td>\n",
       "      <td>[]</td>\n",
       "      <td>0</td>\n",
       "      <td>12</td>\n",
       "    </tr>\n",
       "    <tr>\n",
       "      <th>27898</th>\n",
       "      <td>CDL Drivers</td>\n",
       "      <td>Class A Driver</td>\n",
       "      <td>&lt;div class=\"MSWordContent\" style=\"display: inline;\"&gt;&lt;div class=\"MSWordContent\" style=\"display: inline;\"&gt;&lt;div class=\"OutlineElement Ltr SCXW1350165...</td>\n",
       "      <td>[]</td>\n",
       "      <td>0</td>\n",
       "      <td>512</td>\n",
       "    </tr>\n",
       "  </tbody>\n",
       "</table>\n",
       "</div>"
      ],
      "text/plain": [
       "                                              ExtJobTitleText  \\\n",
       "7418           CDL Class A Driver | Paid Weekly | Valencia CA   \n",
       "7811   Local CDL A Truck Driver | Home Daily | Albuquerque NM   \n",
       "26166                                    Maintenance Mechanic   \n",
       "27547                                             Mi Sourcing   \n",
       "27898                                             CDL Drivers   \n",
       "\n",
       "                          JobTitle  \\\n",
       "7418   Pick Up and Delivery Driver   \n",
       "7811   Pick Up and Delivery Driver   \n",
       "26166         Maintenance Mechanic   \n",
       "27547                         0000   \n",
       "27898               Class A Driver   \n",
       "\n",
       "                                                                                                                                                 Description  \\\n",
       "7418                                                                                                                                                 #ont123   \n",
       "7811                                                                                                                                                 #phx123   \n",
       "26166                                                                                                                             <html><body></body></html>   \n",
       "27547                                                                                                                                           <p><br/></p>   \n",
       "27898  <div class=\"MSWordContent\" style=\"display: inline;\"><div class=\"MSWordContent\" style=\"display: inline;\"><div class=\"OutlineElement Ltr SCXW1350165...   \n",
       "\n",
       "      Desc  DescLength  DescriptionLength  \n",
       "7418    []           0                  7  \n",
       "7811    []           0                  7  \n",
       "26166   []           0                 26  \n",
       "27547   []           0                 12  \n",
       "27898   []           0                512  "
      ]
     },
     "execution_count": 87,
     "metadata": {},
     "output_type": "execute_result"
    }
   ],
   "source": [
    "df[df.DescLength <=0]"
   ]
  },
  {
   "cell_type": "code",
   "execution_count": 87,
   "id": "e59858c6-193d-4c60-af1d-7540a79cd680",
   "metadata": {},
   "outputs": [
    {
     "data": {
      "text/html": [
       "<div>\n",
       "<style scoped>\n",
       "    .dataframe tbody tr th:only-of-type {\n",
       "        vertical-align: middle;\n",
       "    }\n",
       "\n",
       "    .dataframe tbody tr th {\n",
       "        vertical-align: top;\n",
       "    }\n",
       "\n",
       "    .dataframe thead th {\n",
       "        text-align: right;\n",
       "    }\n",
       "</style>\n",
       "<table border=\"1\" class=\"dataframe\">\n",
       "  <thead>\n",
       "    <tr style=\"text-align: right;\">\n",
       "      <th></th>\n",
       "      <th>ExtJobTitleText</th>\n",
       "      <th>JobTitle</th>\n",
       "      <th>Description</th>\n",
       "      <th>Desc</th>\n",
       "      <th>DescLength</th>\n",
       "      <th>DescriptionLength</th>\n",
       "    </tr>\n",
       "  </thead>\n",
       "  <tbody>\n",
       "    <tr>\n",
       "      <th>7418</th>\n",
       "      <td>CDL Class A Driver | Paid Weekly | Valencia CA</td>\n",
       "      <td>Pick Up and Delivery Driver</td>\n",
       "      <td>#ont123</td>\n",
       "      <td>[]</td>\n",
       "      <td>0</td>\n",
       "      <td>7</td>\n",
       "    </tr>\n",
       "    <tr>\n",
       "      <th>7811</th>\n",
       "      <td>Local CDL A Truck Driver | Home Daily | Albuquerque NM</td>\n",
       "      <td>Pick Up and Delivery Driver</td>\n",
       "      <td>#phx123</td>\n",
       "      <td>[]</td>\n",
       "      <td>0</td>\n",
       "      <td>7</td>\n",
       "    </tr>\n",
       "    <tr>\n",
       "      <th>26166</th>\n",
       "      <td>Maintenance Mechanic</td>\n",
       "      <td>Maintenance Mechanic</td>\n",
       "      <td>&lt;html&gt;&lt;body&gt;&lt;/body&gt;&lt;/html&gt;</td>\n",
       "      <td>[]</td>\n",
       "      <td>0</td>\n",
       "      <td>26</td>\n",
       "    </tr>\n",
       "    <tr>\n",
       "      <th>27547</th>\n",
       "      <td>Mi Sourcing</td>\n",
       "      <td>0000</td>\n",
       "      <td>&lt;p&gt;&lt;br/&gt;&lt;/p&gt;</td>\n",
       "      <td>[]</td>\n",
       "      <td>0</td>\n",
       "      <td>12</td>\n",
       "    </tr>\n",
       "    <tr>\n",
       "      <th>27898</th>\n",
       "      <td>CDL Drivers</td>\n",
       "      <td>Class A Driver</td>\n",
       "      <td>&lt;div class=\"MSWordContent\" style=\"display: inline;\"&gt;&lt;div class=\"MSWordContent\" style=\"display: inline;\"&gt;&lt;div class=\"OutlineElement Ltr SCXW1350165...</td>\n",
       "      <td>[]</td>\n",
       "      <td>0</td>\n",
       "      <td>512</td>\n",
       "    </tr>\n",
       "  </tbody>\n",
       "</table>\n",
       "</div>"
      ],
      "text/plain": [
       "                                              ExtJobTitleText  \\\n",
       "7418           CDL Class A Driver | Paid Weekly | Valencia CA   \n",
       "7811   Local CDL A Truck Driver | Home Daily | Albuquerque NM   \n",
       "26166                                    Maintenance Mechanic   \n",
       "27547                                             Mi Sourcing   \n",
       "27898                                             CDL Drivers   \n",
       "\n",
       "                          JobTitle  \\\n",
       "7418   Pick Up and Delivery Driver   \n",
       "7811   Pick Up and Delivery Driver   \n",
       "26166         Maintenance Mechanic   \n",
       "27547                         0000   \n",
       "27898               Class A Driver   \n",
       "\n",
       "                                                                                                                                                 Description  \\\n",
       "7418                                                                                                                                                 #ont123   \n",
       "7811                                                                                                                                                 #phx123   \n",
       "26166                                                                                                                             <html><body></body></html>   \n",
       "27547                                                                                                                                           <p><br/></p>   \n",
       "27898  <div class=\"MSWordContent\" style=\"display: inline;\"><div class=\"MSWordContent\" style=\"display: inline;\"><div class=\"OutlineElement Ltr SCXW1350165...   \n",
       "\n",
       "      Desc  DescLength  DescriptionLength  \n",
       "7418    []           0                  7  \n",
       "7811    []           0                  7  \n",
       "26166   []           0                 26  \n",
       "27547   []           0                 12  \n",
       "27898   []           0                512  "
      ]
     },
     "execution_count": 87,
     "metadata": {},
     "output_type": "execute_result"
    }
   ],
   "source": [
    "df[df.DescLength <=0]"
   ]
  },
  {
   "cell_type": "code",
   "execution_count": 88,
   "id": "fe906d83-b4bb-4bff-951c-1392d54e56d7",
   "metadata": {},
   "outputs": [],
   "source": [
    "df = df[df.DescLength > 0]"
   ]
  },
  {
   "cell_type": "code",
   "execution_count": 88,
   "id": "f003d788-d064-4813-968e-8c629a117a86",
   "metadata": {},
   "outputs": [],
   "source": [
    "df = df[df.DescLength > 0]"
   ]
  },
  {
   "cell_type": "code",
   "execution_count": 89,
   "id": "0098d117-32b2-4a2e-be71-659c943c1089",
   "metadata": {},
   "outputs": [
    {
     "data": {
      "text/html": [
       "<div>\n",
       "<style scoped>\n",
       "    .dataframe tbody tr th:only-of-type {\n",
       "        vertical-align: middle;\n",
       "    }\n",
       "\n",
       "    .dataframe tbody tr th {\n",
       "        vertical-align: top;\n",
       "    }\n",
       "\n",
       "    .dataframe thead th {\n",
       "        text-align: right;\n",
       "    }\n",
       "</style>\n",
       "<table border=\"1\" class=\"dataframe\">\n",
       "  <thead>\n",
       "    <tr style=\"text-align: right;\">\n",
       "      <th></th>\n",
       "      <th>ExtJobTitleText</th>\n",
       "      <th>JobTitle</th>\n",
       "      <th>Description</th>\n",
       "      <th>Desc</th>\n",
       "      <th>DescLength</th>\n",
       "      <th>DescriptionLength</th>\n",
       "    </tr>\n",
       "  </thead>\n",
       "  <tbody>\n",
       "    <tr>\n",
       "      <th>13</th>\n",
       "      <td>Independent Operator</td>\n",
       "      <td>0000</td>\n",
       "      <td>&lt;div class=\"earcu_posdescriptionContainer\"&gt;&lt;div class=\"earcu_posdescription\"&gt;&lt;div class=\"earcu_posdescriptionnote\"&gt;&lt;p&gt;&lt;strong&gt;DRIVE YOUR OWN BUSIN...</td>\n",
       "      <td>[work, goal, franchise, cars, must, operation, drive, boss, takes, maintain, posting, supporting, employees, submit, travel, description, group, o...</td>\n",
       "      <td>137</td>\n",
       "      <td>2943</td>\n",
       "    </tr>\n",
       "    <tr>\n",
       "      <th>47</th>\n",
       "      <td>Behavioral Health Activity Therapist</td>\n",
       "      <td>0000</td>\n",
       "      <td>&lt;p style=\"margin: 0in 0in 8pt;\"&gt;&lt;span style=\"font-family: 'Verdana',sans-serif; font-size: 9pt;\"&gt;At Corizon Health, we share a common bond to deli...</td>\n",
       "      <td>[work, difference, life, check, may, levels, vision, help, clearance, early, choose, field, share, inmate, development, least, take, humanity, wel...</td>\n",
       "      <td>153</td>\n",
       "      <td>3465</td>\n",
       "    </tr>\n",
       "    <tr>\n",
       "      <th>255</th>\n",
       "      <td>Family Medicine NP/PA - Locum Tenens - Southern California</td>\n",
       "      <td>0000</td>\n",
       "      <td>&lt;p&gt;&lt;span style=\"font-size:14px\"&gt;Locums FP NP/PA  need at a clinic 2 hours East of San Diego for the dates of 12/23 - 1/3&lt;/span&gt;&lt;/p&gt;\\n\\n&lt;ul&gt;\\n\\t&lt;li...</td>\n",
       "      <td>[credentialing, emr, pecos, fp, md, must, alumni, practice, need, availability, nalto, hours, travel, member, expenses, rated, pa, f, staff, direc...</td>\n",
       "      <td>42</td>\n",
       "      <td>1029</td>\n",
       "    </tr>\n",
       "    <tr>\n",
       "      <th>261</th>\n",
       "      <td>Physician Only - Maternal Fetal Medicine Locums Need with NYC Hospital - Part-Time - $2k Per Day</td>\n",
       "      <td>0000</td>\n",
       "      <td>&lt;p&gt;&lt;strong&gt;&lt;u&gt;Alumni Healthcare Staffing - &lt;/u&gt;&lt;/strong&gt;&lt;strong&gt;&lt;u&gt;Maternal Fetal Medicine – NYC Locum Tenens:&lt;/u&gt;&lt;/strong&gt;&lt;/p&gt;\\n\\n&lt;ul&gt;\\n\\t&lt;li&gt;&lt;st...</td>\n",
       "      <td>[locum, imaging, credentialing, diagnostic, dopplers, w, umbilical, –, nt, alumni, medicine, per, availability, nalto, travel, fetal, level, membe...</td>\n",
       "      <td>47</td>\n",
       "      <td>727</td>\n",
       "    </tr>\n",
       "    <tr>\n",
       "      <th>262</th>\n",
       "      <td>Full Time ER and Outpatient C/A Psychiatry Locums Need in Connecticut</td>\n",
       "      <td>0000</td>\n",
       "      <td>&lt;p&gt; &lt;/p&gt;\\n\\n&lt;ul&gt;\\n\\t&lt;li&gt;Immediate start date&lt;/li&gt;\\n\\t&lt;li&gt;Must be board certified&lt;/li&gt;\\n\\t&lt;li&gt;M-F&lt;/li&gt;\\n\\t&lt;li&gt;ER and Outpatient Child/Adol&lt;/li&gt;\\n\\t...</td>\n",
       "      <td>[beds, available, date, must, month, er, guaranteed, midlevel, coordinated, nalto, travel, member, rated, service, child, immediate, f, direct, bo...</td>\n",
       "      <td>37</td>\n",
       "      <td>532</td>\n",
       "    </tr>\n",
       "    <tr>\n",
       "      <th>...</th>\n",
       "      <td>...</td>\n",
       "      <td>...</td>\n",
       "      <td>...</td>\n",
       "      <td>...</td>\n",
       "      <td>...</td>\n",
       "      <td>...</td>\n",
       "    </tr>\n",
       "    <tr>\n",
       "      <th>31126</th>\n",
       "      <td>Senior Designer</td>\n",
       "      <td>0000</td>\n",
       "      <td>&lt;br&gt; &lt;/p&gt; Our client is a rapidly-growing agency specializing in developing innovative branding, marketing, and customer experience solutions for ...</td>\n",
       "      <td>[work, impactful, apply, digital, candidates, local, new, person, city, innovative, marketing, onsit, growing, solutions, campaigns, branding, exp...</td>\n",
       "      <td>43</td>\n",
       "      <td>512</td>\n",
       "    </tr>\n",
       "    <tr>\n",
       "      <th>31148</th>\n",
       "      <td>Warehouse Clerical Support</td>\n",
       "      <td>0000</td>\n",
       "      <td>&lt;p&gt;Top Job&lt;/p&gt; &lt;p&gt;Located in Saint Cloud, MN&lt;/p&gt; &lt;p&gt;Salary: $17-$18/hour&lt;/p&gt; &lt;p&gt;&lt;p&gt;Express Employment Professionals is now hiring for &lt;strong&gt;Ware...</td>\n",
       "      <td>[parts, work, local, hiring, ms, working, excel, knowledge, keeping, put, professionals, located, pace, job, prioritizing, bluestem, area, compute...</td>\n",
       "      <td>41</td>\n",
       "      <td>512</td>\n",
       "    </tr>\n",
       "    <tr>\n",
       "      <th>31197</th>\n",
       "      <td>Learning Disabilities Teacher-Consultant - Short Term</td>\n",
       "      <td>0000</td>\n",
       "      <td>&lt;p&gt;&lt;i style=\"font-size: 10pt; font-family: Cambria, serif; color: black;\"&gt;We’re looking for an exceptional &lt;/i&gt;&lt;b style=\"font-size: 10pt; font-fam...</td>\n",
       "      <td>[learning, ldtc, englishtown, exceptional, nove, september, time, we’re, position, consultant, full, looking, nj, teacher, disabilities]</td>\n",
       "      <td>15</td>\n",
       "      <td>512</td>\n",
       "    </tr>\n",
       "    <tr>\n",
       "      <th>31357</th>\n",
       "      <td>Test Job 12</td>\n",
       "      <td>0000</td>\n",
       "      <td>&lt;BR&gt;&lt;BR&gt; Internal ID: a0x3r00000K65b2AAB</td>\n",
       "      <td>[internal, id]</td>\n",
       "      <td>2</td>\n",
       "      <td>40</td>\n",
       "    </tr>\n",
       "    <tr>\n",
       "      <th>31416</th>\n",
       "      <td>Print Support Specialist</td>\n",
       "      <td>0000</td>\n",
       "      <td>&lt;p&gt;&lt;strong&gt;&lt;em&gt;Qualified candidates for this position should be fully vaccinated by 1st day of hire for the Covid virus.&amp;nbsp; Ricoh will evaluate...</td>\n",
       "      <td>[covid, requests, candidates, reasonably, belief, religious, practice, sincerely, fully, ricoh, qualified, accommodate, day, profile, evaluate, si...</td>\n",
       "      <td>29</td>\n",
       "      <td>512</td>\n",
       "    </tr>\n",
       "  </tbody>\n",
       "</table>\n",
       "<p>748 rows × 6 columns</p>\n",
       "</div>"
      ],
      "text/plain": [
       "                                                                                        ExtJobTitleText  \\\n",
       "13                                                                                 Independent Operator   \n",
       "47                                                                 Behavioral Health Activity Therapist   \n",
       "255                                          Family Medicine NP/PA - Locum Tenens - Southern California   \n",
       "261    Physician Only - Maternal Fetal Medicine Locums Need with NYC Hospital - Part-Time - $2k Per Day   \n",
       "262                               Full Time ER and Outpatient C/A Psychiatry Locums Need in Connecticut   \n",
       "...                                                                                                 ...   \n",
       "31126                                                                                   Senior Designer   \n",
       "31148                                                                        Warehouse Clerical Support   \n",
       "31197                                             Learning Disabilities Teacher-Consultant - Short Term   \n",
       "31357                                                                                       Test Job 12   \n",
       "31416                                                                          Print Support Specialist   \n",
       "\n",
       "      JobTitle  \\\n",
       "13        0000   \n",
       "47        0000   \n",
       "255       0000   \n",
       "261       0000   \n",
       "262       0000   \n",
       "...        ...   \n",
       "31126     0000   \n",
       "31148     0000   \n",
       "31197     0000   \n",
       "31357     0000   \n",
       "31416     0000   \n",
       "\n",
       "                                                                                                                                                 Description  \\\n",
       "13     <div class=\"earcu_posdescriptionContainer\"><div class=\"earcu_posdescription\"><div class=\"earcu_posdescriptionnote\"><p><strong>DRIVE YOUR OWN BUSIN...   \n",
       "47     <p style=\"margin: 0in 0in 8pt;\"><span style=\"font-family: 'Verdana',sans-serif; font-size: 9pt;\">At Corizon Health, we share a common bond to deli...   \n",
       "255    <p><span style=\"font-size:14px\">Locums FP NP/PA  need at a clinic 2 hours East of San Diego for the dates of 12/23 - 1/3</span></p>\\n\\n<ul>\\n\\t<li...   \n",
       "261    <p><strong><u>Alumni Healthcare Staffing - </u></strong><strong><u>Maternal Fetal Medicine – NYC Locum Tenens:</u></strong></p>\\n\\n<ul>\\n\\t<li><st...   \n",
       "262    <p> </p>\\n\\n<ul>\\n\\t<li>Immediate start date</li>\\n\\t<li>Must be board certified</li>\\n\\t<li>M-F</li>\\n\\t<li>ER and Outpatient Child/Adol</li>\\n\\t...   \n",
       "...                                                                                                                                                      ...   \n",
       "31126  <br> </p> Our client is a rapidly-growing agency specializing in developing innovative branding, marketing, and customer experience solutions for ...   \n",
       "31148  <p>Top Job</p> <p>Located in Saint Cloud, MN</p> <p>Salary: $17-$18/hour</p> <p><p>Express Employment Professionals is now hiring for <strong>Ware...   \n",
       "31197  <p><i style=\"font-size: 10pt; font-family: Cambria, serif; color: black;\">We’re looking for an exceptional </i><b style=\"font-size: 10pt; font-fam...   \n",
       "31357                                                                                                               <BR><BR> Internal ID: a0x3r00000K65b2AAB   \n",
       "31416  <p><strong><em>Qualified candidates for this position should be fully vaccinated by 1st day of hire for the Covid virus.&nbsp; Ricoh will evaluate...   \n",
       "\n",
       "                                                                                                                                                        Desc  \\\n",
       "13     [work, goal, franchise, cars, must, operation, drive, boss, takes, maintain, posting, supporting, employees, submit, travel, description, group, o...   \n",
       "47     [work, difference, life, check, may, levels, vision, help, clearance, early, choose, field, share, inmate, development, least, take, humanity, wel...   \n",
       "255    [credentialing, emr, pecos, fp, md, must, alumni, practice, need, availability, nalto, hours, travel, member, expenses, rated, pa, f, staff, direc...   \n",
       "261    [locum, imaging, credentialing, diagnostic, dopplers, w, umbilical, –, nt, alumni, medicine, per, availability, nalto, travel, fetal, level, membe...   \n",
       "262    [beds, available, date, must, month, er, guaranteed, midlevel, coordinated, nalto, travel, member, rated, service, child, immediate, f, direct, bo...   \n",
       "...                                                                                                                                                      ...   \n",
       "31126  [work, impactful, apply, digital, candidates, local, new, person, city, innovative, marketing, onsit, growing, solutions, campaigns, branding, exp...   \n",
       "31148  [parts, work, local, hiring, ms, working, excel, knowledge, keeping, put, professionals, located, pace, job, prioritizing, bluestem, area, compute...   \n",
       "31197               [learning, ldtc, englishtown, exceptional, nove, september, time, we’re, position, consultant, full, looking, nj, teacher, disabilities]   \n",
       "31357                                                                                                                                         [internal, id]   \n",
       "31416  [covid, requests, candidates, reasonably, belief, religious, practice, sincerely, fully, ricoh, qualified, accommodate, day, profile, evaluate, si...   \n",
       "\n",
       "       DescLength  DescriptionLength  \n",
       "13            137               2943  \n",
       "47            153               3465  \n",
       "255            42               1029  \n",
       "261            47                727  \n",
       "262            37                532  \n",
       "...           ...                ...  \n",
       "31126          43                512  \n",
       "31148          41                512  \n",
       "31197          15                512  \n",
       "31357           2                 40  \n",
       "31416          29                512  \n",
       "\n",
       "[748 rows x 6 columns]"
      ]
     },
     "execution_count": 89,
     "metadata": {},
     "output_type": "execute_result"
    }
   ],
   "source": [
    "df[df.JobTitle == '0000']"
   ]
  },
  {
   "cell_type": "code",
   "execution_count": 89,
   "id": "1eaef993-c703-48da-a373-76149c23480c",
   "metadata": {},
   "outputs": [
    {
     "data": {
      "text/html": [
       "<div>\n",
       "<style scoped>\n",
       "    .dataframe tbody tr th:only-of-type {\n",
       "        vertical-align: middle;\n",
       "    }\n",
       "\n",
       "    .dataframe tbody tr th {\n",
       "        vertical-align: top;\n",
       "    }\n",
       "\n",
       "    .dataframe thead th {\n",
       "        text-align: right;\n",
       "    }\n",
       "</style>\n",
       "<table border=\"1\" class=\"dataframe\">\n",
       "  <thead>\n",
       "    <tr style=\"text-align: right;\">\n",
       "      <th></th>\n",
       "      <th>ExtJobTitleText</th>\n",
       "      <th>JobTitle</th>\n",
       "      <th>Description</th>\n",
       "      <th>Desc</th>\n",
       "      <th>DescLength</th>\n",
       "      <th>DescriptionLength</th>\n",
       "    </tr>\n",
       "  </thead>\n",
       "  <tbody>\n",
       "    <tr>\n",
       "      <th>13</th>\n",
       "      <td>Independent Operator</td>\n",
       "      <td>0000</td>\n",
       "      <td>&lt;div class=\"earcu_posdescriptionContainer\"&gt;&lt;div class=\"earcu_posdescription\"&gt;&lt;div class=\"earcu_posdescriptionnote\"&gt;&lt;p&gt;&lt;strong&gt;DRIVE YOUR OWN BUSIN...</td>\n",
       "      <td>[work, goal, franchise, cars, must, operation, drive, boss, takes, maintain, posting, supporting, employees, submit, travel, description, group, o...</td>\n",
       "      <td>137</td>\n",
       "      <td>2943</td>\n",
       "    </tr>\n",
       "    <tr>\n",
       "      <th>47</th>\n",
       "      <td>Behavioral Health Activity Therapist</td>\n",
       "      <td>0000</td>\n",
       "      <td>&lt;p style=\"margin: 0in 0in 8pt;\"&gt;&lt;span style=\"font-family: 'Verdana',sans-serif; font-size: 9pt;\"&gt;At Corizon Health, we share a common bond to deli...</td>\n",
       "      <td>[work, difference, life, check, may, levels, vision, help, clearance, early, choose, field, share, inmate, development, least, take, humanity, wel...</td>\n",
       "      <td>153</td>\n",
       "      <td>3465</td>\n",
       "    </tr>\n",
       "    <tr>\n",
       "      <th>255</th>\n",
       "      <td>Family Medicine NP/PA - Locum Tenens - Southern California</td>\n",
       "      <td>0000</td>\n",
       "      <td>&lt;p&gt;&lt;span style=\"font-size:14px\"&gt;Locums FP NP/PA  need at a clinic 2 hours East of San Diego for the dates of 12/23 - 1/3&lt;/span&gt;&lt;/p&gt;\\n\\n&lt;ul&gt;\\n\\t&lt;li...</td>\n",
       "      <td>[credentialing, emr, pecos, fp, md, must, alumni, practice, need, availability, nalto, hours, travel, member, expenses, rated, pa, f, staff, direc...</td>\n",
       "      <td>42</td>\n",
       "      <td>1029</td>\n",
       "    </tr>\n",
       "    <tr>\n",
       "      <th>261</th>\n",
       "      <td>Physician Only - Maternal Fetal Medicine Locums Need with NYC Hospital - Part-Time - $2k Per Day</td>\n",
       "      <td>0000</td>\n",
       "      <td>&lt;p&gt;&lt;strong&gt;&lt;u&gt;Alumni Healthcare Staffing - &lt;/u&gt;&lt;/strong&gt;&lt;strong&gt;&lt;u&gt;Maternal Fetal Medicine – NYC Locum Tenens:&lt;/u&gt;&lt;/strong&gt;&lt;/p&gt;\\n\\n&lt;ul&gt;\\n\\t&lt;li&gt;&lt;st...</td>\n",
       "      <td>[locum, imaging, credentialing, diagnostic, dopplers, w, umbilical, –, nt, alumni, medicine, per, availability, nalto, travel, fetal, level, membe...</td>\n",
       "      <td>47</td>\n",
       "      <td>727</td>\n",
       "    </tr>\n",
       "    <tr>\n",
       "      <th>262</th>\n",
       "      <td>Full Time ER and Outpatient C/A Psychiatry Locums Need in Connecticut</td>\n",
       "      <td>0000</td>\n",
       "      <td>&lt;p&gt; &lt;/p&gt;\\n\\n&lt;ul&gt;\\n\\t&lt;li&gt;Immediate start date&lt;/li&gt;\\n\\t&lt;li&gt;Must be board certified&lt;/li&gt;\\n\\t&lt;li&gt;M-F&lt;/li&gt;\\n\\t&lt;li&gt;ER and Outpatient Child/Adol&lt;/li&gt;\\n\\t...</td>\n",
       "      <td>[beds, available, date, must, month, er, guaranteed, midlevel, coordinated, nalto, travel, member, rated, service, child, immediate, f, direct, bo...</td>\n",
       "      <td>37</td>\n",
       "      <td>532</td>\n",
       "    </tr>\n",
       "    <tr>\n",
       "      <th>...</th>\n",
       "      <td>...</td>\n",
       "      <td>...</td>\n",
       "      <td>...</td>\n",
       "      <td>...</td>\n",
       "      <td>...</td>\n",
       "      <td>...</td>\n",
       "    </tr>\n",
       "    <tr>\n",
       "      <th>31126</th>\n",
       "      <td>Senior Designer</td>\n",
       "      <td>0000</td>\n",
       "      <td>&lt;br&gt; &lt;/p&gt; Our client is a rapidly-growing agency specializing in developing innovative branding, marketing, and customer experience solutions for ...</td>\n",
       "      <td>[work, impactful, apply, digital, candidates, local, new, person, city, innovative, marketing, onsit, growing, solutions, campaigns, branding, exp...</td>\n",
       "      <td>43</td>\n",
       "      <td>512</td>\n",
       "    </tr>\n",
       "    <tr>\n",
       "      <th>31148</th>\n",
       "      <td>Warehouse Clerical Support</td>\n",
       "      <td>0000</td>\n",
       "      <td>&lt;p&gt;Top Job&lt;/p&gt; &lt;p&gt;Located in Saint Cloud, MN&lt;/p&gt; &lt;p&gt;Salary: $17-$18/hour&lt;/p&gt; &lt;p&gt;&lt;p&gt;Express Employment Professionals is now hiring for &lt;strong&gt;Ware...</td>\n",
       "      <td>[parts, work, local, hiring, ms, working, excel, knowledge, keeping, put, professionals, located, pace, job, prioritizing, bluestem, area, compute...</td>\n",
       "      <td>41</td>\n",
       "      <td>512</td>\n",
       "    </tr>\n",
       "    <tr>\n",
       "      <th>31197</th>\n",
       "      <td>Learning Disabilities Teacher-Consultant - Short Term</td>\n",
       "      <td>0000</td>\n",
       "      <td>&lt;p&gt;&lt;i style=\"font-size: 10pt; font-family: Cambria, serif; color: black;\"&gt;We’re looking for an exceptional &lt;/i&gt;&lt;b style=\"font-size: 10pt; font-fam...</td>\n",
       "      <td>[learning, ldtc, englishtown, exceptional, nove, september, time, we’re, position, consultant, full, looking, nj, teacher, disabilities]</td>\n",
       "      <td>15</td>\n",
       "      <td>512</td>\n",
       "    </tr>\n",
       "    <tr>\n",
       "      <th>31357</th>\n",
       "      <td>Test Job 12</td>\n",
       "      <td>0000</td>\n",
       "      <td>&lt;BR&gt;&lt;BR&gt; Internal ID: a0x3r00000K65b2AAB</td>\n",
       "      <td>[internal, id]</td>\n",
       "      <td>2</td>\n",
       "      <td>40</td>\n",
       "    </tr>\n",
       "    <tr>\n",
       "      <th>31416</th>\n",
       "      <td>Print Support Specialist</td>\n",
       "      <td>0000</td>\n",
       "      <td>&lt;p&gt;&lt;strong&gt;&lt;em&gt;Qualified candidates for this position should be fully vaccinated by 1st day of hire for the Covid virus.&amp;nbsp; Ricoh will evaluate...</td>\n",
       "      <td>[covid, requests, candidates, reasonably, belief, religious, practice, sincerely, fully, ricoh, qualified, accommodate, day, profile, evaluate, si...</td>\n",
       "      <td>29</td>\n",
       "      <td>512</td>\n",
       "    </tr>\n",
       "  </tbody>\n",
       "</table>\n",
       "<p>748 rows × 6 columns</p>\n",
       "</div>"
      ],
      "text/plain": [
       "                                                                                        ExtJobTitleText  \\\n",
       "13                                                                                 Independent Operator   \n",
       "47                                                                 Behavioral Health Activity Therapist   \n",
       "255                                          Family Medicine NP/PA - Locum Tenens - Southern California   \n",
       "261    Physician Only - Maternal Fetal Medicine Locums Need with NYC Hospital - Part-Time - $2k Per Day   \n",
       "262                               Full Time ER and Outpatient C/A Psychiatry Locums Need in Connecticut   \n",
       "...                                                                                                 ...   \n",
       "31126                                                                                   Senior Designer   \n",
       "31148                                                                        Warehouse Clerical Support   \n",
       "31197                                             Learning Disabilities Teacher-Consultant - Short Term   \n",
       "31357                                                                                       Test Job 12   \n",
       "31416                                                                          Print Support Specialist   \n",
       "\n",
       "      JobTitle  \\\n",
       "13        0000   \n",
       "47        0000   \n",
       "255       0000   \n",
       "261       0000   \n",
       "262       0000   \n",
       "...        ...   \n",
       "31126     0000   \n",
       "31148     0000   \n",
       "31197     0000   \n",
       "31357     0000   \n",
       "31416     0000   \n",
       "\n",
       "                                                                                                                                                 Description  \\\n",
       "13     <div class=\"earcu_posdescriptionContainer\"><div class=\"earcu_posdescription\"><div class=\"earcu_posdescriptionnote\"><p><strong>DRIVE YOUR OWN BUSIN...   \n",
       "47     <p style=\"margin: 0in 0in 8pt;\"><span style=\"font-family: 'Verdana',sans-serif; font-size: 9pt;\">At Corizon Health, we share a common bond to deli...   \n",
       "255    <p><span style=\"font-size:14px\">Locums FP NP/PA  need at a clinic 2 hours East of San Diego for the dates of 12/23 - 1/3</span></p>\\n\\n<ul>\\n\\t<li...   \n",
       "261    <p><strong><u>Alumni Healthcare Staffing - </u></strong><strong><u>Maternal Fetal Medicine – NYC Locum Tenens:</u></strong></p>\\n\\n<ul>\\n\\t<li><st...   \n",
       "262    <p> </p>\\n\\n<ul>\\n\\t<li>Immediate start date</li>\\n\\t<li>Must be board certified</li>\\n\\t<li>M-F</li>\\n\\t<li>ER and Outpatient Child/Adol</li>\\n\\t...   \n",
       "...                                                                                                                                                      ...   \n",
       "31126  <br> </p> Our client is a rapidly-growing agency specializing in developing innovative branding, marketing, and customer experience solutions for ...   \n",
       "31148  <p>Top Job</p> <p>Located in Saint Cloud, MN</p> <p>Salary: $17-$18/hour</p> <p><p>Express Employment Professionals is now hiring for <strong>Ware...   \n",
       "31197  <p><i style=\"font-size: 10pt; font-family: Cambria, serif; color: black;\">We’re looking for an exceptional </i><b style=\"font-size: 10pt; font-fam...   \n",
       "31357                                                                                                               <BR><BR> Internal ID: a0x3r00000K65b2AAB   \n",
       "31416  <p><strong><em>Qualified candidates for this position should be fully vaccinated by 1st day of hire for the Covid virus.&nbsp; Ricoh will evaluate...   \n",
       "\n",
       "                                                                                                                                                        Desc  \\\n",
       "13     [work, goal, franchise, cars, must, operation, drive, boss, takes, maintain, posting, supporting, employees, submit, travel, description, group, o...   \n",
       "47     [work, difference, life, check, may, levels, vision, help, clearance, early, choose, field, share, inmate, development, least, take, humanity, wel...   \n",
       "255    [credentialing, emr, pecos, fp, md, must, alumni, practice, need, availability, nalto, hours, travel, member, expenses, rated, pa, f, staff, direc...   \n",
       "261    [locum, imaging, credentialing, diagnostic, dopplers, w, umbilical, –, nt, alumni, medicine, per, availability, nalto, travel, fetal, level, membe...   \n",
       "262    [beds, available, date, must, month, er, guaranteed, midlevel, coordinated, nalto, travel, member, rated, service, child, immediate, f, direct, bo...   \n",
       "...                                                                                                                                                      ...   \n",
       "31126  [work, impactful, apply, digital, candidates, local, new, person, city, innovative, marketing, onsit, growing, solutions, campaigns, branding, exp...   \n",
       "31148  [parts, work, local, hiring, ms, working, excel, knowledge, keeping, put, professionals, located, pace, job, prioritizing, bluestem, area, compute...   \n",
       "31197               [learning, ldtc, englishtown, exceptional, nove, september, time, we’re, position, consultant, full, looking, nj, teacher, disabilities]   \n",
       "31357                                                                                                                                         [internal, id]   \n",
       "31416  [covid, requests, candidates, reasonably, belief, religious, practice, sincerely, fully, ricoh, qualified, accommodate, day, profile, evaluate, si...   \n",
       "\n",
       "       DescLength  DescriptionLength  \n",
       "13            137               2943  \n",
       "47            153               3465  \n",
       "255            42               1029  \n",
       "261            47                727  \n",
       "262            37                532  \n",
       "...           ...                ...  \n",
       "31126          43                512  \n",
       "31148          41                512  \n",
       "31197          15                512  \n",
       "31357           2                 40  \n",
       "31416          29                512  \n",
       "\n",
       "[748 rows x 6 columns]"
      ]
     },
     "execution_count": 89,
     "metadata": {},
     "output_type": "execute_result"
    }
   ],
   "source": [
    "df[df.JobTitle == '0000']"
   ]
  },
  {
   "cell_type": "code",
   "execution_count": 90,
   "id": "5b2d84f4-0b4b-43b7-a118-6c0861faadb2",
   "metadata": {},
   "outputs": [
    {
     "data": {
      "text/html": [
       "<div>\n",
       "<style scoped>\n",
       "    .dataframe tbody tr th:only-of-type {\n",
       "        vertical-align: middle;\n",
       "    }\n",
       "\n",
       "    .dataframe tbody tr th {\n",
       "        vertical-align: top;\n",
       "    }\n",
       "\n",
       "    .dataframe thead th {\n",
       "        text-align: right;\n",
       "    }\n",
       "</style>\n",
       "<table border=\"1\" class=\"dataframe\">\n",
       "  <thead>\n",
       "    <tr style=\"text-align: right;\">\n",
       "      <th></th>\n",
       "      <th>ExtJobTitleText</th>\n",
       "      <th>JobTitle</th>\n",
       "      <th>Description</th>\n",
       "      <th>Desc</th>\n",
       "      <th>DescLength</th>\n",
       "      <th>DescriptionLength</th>\n",
       "    </tr>\n",
       "  </thead>\n",
       "  <tbody>\n",
       "  </tbody>\n",
       "</table>\n",
       "</div>"
      ],
      "text/plain": [
       "Empty DataFrame\n",
       "Columns: [ExtJobTitleText, JobTitle, Description, Desc, DescLength, DescriptionLength]\n",
       "Index: []"
      ]
     },
     "execution_count": 90,
     "metadata": {},
     "output_type": "execute_result"
    }
   ],
   "source": [
    "df[df.JobTitle == '0']"
   ]
  },
  {
   "cell_type": "markdown",
   "id": "9cd667cf-9349-44b2-a225-d4193dcc7c8d",
   "metadata": {},
   "source": [
    "#### We can not know, what the real job title is for these, so they are just as useless as NA, let's drop them."
   ]
  },
  {
   "cell_type": "code",
   "execution_count": 91,
   "id": "a862f404-4f17-49b0-a189-268555a4869c",
   "metadata": {},
   "outputs": [],
   "source": [
    "df = df[df.JobTitle != '0000']\n",
    "df = df[df.JobTitle != '0']"
   ]
  },
  {
   "cell_type": "markdown",
   "id": "3ff6190c-e235-4f85-bf33-fb5236a5a279",
   "metadata": {},
   "source": [
    "#### Let's take another look at the df metrics:"
   ]
  },
  {
   "cell_type": "code",
   "execution_count": 92,
   "id": "5133e3e3-76d8-49f1-b0d6-3d2acc217282",
   "metadata": {},
   "outputs": [
    {
     "data": {
      "text/html": [
       "<div>\n",
       "<style scoped>\n",
       "    .dataframe tbody tr th:only-of-type {\n",
       "        vertical-align: middle;\n",
       "    }\n",
       "\n",
       "    .dataframe tbody tr th {\n",
       "        vertical-align: top;\n",
       "    }\n",
       "\n",
       "    .dataframe thead th {\n",
       "        text-align: right;\n",
       "    }\n",
       "</style>\n",
       "<table border=\"1\" class=\"dataframe\">\n",
       "  <thead>\n",
       "    <tr style=\"text-align: right;\">\n",
       "      <th></th>\n",
       "      <th>DescLength</th>\n",
       "      <th>DescriptionLength</th>\n",
       "    </tr>\n",
       "  </thead>\n",
       "  <tbody>\n",
       "    <tr>\n",
       "      <th>count</th>\n",
       "      <td>30673.00000</td>\n",
       "      <td>30673.000000</td>\n",
       "    </tr>\n",
       "    <tr>\n",
       "      <th>mean</th>\n",
       "      <td>131.33818</td>\n",
       "      <td>2482.968148</td>\n",
       "    </tr>\n",
       "    <tr>\n",
       "      <th>std</th>\n",
       "      <td>88.72128</td>\n",
       "      <td>2578.250691</td>\n",
       "    </tr>\n",
       "    <tr>\n",
       "      <th>min</th>\n",
       "      <td>1.00000</td>\n",
       "      <td>19.000000</td>\n",
       "    </tr>\n",
       "    <tr>\n",
       "      <th>25%</th>\n",
       "      <td>45.00000</td>\n",
       "      <td>512.000000</td>\n",
       "    </tr>\n",
       "    <tr>\n",
       "      <th>50%</th>\n",
       "      <td>121.00000</td>\n",
       "      <td>1986.000000</td>\n",
       "    </tr>\n",
       "    <tr>\n",
       "      <th>75%</th>\n",
       "      <td>184.00000</td>\n",
       "      <td>3270.000000</td>\n",
       "    </tr>\n",
       "    <tr>\n",
       "      <th>max</th>\n",
       "      <td>713.00000</td>\n",
       "      <td>109550.000000</td>\n",
       "    </tr>\n",
       "  </tbody>\n",
       "</table>\n",
       "</div>"
      ],
      "text/plain": [
       "        DescLength  DescriptionLength\n",
       "count  30673.00000       30673.000000\n",
       "mean     131.33818        2482.968148\n",
       "std       88.72128        2578.250691\n",
       "min        1.00000          19.000000\n",
       "25%       45.00000         512.000000\n",
       "50%      121.00000        1986.000000\n",
       "75%      184.00000        3270.000000\n",
       "max      713.00000      109550.000000"
      ]
     },
     "execution_count": 92,
     "metadata": {},
     "output_type": "execute_result"
    }
   ],
   "source": [
    "df.describe()"
   ]
  },
  {
   "cell_type": "markdown",
   "id": "1fa150c7-c4c8-4d13-94fd-f4ae78e79bfa",
   "metadata": {
    "tags": []
   },
   "source": [
    "## Checking if the Jobtitle apears in the Descriprion column"
   ]
  },
  {
   "cell_type": "code",
   "execution_count": 103,
   "id": "75e61734-8c54-43c0-9780-763a4a814a85",
   "metadata": {},
   "outputs": [],
   "source": [
    "df['is_extractive'] = df.apply(lambda row: row.JobTitle.lower() in row.Description.lower(), axis=1)"
   ]
  },
  {
   "cell_type": "code",
   "execution_count": 104,
   "id": "61004861-68ba-4afc-a0a0-2d6b49ffaf5c",
   "metadata": {},
   "outputs": [
    {
     "data": {
      "text/plain": [
       "False    20285\n",
       "True     10388\n",
       "Name: is_extractive, dtype: int64"
      ]
     },
     "execution_count": 104,
     "metadata": {},
     "output_type": "execute_result"
    }
   ],
   "source": [
    "df.is_extractive.value_counts()"
   ]
  }
 ],
 "metadata": {
  "kernelspec": {
   "display_name": "Python 3 (ipykernel)",
   "language": "python",
   "name": "python3"
  },
  "language_info": {
   "codemirror_mode": {
    "name": "ipython",
    "version": 3
   },
   "file_extension": ".py",
   "mimetype": "text/x-python",
   "name": "python",
   "nbconvert_exporter": "python",
   "pygments_lexer": "ipython3",
   "version": "3.9.7"
  }
 },
 "nbformat": 4,
 "nbformat_minor": 5
}
