{
 "cells": [
  {
   "cell_type": "code",
   "execution_count": 54,
   "id": "badd139e-7390-42f9-8393-5c5831dfa2ab",
   "metadata": {},
   "outputs": [],
   "source": [
    "import pandas as pd\n",
    "\n",
    "from nltk.stem import PorterStemmer\n",
    "from nltk.tokenize import word_tokenize\n",
    "from nltk.stem import WordNetLemmatizer\n",
    "\n",
    "from textblob import Word\n",
    "\n",
    "import spacy\n",
    "\n",
    "from commons import *"
   ]
  },
  {
   "cell_type": "code",
   "execution_count": 4,
   "id": "008fe263-f75c-44c5-a66d-7ff6cea9b3a5",
   "metadata": {},
   "outputs": [],
   "source": [
    "pd.set_option('max_colwidth',150)"
   ]
  },
  {
   "cell_type": "code",
   "execution_count": 14,
   "id": "8fb8bff6-534f-487f-8e4f-460f23ac8b0e",
   "metadata": {},
   "outputs": [],
   "source": [
    "df = pd.read_csv(r\"C:\\Users\\User\\Downloads\\data_clean2.csv\")\n",
    "df = df[['job_description','job_title']]\n",
    "df.rename(columns={'job_description': 'Description', 'job_title': 'JobTitle'}, inplace=True)"
   ]
  },
  {
   "cell_type": "code",
   "execution_count": 12,
   "id": "bd9714f1-302c-4562-9daa-fdd683f427ec",
   "metadata": {},
   "outputs": [
    {
     "data": {
      "text/plain": [
       "(185983, 2)"
      ]
     },
     "execution_count": 12,
     "metadata": {},
     "output_type": "execute_result"
    }
   ],
   "source": [
    "df.shape"
   ]
  },
  {
   "cell_type": "markdown",
   "id": "8c6ebcf5-ae2e-4f67-b2c9-965c74c9d452",
   "metadata": {
    "tags": []
   },
   "source": [
    "## Doing some resampling "
   ]
  },
  {
   "cell_type": "code",
   "execution_count": 18,
   "id": "2de61704-7764-42bc-b221-d07bbd06d9f6",
   "metadata": {},
   "outputs": [],
   "source": [
    "df = reshape_df(df, the_min_amount_of_rows = 10, the_max_amount_of_rows = 100)"
   ]
  },
  {
   "cell_type": "code",
   "execution_count": 20,
   "id": "99b554a1-21b4-4295-a402-d6cbb86cc9c6",
   "metadata": {},
   "outputs": [
    {
     "data": {
      "text/plain": [
       "(37550, 2)"
      ]
     },
     "execution_count": 20,
     "metadata": {},
     "output_type": "execute_result"
    }
   ],
   "source": [
    "df.shape"
   ]
  },
  {
   "cell_type": "markdown",
   "id": "ca9fa907-adf2-4838-9796-7e78eed45bb8",
   "metadata": {},
   "source": [
    "## Text cleaning methods"
   ]
  },
  {
   "cell_type": "markdown",
   "id": "59921042-3e34-419b-bf10-6eb25fb78019",
   "metadata": {},
   "source": [
    "### Stemming"
   ]
  },
  {
   "cell_type": "code",
   "execution_count": 42,
   "id": "64cd3b77-7bc3-4b72-a072-5b1861dc0b61",
   "metadata": {},
   "outputs": [],
   "source": [
    "def stemming_func(row):\n",
    "    stemming = PorterStemmer()\n",
    "    row = [word for word in row.split()]\n",
    "    row = [stemming.stem(w) for w in row]\n",
    "    return (\" \").join(row)"
   ]
  },
  {
   "cell_type": "code",
   "execution_count": 118,
   "id": "955c8290-4251-49e8-9f56-7bb1456f767d",
   "metadata": {},
   "outputs": [],
   "source": [
    "df['stemming'] = df.Description.apply(stemming_func)"
   ]
  },
  {
   "cell_type": "markdown",
   "id": "e795e305-2577-44e7-a191-db366d13eb59",
   "metadata": {},
   "source": [
    "## Lematization"
   ]
  },
  {
   "cell_type": "markdown",
   "id": "434b045f-d1ed-4fc6-bc43-2f918f437b9b",
   "metadata": {},
   "source": [
    "* nltk library"
   ]
  },
  {
   "cell_type": "code",
   "execution_count": 45,
   "id": "6ff2ff8d-b9e8-43a0-9a3d-9273d1bb7286",
   "metadata": {},
   "outputs": [],
   "source": [
    "def nltk_lemmatization_func(row):\n",
    "    nltk_lemmatizer = WordNetLemmatizer()\n",
    "    row = [word for word in row.split()]\n",
    "    row = [nltk_lemmatizer.lemmatize(w) for w in row]\n",
    "    return (\" \").join(row)"
   ]
  },
  {
   "cell_type": "code",
   "execution_count": 117,
   "id": "c6075680-fdda-457d-b265-2f461e5f5ae6",
   "metadata": {},
   "outputs": [],
   "source": [
    "df['nltk_lemmatization'] = df.Description.apply(nltk_lemmatization_func)"
   ]
  },
  {
   "cell_type": "markdown",
   "id": "e20205d0-9521-461c-8ffd-8e06f1a22241",
   "metadata": {},
   "source": [
    "* textblob library"
   ]
  },
  {
   "cell_type": "code",
   "execution_count": 52,
   "id": "4ce76aa7-91a2-4bc5-ba81-0cfa51a6d49d",
   "metadata": {},
   "outputs": [],
   "source": [
    "def textblob_lemmatization_func(row):\n",
    "    row = [word for word in row.split()]\n",
    "    row = [Word(w).lemmatize() for w in row]\n",
    "    return (\" \").join(row)"
   ]
  },
  {
   "cell_type": "code",
   "execution_count": 116,
   "id": "0cb70e7c-1600-4a32-b90f-a6f9afec9811",
   "metadata": {},
   "outputs": [],
   "source": [
    "df['textblob_lemmatization'] = df.Description.apply(textblob_lemmatization_func)"
   ]
  },
  {
   "cell_type": "markdown",
   "id": "d0779bac-b20c-4fc3-8fdf-93aee0c7660e",
   "metadata": {},
   "source": [
    "* spacy library"
   ]
  },
  {
   "cell_type": "code",
   "execution_count": 55,
   "id": "c5f3bfef-c00c-4529-b5a3-78458be159c0",
   "metadata": {},
   "outputs": [],
   "source": [
    "nlp = spacy.load('en_core_web_sm')\n",
    "\n",
    "def spacy_lemmatization_func(words_spacy):\n",
    "    doc_words = nlp(words_spacy)\n",
    "    tokens_words = []\n",
    "    for token in doc_words:\n",
    "        tokens_words.append(token)\n",
    "    row = [token.lemma_ for token in tokens_words]\n",
    "    return (\" \").join(row)"
   ]
  },
  {
   "cell_type": "code",
   "execution_count": 115,
   "id": "7d634be3-60b5-4a27-93b3-674ef30339ea",
   "metadata": {},
   "outputs": [],
   "source": [
    "df['spacy_lemmatization'] = df.Description.apply(spacy_lemmatization_func)"
   ]
  },
  {
   "cell_type": "markdown",
   "id": "25d7a6a8-a30a-4587-910e-c4cba49270d6",
   "metadata": {},
   "source": [
    "## Stemming after spacy lemmatization"
   ]
  },
  {
   "cell_type": "code",
   "execution_count": 114,
   "id": "179c9387-3539-45bc-8f1f-95ee688140aa",
   "metadata": {},
   "outputs": [],
   "source": [
    "df['stemming_after_spacy_lemmatization'] = df.spacy_lemmatization.apply(stemming_func)"
   ]
  },
  {
   "cell_type": "markdown",
   "id": "f31e4293-74fc-4490-bd6d-db08cd164f40",
   "metadata": {},
   "source": [
    "## Comparing the results"
   ]
  },
  {
   "cell_type": "code",
   "execution_count": 119,
   "id": "adcae52c-d334-4830-9d51-dd597ab4bc87",
   "metadata": {},
   "outputs": [],
   "source": [
    "length_of_vocabulary = {}\n",
    "avarage_len_of_word = {}\n",
    "for column in df:\n",
    "    if column not in 'JobTitle':\n",
    "        vocabulary = ' '.join([i for i in df[column]]).split()\n",
    "        voc_len = len(set(vocabulary))\n",
    "        length_of_vocabulary.update({column:voc_len})\n",
    "        avarage_len_of_word.update({column:(sum(len(word) for word in vocabulary) / len(vocabulary))})"
   ]
  },
  {
   "cell_type": "code",
   "execution_count": 113,
   "id": "0e21509f-0578-447c-9816-e80979cfc3fd",
   "metadata": {},
   "outputs": [
    {
     "data": {
      "text/html": [
       "<div>\n",
       "<style scoped>\n",
       "    .dataframe tbody tr th:only-of-type {\n",
       "        vertical-align: middle;\n",
       "    }\n",
       "\n",
       "    .dataframe tbody tr th {\n",
       "        vertical-align: top;\n",
       "    }\n",
       "\n",
       "    .dataframe thead th {\n",
       "        text-align: right;\n",
       "    }\n",
       "</style>\n",
       "<table border=\"1\" class=\"dataframe\">\n",
       "  <thead>\n",
       "    <tr style=\"text-align: right;\">\n",
       "      <th></th>\n",
       "      <th>length_of_vocabulary</th>\n",
       "      <th>avarage_len_of_word</th>\n",
       "    </tr>\n",
       "  </thead>\n",
       "  <tbody>\n",
       "    <tr>\n",
       "      <th>Description</th>\n",
       "      <td>89663.0</td>\n",
       "      <td>7.294501</td>\n",
       "    </tr>\n",
       "    <tr>\n",
       "      <th>stemming</th>\n",
       "      <td>71882.0</td>\n",
       "      <td>5.738655</td>\n",
       "    </tr>\n",
       "    <tr>\n",
       "      <th>nltk_lemmatization</th>\n",
       "      <td>83894.0</td>\n",
       "      <td>7.109987</td>\n",
       "    </tr>\n",
       "    <tr>\n",
       "      <th>textblob_lemmatization</th>\n",
       "      <td>83894.0</td>\n",
       "      <td>7.109987</td>\n",
       "    </tr>\n",
       "    <tr>\n",
       "      <th>spacy_lemmatization</th>\n",
       "      <td>76894.0</td>\n",
       "      <td>6.867337</td>\n",
       "    </tr>\n",
       "    <tr>\n",
       "      <th>stemming_after_spacy_lemmatization</th>\n",
       "      <td>66347.0</td>\n",
       "      <td>5.683338</td>\n",
       "    </tr>\n",
       "  </tbody>\n",
       "</table>\n",
       "</div>"
      ],
      "text/plain": [
       "                                    length_of_vocabulary  avarage_len_of_word\n",
       "Description                                      89663.0             7.294501\n",
       "stemming                                         71882.0             5.738655\n",
       "nltk_lemmatization                               83894.0             7.109987\n",
       "textblob_lemmatization                           83894.0             7.109987\n",
       "spacy_lemmatization                              76894.0             6.867337\n",
       "stemming_after_spacy_lemmatization               66347.0             5.683338"
      ]
     },
     "execution_count": 113,
     "metadata": {},
     "output_type": "execute_result"
    }
   ],
   "source": [
    "pd.DataFrame([length_of_vocabulary,avarage_len_of_word], index=[\"length_of_vocabulary\",\"avarage_len_of_word\"]).T"
   ]
  },
  {
   "cell_type": "markdown",
   "id": "db580a50-b7cc-4ad0-845b-e32114379e89",
   "metadata": {},
   "source": [
    "## Summary"
   ]
  },
  {
   "cell_type": "markdown",
   "id": "c30cf894-6ea6-499a-87e2-2b31f869d5d1",
   "metadata": {},
   "source": [
    "stemming_after_spacy_lemmatization method seems the best option, \n",
    "but we should also try stemming and spacy_lemmatization independently.\n",
    "\n",
    "Only after we run the models we can se wich one works better."
   ]
  }
 ],
 "metadata": {
  "kernelspec": {
   "display_name": "Python 3 (ipykernel)",
   "language": "python",
   "name": "python3"
  },
  "language_info": {
   "codemirror_mode": {
    "name": "ipython",
    "version": 3
   },
   "file_extension": ".py",
   "mimetype": "text/x-python",
   "name": "python",
   "nbconvert_exporter": "python",
   "pygments_lexer": "ipython3",
   "version": "3.9.7"
  }
 },
 "nbformat": 4,
 "nbformat_minor": 5
}
