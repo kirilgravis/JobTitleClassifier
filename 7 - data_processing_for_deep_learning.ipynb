{
 "cells": [
  {
   "cell_type": "code",
   "execution_count": 1,
   "id": "c5cb3fdd-6964-4c61-ba77-79c48c840688",
   "metadata": {},
   "outputs": [],
   "source": [
    "%load_ext autoreload\n",
    "%autoreload 2"
   ]
  },
  {
   "cell_type": "code",
   "execution_count": 2,
   "id": "a98dff9a",
   "metadata": {},
   "outputs": [],
   "source": [
    "import pandas as pd\n",
    "import sys\n",
    "from sklearn.model_selection import train_test_split\n",
    "from bs4 import BeautifulSoup\n",
    "import time\n",
    "from commons.func import *\n",
    "\n",
    "# internal package\n",
    "sys.path.append('/cnvrg')\n"
   ]
  },
  {
   "cell_type": "code",
   "execution_count": 3,
   "id": "81fd98b8-9f37-4883-95f7-d0895e9ef837",
   "metadata": {},
   "outputs": [],
   "source": [
    "pd.set_option('display.max_colwidth',300)"
   ]
  },
  {
   "cell_type": "code",
   "execution_count": 4,
   "id": "485622e8-5141-4285-b2c8-e348be53ef13",
   "metadata": {},
   "outputs": [
    {
     "data": {
      "text/html": [
       "<div>\n",
       "<style scoped>\n",
       "    .dataframe tbody tr th:only-of-type {\n",
       "        vertical-align: middle;\n",
       "    }\n",
       "\n",
       "    .dataframe tbody tr th {\n",
       "        vertical-align: top;\n",
       "    }\n",
       "\n",
       "    .dataframe thead th {\n",
       "        text-align: right;\n",
       "    }\n",
       "</style>\n",
       "<table border=\"1\" class=\"dataframe\">\n",
       "  <thead>\n",
       "    <tr style=\"text-align: right;\">\n",
       "      <th></th>\n",
       "      <th>ExtJobTitleText</th>\n",
       "      <th>JobTitle</th>\n",
       "      <th>Description</th>\n",
       "    </tr>\n",
       "  </thead>\n",
       "  <tbody>\n",
       "    <tr>\n",
       "      <th>0</th>\n",
       "      <td>Business Development Center Agent</td>\n",
       "      <td>Medical Scientist</td>\n",
       "      <td>For generations, the Landers family has been in the car business.&lt;br/&gt;Steve Landers Chrysler Dodge Jeep continues to build its brand on family values and a philosophy of serving its guests, team members, and communities.&lt;br/&gt;Every Landers team member is absolutely critical to its success.&lt;br/&gt;Ou...</td>\n",
       "    </tr>\n",
       "    <tr>\n",
       "      <th>1</th>\n",
       "      <td>Technician I</td>\n",
       "      <td>Automotive Technician</td>\n",
       "      <td>&lt;div class=\"earcu_posdescriptionContainer\"&gt;&lt;div class=\"earcu_posdescription\"&gt;&lt;div class=\"earcu_posdescriptionnote\"&gt;&lt;p&gt;Avis Budget Group is an action-packed, high-energy workplace. We are a global leader in the travel services industry operating two of the most recognized brands in the vehicle re...</td>\n",
       "    </tr>\n",
       "  </tbody>\n",
       "</table>\n",
       "</div>"
      ],
      "text/plain": [
       "                     ExtJobTitleText               JobTitle  \\\n",
       "0  Business Development Center Agent      Medical Scientist   \n",
       "1                       Technician I  Automotive Technician   \n",
       "\n",
       "                                                                                                                                                                                                                                                                                                   Description  \n",
       "0  For generations, the Landers family has been in the car business.<br/>Steve Landers Chrysler Dodge Jeep continues to build its brand on family values and a philosophy of serving its guests, team members, and communities.<br/>Every Landers team member is absolutely critical to its success.<br/>Ou...  \n",
       "1  <div class=\"earcu_posdescriptionContainer\"><div class=\"earcu_posdescription\"><div class=\"earcu_posdescriptionnote\"><p>Avis Budget Group is an action-packed, high-energy workplace. We are a global leader in the travel services industry operating two of the most recognized brands in the vehicle re...  "
      ]
     },
     "execution_count": 4,
     "metadata": {},
     "output_type": "execute_result"
    }
   ],
   "source": [
    "df = pd.read_parquet(r\"datasets\\job_title_dataset.parquet\")\n",
    "df.dropna(inplace=True)\n",
    "df.drop(columns=['JobTitleId','JobId'], inplace=True)\n",
    "df = df[df.JobTitle != '0000']\n",
    "df = df[df.JobTitle != '0']\n",
    "df.head(2)"
   ]
  },
  {
   "cell_type": "code",
   "execution_count": 5,
   "id": "ffbbaca4-ed3f-443c-9f3e-9e18d0f3de57",
   "metadata": {},
   "outputs": [
    {
     "data": {
      "text/plain": [
       "(30677, 3)"
      ]
     },
     "execution_count": 5,
     "metadata": {},
     "output_type": "execute_result"
    }
   ],
   "source": [
    "df.shape"
   ]
  },
  {
   "cell_type": "code",
   "execution_count": 6,
   "id": "bd05b8f3-336a-4798-9d21-db5edac342aa",
   "metadata": {},
   "outputs": [
    {
     "name": "stdout",
     "output_type": "stream",
     "text": [
      "<class 'pandas.core.frame.DataFrame'>\n",
      "Int64Index: 30677 entries, 0 to 31426\n",
      "Data columns (total 3 columns):\n",
      " #   Column           Non-Null Count  Dtype \n",
      "---  ------           --------------  ----- \n",
      " 0   ExtJobTitleText  30677 non-null  object\n",
      " 1   JobTitle         30677 non-null  object\n",
      " 2   Description      30677 non-null  object\n",
      "dtypes: object(3)\n",
      "memory usage: 958.7+ KB\n"
     ]
    }
   ],
   "source": [
    "df.info()"
   ]
  },
  {
   "cell_type": "code",
   "execution_count": 7,
   "id": "6d727bf1-411f-4122-ab70-d5e6c5326747",
   "metadata": {},
   "outputs": [
    {
     "data": {
      "text/plain": [
       "ExtJobTitleText    0\n",
       "JobTitle           0\n",
       "Description        0\n",
       "dtype: int64"
      ]
     },
     "execution_count": 7,
     "metadata": {},
     "output_type": "execute_result"
    }
   ],
   "source": [
    "df.isna().sum()"
   ]
  },
  {
   "cell_type": "code",
   "execution_count": 8,
   "id": "10caa9ab-098c-483e-b45c-27f81adde9a3",
   "metadata": {},
   "outputs": [
    {
     "data": {
      "text/html": [
       "<div>\n",
       "<style scoped>\n",
       "    .dataframe tbody tr th:only-of-type {\n",
       "        vertical-align: middle;\n",
       "    }\n",
       "\n",
       "    .dataframe tbody tr th {\n",
       "        vertical-align: top;\n",
       "    }\n",
       "\n",
       "    .dataframe thead th {\n",
       "        text-align: right;\n",
       "    }\n",
       "</style>\n",
       "<table border=\"1\" class=\"dataframe\">\n",
       "  <thead>\n",
       "    <tr style=\"text-align: right;\">\n",
       "      <th></th>\n",
       "      <th>JobTitle</th>\n",
       "    </tr>\n",
       "    <tr>\n",
       "      <th>Description</th>\n",
       "      <th></th>\n",
       "    </tr>\n",
       "  </thead>\n",
       "  <tbody>\n",
       "  </tbody>\n",
       "</table>\n",
       "</div>"
      ],
      "text/plain": [
       "Empty DataFrame\n",
       "Columns: [JobTitle]\n",
       "Index: []"
      ]
     },
     "execution_count": 8,
     "metadata": {},
     "output_type": "execute_result"
    }
   ],
   "source": [
    "# count the number of unique labels per document \n",
    "labels_per_doc = df.groupby('Description').agg({'JobTitle':'nunique'}).sort_values(by='JobTitle',ascending=False)\n",
    "labels_per_doc.query(\"JobTitle>1\")"
   ]
  },
  {
   "cell_type": "code",
   "execution_count": 9,
   "id": "4f525dcb",
   "metadata": {},
   "outputs": [
    {
     "name": "stdout",
     "output_type": "stream",
     "text": [
      "0\n"
     ]
    },
    {
     "data": {
      "text/plain": [
       "(30677, 3)"
      ]
     },
     "execution_count": 9,
     "metadata": {},
     "output_type": "execute_result"
    }
   ],
   "source": [
    "# check for missing Description\n",
    "empty_ix = []\n",
    "for ix, document in enumerate(df.Description.tolist()):\n",
    "    if len(document)<2:\n",
    "        empty_ix.append(ix)\n",
    "        \n",
    "print(len(empty_ix))\n",
    "df.drop(empty_ix,inplace=True)\n",
    "df.shape"
   ]
  },
  {
   "cell_type": "code",
   "execution_count": 10,
   "id": "29f49da0-8d73-4dc8-8065-5e67ad33c7f8",
   "metadata": {},
   "outputs": [],
   "source": [
    "df.drop_duplicates(subset=['Description'], inplace=True)\n",
    "df.dropna(inplace=True)"
   ]
  },
  {
   "cell_type": "code",
   "execution_count": 11,
   "id": "5a6157e2-fb14-4a0c-88ed-5082f094d8e8",
   "metadata": {},
   "outputs": [],
   "source": [
    "def remove_html(text):\n",
    "    text = BeautifulSoup(text).get_text()\n",
    "    text = text.replace('\\n', '')\n",
    "    # text = text.replace('.', '. ')\n",
    "    return text"
   ]
  },
  {
   "cell_type": "code",
   "execution_count": 12,
   "id": "b52e433f-1a99-4536-8a3b-b09374187333",
   "metadata": {},
   "outputs": [
    {
     "name": "stdout",
     "output_type": "stream",
     "text": [
      "execution time in minutes:  0.941144343217214\n"
     ]
    }
   ],
   "source": [
    "# clean the html tags\n",
    "\n",
    "start = time.time()\n",
    "df['Description'] = df.Description.apply(remove_html)\n",
    "end = time.time() \n",
    "print('execution time in minutes: ', (end - start)/60) "
   ]
  },
  {
   "cell_type": "code",
   "execution_count": 13,
   "id": "7d731edc-e7f4-401f-9dbd-f057f56ca5e9",
   "metadata": {},
   "outputs": [],
   "source": [
    "df = reshape_df(df,the_min_amount_of_rows = 10, the_max_amount_of_rows = 1000)"
   ]
  },
  {
   "cell_type": "code",
   "execution_count": 14,
   "id": "ceeb05c8-0af8-4b8f-b1f0-9666cf7ef8dd",
   "metadata": {},
   "outputs": [],
   "source": [
    "df = df[df['Description'].notnull()]"
   ]
  },
  {
   "cell_type": "code",
   "execution_count": 15,
   "id": "bbd56b5f-3924-4800-bcbc-c7825f0dd1bc",
   "metadata": {},
   "outputs": [
    {
     "data": {
      "text/plain": [
       "(25405, 3)"
      ]
     },
     "execution_count": 15,
     "metadata": {},
     "output_type": "execute_result"
    }
   ],
   "source": [
    "df.shape"
   ]
  },
  {
   "cell_type": "code",
   "execution_count": 16,
   "id": "157da8ad-4ee0-44a6-ae31-23b1183f4e84",
   "metadata": {},
   "outputs": [
    {
     "data": {
      "text/html": [
       "<div>\n",
       "<style scoped>\n",
       "    .dataframe tbody tr th:only-of-type {\n",
       "        vertical-align: middle;\n",
       "    }\n",
       "\n",
       "    .dataframe tbody tr th {\n",
       "        vertical-align: top;\n",
       "    }\n",
       "\n",
       "    .dataframe thead th {\n",
       "        text-align: right;\n",
       "    }\n",
       "</style>\n",
       "<table border=\"1\" class=\"dataframe\">\n",
       "  <thead>\n",
       "    <tr style=\"text-align: right;\">\n",
       "      <th></th>\n",
       "      <th>ExtJobTitleText</th>\n",
       "      <th>JobTitle</th>\n",
       "      <th>Description</th>\n",
       "    </tr>\n",
       "  </thead>\n",
       "  <tbody>\n",
       "    <tr>\n",
       "      <th>29603</th>\n",
       "      <td>School Speech Language Pathologist</td>\n",
       "      <td>Pediatric Speech Language Pathologist</td>\n",
       "      <td>We’re looking for an exceptional School Speech Language Pathologist for a full-time position in El Dorado, CA who can start immediately and work through the end of the 2021-2022 school year. This therapist must be able to work on-site with elementary, middle, and high school stude</td>\n",
       "    </tr>\n",
       "    <tr>\n",
       "      <th>8005</th>\n",
       "      <td>DIRECT SUPPORT PROFESSIONAL- DAY SUPPORT-HEALTH SERVICES- NEWTON KS</td>\n",
       "      <td>Direct Support Professional (DSP)</td>\n",
       "      <td>Are you driven to serve and help others in your community? Caregivers and Direct Support Professionals (DSP) are the heart of our company with their compassion, dependability, and care. If you want to make an impact by helping people live their best life, read more below and apply today! Provide...</td>\n",
       "    </tr>\n",
       "  </tbody>\n",
       "</table>\n",
       "</div>"
      ],
      "text/plain": [
       "                                                           ExtJobTitleText  \\\n",
       "29603                                   School Speech Language Pathologist   \n",
       "8005   DIRECT SUPPORT PROFESSIONAL- DAY SUPPORT-HEALTH SERVICES- NEWTON KS   \n",
       "\n",
       "                                    JobTitle  \\\n",
       "29603  Pediatric Speech Language Pathologist   \n",
       "8005       Direct Support Professional (DSP)   \n",
       "\n",
       "                                                                                                                                                                                                                                                                                                       Description  \n",
       "29603                    We’re looking for an exceptional School Speech Language Pathologist for a full-time position in El Dorado, CA who can start immediately and work through the end of the 2021-2022 school year. This therapist must be able to work on-site with elementary, middle, and high school stude  \n",
       "8005   Are you driven to serve and help others in your community? Caregivers and Direct Support Professionals (DSP) are the heart of our company with their compassion, dependability, and care. If you want to make an impact by helping people live their best life, read more below and apply today! Provide...  "
      ]
     },
     "execution_count": 16,
     "metadata": {},
     "output_type": "execute_result"
    }
   ],
   "source": [
    "df.sample(2)"
   ]
  },
  {
   "cell_type": "code",
   "execution_count": 17,
   "id": "77edbbed-1188-44c6-b43a-dc4cf156f5ec",
   "metadata": {},
   "outputs": [],
   "source": [
    "df.to_csv('datasets/data_clean.csv', index=False)"
   ]
  }
 ],
 "metadata": {
  "kernelspec": {
   "display_name": "Python 3 (ipykernel)",
   "language": "python",
   "name": "python3"
  },
  "language_info": {
   "codemirror_mode": {
    "name": "ipython",
    "version": 3
   },
   "file_extension": ".py",
   "mimetype": "text/x-python",
   "name": "python",
   "nbconvert_exporter": "python",
   "pygments_lexer": "ipython3",
   "version": "3.9.7"
  }
 },
 "nbformat": 4,
 "nbformat_minor": 5
}
