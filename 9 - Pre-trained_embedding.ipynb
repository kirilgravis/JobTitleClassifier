{
 "cells": [
  {
   "cell_type": "markdown",
   "metadata": {},
   "source": [
    "# Job title prediction with embedding"
   ]
  },
  {
   "cell_type": "code",
   "execution_count": 1,
   "metadata": {},
   "outputs": [],
   "source": [
    "%load_ext autoreload\n",
    "%autoreload 2\n",
    "import sys; sys.path.append('../')                                                                                      "
   ]
  },
  {
   "cell_type": "code",
   "execution_count": 2,
   "metadata": {},
   "outputs": [
    {
     "data": {
      "text/html": [
       "        <script type=\"text/javascript\">\n",
       "        window.PlotlyConfig = {MathJaxConfig: 'local'};\n",
       "        if (window.MathJax) {MathJax.Hub.Config({SVG: {font: \"STIX-Web\"}});}\n",
       "        if (typeof require !== 'undefined') {\n",
       "        require.undef(\"plotly\");\n",
       "        requirejs.config({\n",
       "            paths: {\n",
       "                'plotly': ['https://cdn.plot.ly/plotly-2.4.2.min']\n",
       "            }\n",
       "        });\n",
       "        require(['plotly'], function(Plotly) {\n",
       "            window._Plotly = Plotly;\n",
       "        });\n",
       "        }\n",
       "        </script>\n",
       "        "
      ]
     },
     "metadata": {},
     "output_type": "display_data"
    }
   ],
   "source": [
    "import pandas as pd\n",
    "import numpy as np\n",
    "import cufflinks as cf; cf.go_offline()"
   ]
  },
  {
   "cell_type": "code",
   "execution_count": 3,
   "metadata": {},
   "outputs": [
    {
     "data": {
      "text/plain": [
       "'2.7.0'"
      ]
     },
     "execution_count": 3,
     "metadata": {},
     "output_type": "execute_result"
    }
   ],
   "source": [
    "import tensorflow as tf\n",
    "tf.__version__"
   ]
  },
  {
   "cell_type": "code",
   "execution_count": 4,
   "metadata": {},
   "outputs": [],
   "source": [
    "from tensorflow.keras.layers import TextVectorization, Embedding, Dense, GlobalAveragePooling1D, Dropout, Reshape, Activation"
   ]
  },
  {
   "cell_type": "code",
   "execution_count": 5,
   "metadata": {},
   "outputs": [],
   "source": [
    "pd.set_option('max_colwidth',250)"
   ]
  },
  {
   "cell_type": "markdown",
   "metadata": {},
   "source": [
    "## Loading the data"
   ]
  },
  {
   "cell_type": "code",
   "execution_count": 6,
   "metadata": {},
   "outputs": [
    {
     "data": {
      "text/html": [
       "<div>\n",
       "<style scoped>\n",
       "    .dataframe tbody tr th:only-of-type {\n",
       "        vertical-align: middle;\n",
       "    }\n",
       "\n",
       "    .dataframe tbody tr th {\n",
       "        vertical-align: top;\n",
       "    }\n",
       "\n",
       "    .dataframe thead th {\n",
       "        text-align: right;\n",
       "    }\n",
       "</style>\n",
       "<table border=\"1\" class=\"dataframe\">\n",
       "  <thead>\n",
       "    <tr style=\"text-align: right;\">\n",
       "      <th></th>\n",
       "      <th>ExtJobTitleText</th>\n",
       "      <th>JobTitle</th>\n",
       "      <th>Description</th>\n",
       "    </tr>\n",
       "  </thead>\n",
       "  <tbody>\n",
       "    <tr>\n",
       "      <th>25278</th>\n",
       "      <td>Seasonal Warehouse Associate - Milton</td>\n",
       "      <td>Warehouse Worker</td>\n",
       "      <td>NOW OFFERING A $500 SIGN-ON BONUS!!EARN UP TO $19.50 ON NIGHT SHIFTSAttend one of our upcoming walk-in hiring events! No appointment necessary!Walk-ins welcome—or apply online and then schedule an appointment that works for you. Hiring EventDate/...</td>\n",
       "    </tr>\n",
       "    <tr>\n",
       "      <th>5179</th>\n",
       "      <td>Assembler - Second Shift</td>\n",
       "      <td>Assembler</td>\n",
       "      <td>Assemblers Needed – Entry Level - Day Shift –must be able to start at 5am - needed for a long term contract opportunity with our client located in Tempe, AZ What You Will Be Doing:Tube Assembly processors perform day to day production activities ...</td>\n",
       "    </tr>\n",
       "  </tbody>\n",
       "</table>\n",
       "</div>"
      ],
      "text/plain": [
       "                             ExtJobTitleText          JobTitle  \\\n",
       "25278  Seasonal Warehouse Associate - Milton  Warehouse Worker   \n",
       "5179                Assembler - Second Shift         Assembler   \n",
       "\n",
       "                                                                                                                                                                                                                                                     Description  \n",
       "25278  NOW OFFERING A $500 SIGN-ON BONUS!!EARN UP TO $19.50 ON NIGHT SHIFTSAttend one of our upcoming walk-in hiring events! No appointment necessary!Walk-ins welcome—or apply online and then schedule an appointment that works for you. Hiring EventDate/...  \n",
       "5179   Assemblers Needed – Entry Level - Day Shift –must be able to start at 5am - needed for a long term contract opportunity with our client located in Tempe, AZ What You Will Be Doing:Tube Assembly processors perform day to day production activities ...  "
      ]
     },
     "execution_count": 6,
     "metadata": {},
     "output_type": "execute_result"
    }
   ],
   "source": [
    "df_pos = pd.read_csv('datasets/data_clean.csv')\n",
    "df_pos.sample(2)"
   ]
  },
  {
   "cell_type": "code",
   "execution_count": 7,
   "metadata": {},
   "outputs": [
    {
     "data": {
      "text/plain": [
       "(25405, 3)"
      ]
     },
     "execution_count": 7,
     "metadata": {},
     "output_type": "execute_result"
    }
   ],
   "source": [
    "df_pos.shape"
   ]
  },
  {
   "cell_type": "code",
   "execution_count": 8,
   "metadata": {},
   "outputs": [],
   "source": [
    "df_pos[\"JobTitle_tokenized\"] = pd.factorize(df_pos.JobTitle)[0]"
   ]
  },
  {
   "cell_type": "code",
   "execution_count": 24,
   "metadata": {},
   "outputs": [],
   "source": [
    "# df_pos[\"ext_job_title_tokenized\"] = pd.factorize(df_pos.ExtJobTitleText)[0]"
   ]
  },
  {
   "cell_type": "code",
   "execution_count": 12,
   "metadata": {},
   "outputs": [
    {
     "data": {
      "text/html": [
       "<div>\n",
       "<style scoped>\n",
       "    .dataframe tbody tr th:only-of-type {\n",
       "        vertical-align: middle;\n",
       "    }\n",
       "\n",
       "    .dataframe tbody tr th {\n",
       "        vertical-align: top;\n",
       "    }\n",
       "\n",
       "    .dataframe thead th {\n",
       "        text-align: right;\n",
       "    }\n",
       "</style>\n",
       "<table border=\"1\" class=\"dataframe\">\n",
       "  <thead>\n",
       "    <tr style=\"text-align: right;\">\n",
       "      <th></th>\n",
       "      <th>count</th>\n",
       "    </tr>\n",
       "  </thead>\n",
       "  <tbody>\n",
       "    <tr>\n",
       "      <th>Warehouse Worker</th>\n",
       "      <td>1000</td>\n",
       "    </tr>\n",
       "    <tr>\n",
       "      <th>Packager</th>\n",
       "      <td>1000</td>\n",
       "    </tr>\n",
       "    <tr>\n",
       "      <th>Pediatric Speech Language Pathologist</th>\n",
       "      <td>958</td>\n",
       "    </tr>\n",
       "    <tr>\n",
       "      <th>Retail Sales Representative</th>\n",
       "      <td>810</td>\n",
       "    </tr>\n",
       "    <tr>\n",
       "      <th>Registered Nurse (RN)</th>\n",
       "      <td>701</td>\n",
       "    </tr>\n",
       "    <tr>\n",
       "      <th>...</th>\n",
       "      <td>...</td>\n",
       "    </tr>\n",
       "    <tr>\n",
       "      <th>Maintenance Planner</th>\n",
       "      <td>10</td>\n",
       "    </tr>\n",
       "    <tr>\n",
       "      <th>Hospital Admissions Coordinator</th>\n",
       "      <td>10</td>\n",
       "    </tr>\n",
       "    <tr>\n",
       "      <th>Finance Manager</th>\n",
       "      <td>10</td>\n",
       "    </tr>\n",
       "    <tr>\n",
       "      <th>Saw Operator</th>\n",
       "      <td>10</td>\n",
       "    </tr>\n",
       "    <tr>\n",
       "      <th>Sewing Machine Operator</th>\n",
       "      <td>10</td>\n",
       "    </tr>\n",
       "  </tbody>\n",
       "</table>\n",
       "<p>352 rows × 1 columns</p>\n",
       "</div>"
      ],
      "text/plain": [
       "                                       count\n",
       "Warehouse Worker                        1000\n",
       "Packager                                1000\n",
       "Pediatric Speech Language Pathologist    958\n",
       "Retail Sales Representative              810\n",
       "Registered Nurse (RN)                    701\n",
       "...                                      ...\n",
       "Maintenance Planner                       10\n",
       "Hospital Admissions Coordinator           10\n",
       "Finance Manager                           10\n",
       "Saw Operator                              10\n",
       "Sewing Machine Operator                   10\n",
       "\n",
       "[352 rows x 1 columns]"
      ]
     },
     "execution_count": 12,
     "metadata": {},
     "output_type": "execute_result"
    }
   ],
   "source": [
    "df_pos.JobTitle.value_counts().to_frame(name='count')"
   ]
  },
  {
   "cell_type": "markdown",
   "metadata": {
    "tags": []
   },
   "source": [
    "### Train and test set split"
   ]
  },
  {
   "cell_type": "code",
   "execution_count": 82,
   "metadata": {},
   "outputs": [],
   "source": [
    "df_pos = df_pos[df_pos['Description'].notnull()]\n",
    "df_pos.dropna(inplace=True)"
   ]
  },
  {
   "cell_type": "code",
   "execution_count": 18,
   "metadata": {},
   "outputs": [],
   "source": [
    "text_col, target_col = 'Description', 'JobTitle'\n",
    "\n",
    "from sklearn.preprocessing import LabelBinarizer\n",
    "label_as_binary = LabelBinarizer()\n",
    "\n",
    "label_as_binary.fit(df_pos[target_col])\n",
    "\n",
    "training_set = df_pos[[text_col, target_col]].sample(frac=0.8, random_state=41)\n",
    "test_set = df_pos[~df_pos.index.isin(training_set.index)][[text_col, target_col]]\n",
    "\n",
    "train__y_labels = label_as_binary.transform(training_set[target_col])\n",
    "test__y_labels = label_as_binary.transform(test_set[target_col])"
   ]
  },
  {
   "cell_type": "code",
   "execution_count": 19,
   "metadata": {},
   "outputs": [],
   "source": [
    "assert(len(training_set) + len(test_set) == len(df_pos))"
   ]
  },
  {
   "cell_type": "markdown",
   "metadata": {},
   "source": [
    "What is a good size for the sequence_length? "
   ]
  },
  {
   "cell_type": "code",
   "execution_count": 34,
   "metadata": {},
   "outputs": [
    {
     "data": {
      "text/plain": [
       "0.50    225.00\n",
       "0.60    285.00\n",
       "0.70    334.00\n",
       "0.80    386.00\n",
       "0.90    516.00\n",
       "0.95    606.85\n",
       "0.99    940.00\n",
       "Name: Description, dtype: float64"
      ]
     },
     "execution_count": 34,
     "metadata": {},
     "output_type": "execute_result"
    }
   ],
   "source": [
    "df_pos.Description.apply(lambda x: len(x.split(' '))).quantile([0.5,0.6,0.7,0.8,0.9,0.95,0.99])"
   ]
  },
  {
   "cell_type": "markdown",
   "metadata": {},
   "source": [
    "What is a good size for the vocabulary? "
   ]
  },
  {
   "cell_type": "code",
   "execution_count": 36,
   "metadata": {},
   "outputs": [
    {
     "name": "stdout",
     "output_type": "stream",
     "text": [
      "16663\n"
     ]
    }
   ],
   "source": [
    "from sklearn.feature_extraction.text import CountVectorizer\n",
    "bow_transformer = CountVectorizer(min_df=5).fit(df_pos['Description'])\n",
    "\n",
    "# Print total number of vocab words\n",
    "print(len(bow_transformer.vocabulary_))"
   ]
  },
  {
   "cell_type": "code",
   "execution_count": 38,
   "metadata": {},
   "outputs": [],
   "source": [
    "vocab_size = 16663\n",
    "sequence_length = 516\n",
    "\n",
    "# Use the text vectorization layer to normalize, split, and map strings to integers. Set maximum_sequence length as all samples are not of the same length.\n",
    "vectorize_layer = TextVectorization(\n",
    "    #standardize=lambda text: tf.strings.lower(text), # You can use your own normalization function here\n",
    "    max_tokens=vocab_size,\n",
    "    output_mode='int',\n",
    "    name = 'Text_processing',\n",
    "    output_sequence_length=sequence_length\n",
    ")"
   ]
  },
  {
   "cell_type": "code",
   "execution_count": 41,
   "metadata": {},
   "outputs": [],
   "source": [
    "vectorize_layer.adapt(training_set[text_col])"
   ]
  },
  {
   "cell_type": "code",
   "execution_count": 44,
   "metadata": {},
   "outputs": [
    {
     "name": "stdout",
     "output_type": "stream",
     "text": [
      "Are you a Senior Proposal Writer who enjoys the challenge of writing proposals and working on a collaborative team? Are you looking for an opportunity to work with an established company that values its employee’s enthusiasm and technical contributions? If so, we want to talk to you! Our client has an exciting remote (IN THE USA) contract to hire opportunity for a Senior Proposal Writer! The ideal candidate is seeking challenging work and\n"
     ]
    },
    {
     "data": {
      "text/plain": [
       "<tf.Tensor: shape=(516,), dtype=int64, numpy=\n",
       "array([  13,   10,    5, 1270, 1800, 4035,   37, 2644,    4, 2531,    6,\n",
       "       1643, 3457,    2,   83,   23,    5,  674,   29,   13,   10,   41,\n",
       "          7,   20,   40,    3,   17,   11,   20, 1025,   63,   22,  585,\n",
       "        414, 5352, 7513,    2,  572,  541,   48,  115,   14,  515,    3,\n",
       "       2520,    3,   10,    9,  293,  154,   20, 1935, 1653,    8,    4,\n",
       "       4343,  419,    3,  240,   40,    7,    5, 1270, 1800, 4035,    4,\n",
       "        709,  765,   12,  206, 2934,   17,    2,    0,    0,    0,    0,\n",
       "          0,    0,    0,    0,    0,    0,    0,    0,    0,    0,    0,\n",
       "          0,    0,    0,    0,    0,    0,    0,    0,    0,    0,    0,\n",
       "          0,    0,    0,    0,    0,    0,    0,    0,    0,    0,    0,\n",
       "          0,    0,    0,    0,    0,    0,    0,    0,    0,    0,    0,\n",
       "          0,    0,    0,    0,    0,    0,    0,    0,    0,    0,    0,\n",
       "          0,    0,    0,    0,    0,    0,    0,    0,    0,    0,    0,\n",
       "          0,    0,    0,    0,    0,    0,    0,    0,    0,    0,    0,\n",
       "          0,    0,    0,    0,    0,    0,    0,    0,    0,    0,    0,\n",
       "          0,    0,    0,    0,    0,    0,    0,    0,    0,    0,    0,\n",
       "          0,    0,    0,    0,    0,    0,    0,    0,    0,    0,    0,\n",
       "          0,    0,    0,    0,    0,    0,    0,    0,    0,    0,    0,\n",
       "          0,    0,    0,    0,    0,    0,    0,    0,    0,    0,    0,\n",
       "          0,    0,    0,    0,    0,    0,    0,    0,    0,    0,    0,\n",
       "          0,    0,    0,    0,    0,    0,    0,    0,    0,    0,    0,\n",
       "          0,    0,    0,    0,    0,    0,    0,    0,    0,    0,    0,\n",
       "          0,    0,    0,    0,    0,    0,    0,    0,    0,    0,    0,\n",
       "          0,    0,    0,    0,    0,    0,    0,    0,    0,    0,    0,\n",
       "          0,    0,    0,    0,    0,    0,    0,    0,    0,    0,    0,\n",
       "          0,    0,    0,    0,    0,    0,    0,    0,    0,    0,    0,\n",
       "          0,    0,    0,    0,    0,    0,    0,    0,    0,    0,    0,\n",
       "          0,    0,    0,    0,    0,    0,    0,    0,    0,    0,    0,\n",
       "          0,    0,    0,    0,    0,    0,    0,    0,    0,    0,    0,\n",
       "          0,    0,    0,    0,    0,    0,    0,    0,    0,    0,    0,\n",
       "          0,    0,    0,    0,    0,    0,    0,    0,    0,    0,    0,\n",
       "          0,    0,    0,    0,    0,    0,    0,    0,    0,    0,    0,\n",
       "          0,    0,    0,    0,    0,    0,    0,    0,    0,    0,    0,\n",
       "          0,    0,    0,    0,    0,    0,    0,    0,    0,    0,    0,\n",
       "          0,    0,    0,    0,    0,    0,    0,    0,    0,    0,    0,\n",
       "          0,    0,    0,    0,    0,    0,    0,    0,    0,    0,    0,\n",
       "          0,    0,    0,    0,    0,    0,    0,    0,    0,    0,    0,\n",
       "          0,    0,    0,    0,    0,    0,    0,    0,    0,    0,    0,\n",
       "          0,    0,    0,    0,    0,    0,    0,    0,    0,    0,    0,\n",
       "          0,    0,    0,    0,    0,    0,    0,    0,    0,    0,    0,\n",
       "          0,    0,    0,    0,    0,    0,    0,    0,    0,    0,    0,\n",
       "          0,    0,    0,    0,    0,    0,    0,    0,    0,    0,    0,\n",
       "          0,    0,    0,    0,    0,    0,    0,    0,    0,    0,    0,\n",
       "          0,    0,    0,    0,    0,    0,    0,    0,    0,    0,    0,\n",
       "          0,    0,    0,    0,    0,    0,    0,    0,    0,    0,    0,\n",
       "          0,    0,    0,    0,    0,    0,    0,    0,    0,    0,    0,\n",
       "          0,    0,    0,    0,    0,    0,    0,    0,    0,    0],\n",
       "      dtype=int64)>"
      ]
     },
     "execution_count": 44,
     "metadata": {},
     "output_type": "execute_result"
    }
   ],
   "source": [
    "sample_description = training_set[text_col].sample().iloc[0]\n",
    "print(sample_description)\n",
    "vectorize_layer(sample_description)"
   ]
  },
  {
   "cell_type": "code",
   "execution_count": 45,
   "metadata": {},
   "outputs": [],
   "source": [
    "# for token in vectorize_layer(sample_description).numpy()[:20]:\n",
    "#     print(f\"{token} ---> \",vectorize_layer.get_vocabulary()[token])"
   ]
  },
  {
   "cell_type": "markdown",
   "metadata": {},
   "source": [
    "### Modeling"
   ]
  },
  {
   "cell_type": "markdown",
   "metadata": {
    "tags": []
   },
   "source": [
    "### Descriptions squashed into 1 average embedding vector, size 16"
   ]
  },
  {
   "cell_type": "code",
   "execution_count": null,
   "metadata": {},
   "outputs": [],
   "source": [
    "embedding_dim1=32\n",
    "\n",
    "model1 = tf.keras.Sequential([\n",
    "    vectorize_layer1,\n",
    "    Embedding(vocab_size1, embedding_dim1, name=\"embedding\"),\n",
    "    GlobalAveragePooling1D(),\n",
    "#     Dropout(0.03),\n",
    "    Dense(4096, activation='elu', name='hidden_layer'),\n",
    "#     Dropout(0.01),\n",
    "#     Dense(2048, activation='elu', name='hidden_layer2'),\n",
    "#     Dropout(0.02),\n",
    "#     Dense(1024, activation='relu', name='hidden_layer2'),\n",
    "    Dense(df_pos1.JobTitle.nunique(), name = 'output_layer', activation='softmax')\n",
    "])"
   ]
  },
  {
   "cell_type": "code",
   "execution_count": null,
   "metadata": {},
   "outputs": [],
   "source": [
    "model1.summary()"
   ]
  },
  {
   "cell_type": "code",
   "execution_count": null,
   "metadata": {},
   "outputs": [],
   "source": [
    "tf.keras.utils.plot_model(model1, show_dtype=True, show_shapes=True, show_layer_names=True)"
   ]
  },
  {
   "cell_type": "code",
   "execution_count": null,
   "metadata": {},
   "outputs": [],
   "source": [
    "model1.compile(\n",
    "    optimizer=tf.optimizers.Adam(),\n",
    "    loss=tf.keras.losses.categorical_crossentropy,\n",
    "    metrics = ['accuracy'])"
   ]
  },
  {
   "cell_type": "markdown",
   "metadata": {},
   "source": [
    "#### Creating checkpoints for model weights"
   ]
  },
  {
   "cell_type": "code",
   "execution_count": 47,
   "metadata": {},
   "outputs": [],
   "source": [
    "# checkpoint_path = 'Deep_models_weights'\n",
    "cp_callback = [tf.keras.callbacks.ModelCheckpoint(\n",
    "    filepath='Deep_model_weights/model.{epoch:02d}-val_loss{val_loss:.3f}-val_precision{val_precision:.3f}-val_recall{val_recall:.3f}.tf', \n",
    "    verbose=1, \n",
    "    save_weights_only=True,\n",
    "    save_freq= 'epoch')]"
   ]
  },
  {
   "cell_type": "code",
   "execution_count": null,
   "metadata": {},
   "outputs": [],
   "source": [
    "# from tensorflow import keras\n",
    "\n",
    "# checkpoint_path = 'Deep_models_weights'\n",
    "# callbacks  = [\n",
    "#     keras.callbacks.ModelCheckpoint(\n",
    "#         filepath=checkpoint_path, \n",
    "#         monitor='val_loss',\n",
    "#         verbose=1,\n",
    "#         save_best_only=True,\n",
    "#         save_weights_only=True,\n",
    "#         save_freq='epoch'),\n",
    "#     keras.callbacks.EarlyStopping(\n",
    "#         monitor='val_recall',\n",
    "#         min_delta=0,\n",
    "#         patience=20,\n",
    "#         verbose=1)\n",
    "#     ]"
   ]
  },
  {
   "cell_type": "markdown",
   "metadata": {},
   "source": [
    "#### Model fit"
   ]
  },
  {
   "cell_type": "code",
   "execution_count": null,
   "metadata": {
    "tags": []
   },
   "outputs": [],
   "source": [
    "%%time\n",
    "history = model.fit(\n",
    "    training_set[text_col],\n",
    "    train__y_labels,\n",
    "    epochs=10,\n",
    "    batch_size=1024,\n",
    "    verbose=1,\n",
    "    callbacks=cp_callback,\n",
    "    validation_data = (test_set[text_col], test__y_labels)\n",
    ")"
   ]
  },
  {
   "cell_type": "markdown",
   "metadata": {
    "jp-MarkdownHeadingCollapsed": true,
    "tags": []
   },
   "source": [
    "### !!!! ADD OR DELETE - Descriptions words concatinated"
   ]
  },
  {
   "cell_type": "code",
   "execution_count": null,
   "metadata": {},
   "outputs": [],
   "source": [
    "embedding_dim=32\n",
    "\n",
    "model2 = tf.keras.Sequential([\n",
    "    vectorize_layer,\n",
    "    Embedding(vocab_size, embedding_dim, name=\"embedding\"),\n",
    "#     GlobalAveragePooling1D(),\n",
    "    Reshape((embedding_dim * sequence_length, ), name='concat_words'),\n",
    "#     Dropout(0.1),\n",
    "    Dense(4096, activation='relu', name='hidden_layer_1'),\n",
    "#     Dropout(0.04),\n",
    "#     Dense(2048, activation='relu', name='hidden_layer_2'),\n",
    "    Dense(df_pos.JobTitle.nunique(), name = 'output_layer')\n",
    "])"
   ]
  },
  {
   "cell_type": "code",
   "execution_count": null,
   "metadata": {},
   "outputs": [],
   "source": [
    "model2.summary()"
   ]
  },
  {
   "cell_type": "code",
   "execution_count": null,
   "metadata": {},
   "outputs": [],
   "source": [
    "tf.keras.utils.plot_model(model2, show_dtype=True, show_shapes=True, show_layer_names=True)"
   ]
  },
  {
   "cell_type": "code",
   "execution_count": null,
   "metadata": {},
   "outputs": [],
   "source": [
    "model2.compile(\n",
    "    optimizer=tf.optimizers.Adam(),\n",
    "    loss=tf.keras.losses.categorical_crossentropy,\n",
    "    metrics = ['accuracy'])"
   ]
  },
  {
   "cell_type": "code",
   "execution_count": null,
   "metadata": {
    "tags": []
   },
   "outputs": [],
   "source": [
    "%%time\n",
    "history = model2.fit(\n",
    "    training_set[text_col],\n",
    "    train__y_labels,\n",
    "    epochs=10,\n",
    "    batch_size=1024,\n",
    "    verbose=1,    \n",
    "    validation_data = (test_set[text_col], test__y_labels)\n",
    ")"
   ]
  },
  {
   "cell_type": "code",
   "execution_count": null,
   "metadata": {},
   "outputs": [],
   "source": [
    "test_set['token_with_best_prediction'] = model.predict(test_set[text_col]).argmax(axis=1)"
   ]
  },
  {
   "cell_type": "code",
   "execution_count": null,
   "metadata": {},
   "outputs": [],
   "source": [
    "test_set['prob_token_with_best_prediction'] = model.predict(test_set[text_col]).max(axis=1)"
   ]
  },
  {
   "cell_type": "code",
   "execution_count": null,
   "metadata": {
    "tags": []
   },
   "outputs": [],
   "source": [
    "test_set.head(20)"
   ]
  },
  {
   "cell_type": "markdown",
   "metadata": {
    "jp-MarkdownHeadingCollapsed": true,
    "tags": []
   },
   "source": [
    "### !!!! ADD OR DELETE - Adding additional features (besides text)"
   ]
  },
  {
   "cell_type": "markdown",
   "metadata": {
    "jp-MarkdownHeadingCollapsed": true,
    "tags": []
   },
   "source": [
    "#### Extracting Year column"
   ]
  },
  {
   "cell_type": "code",
   "execution_count": null,
   "metadata": {},
   "outputs": [],
   "source": [
    "from dateutil.parser import parse\n",
    "def extract_year_from_title(title):\n",
    "    try:\n",
    "        year = parse(title, fuzzy=True).year\n",
    "        return str(int(year)) if year > 1800 else None\n",
    "    except:\n",
    "        return None"
   ]
  },
  {
   "cell_type": "code",
   "execution_count": null,
   "metadata": {},
   "outputs": [],
   "source": [
    "sample_title = wine_reviews.sample().title.iloc[0]\n",
    "print(f'Title is: {sample_title}. Extracted year: {extract_year_from_title(sample_title)}')"
   ]
  },
  {
   "cell_type": "code",
   "execution_count": null,
   "metadata": {},
   "outputs": [],
   "source": [
    "wine_reviews['year'] = wine_reviews.title.apply(extract_year_from_title)\n",
    "wine_reviews['year'].value_counts(dropna=False).head(10)"
   ]
  },
  {
   "cell_type": "markdown",
   "metadata": {},
   "source": [
    "Is the year input informative? "
   ]
  },
  {
   "cell_type": "code",
   "execution_count": null,
   "metadata": {},
   "outputs": [],
   "source": [
    "wine_reviews.groupby('year').points.describe().query('count > 20').sort_values(by='mean',ascending=False).head()"
   ]
  },
  {
   "cell_type": "markdown",
   "metadata": {},
   "source": [
    "#### Preparing the input features"
   ]
  },
  {
   "cell_type": "code",
   "execution_count": null,
   "metadata": {},
   "outputs": [],
   "source": [
    "wine_reviews = wine_reviews.reset_index() # To ensure correctness with the below join operations"
   ]
  },
  {
   "cell_type": "code",
   "execution_count": null,
   "metadata": {},
   "outputs": [],
   "source": [
    "description_tokens = vectorize_layer(wine_reviews[text_col])"
   ]
  },
  {
   "cell_type": "code",
   "execution_count": null,
   "metadata": {},
   "outputs": [],
   "source": [
    "description_cols = [f'w_{i}' for i in range(1, description_tokens.shape[1] + 1)]\n",
    "features_df = pd.DataFrame(description_tokens.numpy(), columns=description_cols)"
   ]
  },
  {
   "cell_type": "code",
   "execution_count": null,
   "metadata": {},
   "outputs": [],
   "source": [
    "features_df = features_df.join(wine_reviews[['points','price','country','year','variety','province']])\n",
    "features_df.head()"
   ]
  },
  {
   "cell_type": "code",
   "execution_count": null,
   "metadata": {},
   "outputs": [],
   "source": [
    "features_df[categorical_featurs] = features_df[categorical_featurs].fillna('Unknown')\n",
    "features_df.price = features_df.price.fillna(features_df.price.mean())"
   ]
  },
  {
   "cell_type": "code",
   "execution_count": null,
   "metadata": {},
   "outputs": [],
   "source": [
    "features_df.country = pd.factorize(features_df.country)[0]\n",
    "features_df.year = pd.factorize(features_df.year)[0]\n",
    "features_df.variety = pd.factorize(features_df.variety)[0]\n",
    "features_df.province = pd.factorize(features_df.province)[0]\n",
    "features_df.year = pd.factorize(features_df.year)[0]"
   ]
  },
  {
   "cell_type": "code",
   "execution_count": null,
   "metadata": {},
   "outputs": [],
   "source": [
    "features_df.head()"
   ]
  },
  {
   "cell_type": "code",
   "execution_count": null,
   "metadata": {},
   "outputs": [],
   "source": [
    "features_df[categorical_featurs].apply(lambda x: pd.Series({'nunique': x.nunique(),\n",
    "                                                            'max': x.max(),\n",
    "                                                            'min': x.min()}))"
   ]
  },
  {
   "cell_type": "code",
   "execution_count": null,
   "metadata": {},
   "outputs": [],
   "source": [
    "from tensorflow.keras.layers import Input\n",
    "from tensorflow.keras import layers, Model"
   ]
  },
  {
   "cell_type": "code",
   "execution_count": null,
   "metadata": {},
   "outputs": [],
   "source": [
    "description_input = Input(\n",
    "    shape=(sequence_length,), dtype='int64', name='description'\n",
    ")\n",
    "\n",
    "year_input = Input(\n",
    "    shape=(1,), name=\"year\", dtype='int64'\n",
    ")  \n",
    "\n",
    "country_input = Input(\n",
    "    shape=(1,), name=\"country\", dtype='int64'\n",
    ")  \n",
    "\n",
    "province_input = Input(\n",
    "    shape=(1,), name=\"province\", dtype='int64'\n",
    ")\n",
    "\n",
    "variety_input = Input(\n",
    "    shape=(1,), name=\"variety\", dtype='int64'\n",
    ")\n",
    "\n",
    "price_input = Input(\n",
    "    shape=(1,), name=\"price\",\n",
    ")\n",
    "\n",
    "word_features = layers.Embedding(vocab_size, embedding_dim, input_length=sequence_length, name='word_embeddings')(description_input)\n",
    "word_features = layers.Reshape((embedding_dim * sequence_length,), name='concat_words')(word_features)\n",
    "\n",
    "year_features = layers.Embedding(100, 3, name='year_embeddings')(year_input)\n",
    "year_features = layers.Reshape((3,), name='concat_year')(year_features)\n",
    "\n",
    "country_features = layers.Embedding(50, 2, name='country_embeddings')(country_input)\n",
    "country_features = layers.Reshape((2,), name='concat_country')(country_features)\n",
    "\n",
    "province_features = layers.Embedding(500, 5, name='province_embeddings')(province_input)\n",
    "province_features = layers.Reshape((5,), name='concat_province')(province_features)\n",
    "\n",
    "variety_features = layers.Embedding(1000, 4, name='variety_embeddings')(variety_input)\n",
    "variety_features = layers.Reshape((4,), name='concat_variety')(variety_features)\n",
    "\n",
    "# Merge all available features into a single large vector via concatenation\n",
    "feature_vector = layers.concatenate([word_features, year_features, country_features, province_features, variety_features, price_input])\n",
    "x = layers.Dropout(0.2)(feature_vector)\n",
    "x = layers.Dense(256, activation='relu', name='Hidden')(x)\n",
    "# Outputs:\n",
    "predictions = layers.Dense(1, name=\"output\")(x)\n",
    "\n",
    "# Instantiate an end-to-end model predicting E,I,O:\n",
    "model = Model(\n",
    "    inputs=[description_input, year_input, country_input, province_input, variety_input, price_input],\n",
    "    outputs=predictions,\n",
    ")"
   ]
  },
  {
   "cell_type": "code",
   "execution_count": null,
   "metadata": {},
   "outputs": [],
   "source": [
    "tf.keras.utils.plot_model(model, show_dtype=True, show_shapes=True, show_layer_names=True)"
   ]
  },
  {
   "cell_type": "code",
   "execution_count": null,
   "metadata": {},
   "outputs": [],
   "source": [
    "model.summary()"
   ]
  },
  {
   "cell_type": "code",
   "execution_count": null,
   "metadata": {},
   "outputs": [],
   "source": [
    "training_set = features_df.sample(frac=0.8, random_state=42)\n",
    "test_set = features_df[~features_df.index.isin(training_set.index)]"
   ]
  },
  {
   "cell_type": "code",
   "execution_count": null,
   "metadata": {},
   "outputs": [],
   "source": [
    "assert(len(training_set) + len(test_set) == len(wine_reviews))"
   ]
  },
  {
   "cell_type": "code",
   "execution_count": null,
   "metadata": {},
   "outputs": [],
   "source": [
    "model.compile(\n",
    "    optimizer=tf.optimizers.Adam(),\n",
    "    loss='mean_absolute_error')"
   ]
  },
  {
   "cell_type": "code",
   "execution_count": null,
   "metadata": {},
   "outputs": [],
   "source": [
    "%%time\n",
    "history = model.fit(\n",
    "    {\"description\": training_set[description_cols].values, \n",
    "     \"year\": training_set['year'].values,\n",
    "     \"country\": training_set['country'].values,\n",
    "     \"province\": training_set['province'].values,\n",
    "     \"variety\": training_set['variety'].values, \n",
    "     'price': training_set['price'].values},\n",
    "    \n",
    "    {\"output\": training_set['points'].values},\n",
    "    validation_data=([test_set[description_cols].values, \n",
    "                      test_set['year'].values, \n",
    "                      test_set['country'].values, \n",
    "                      test_set['province'].values, \n",
    "                      test_set['variety'].values, \n",
    "                      test_set['price'].values],\n",
    "                     test_set['points'].values),\n",
    "    epochs=10,\n",
    "    batch_size=512,\n",
    "    verbose=1)"
   ]
  },
  {
   "cell_type": "code",
   "execution_count": null,
   "metadata": {},
   "outputs": [],
   "source": [
    "history.history"
   ]
  },
  {
   "cell_type": "code",
   "execution_count": null,
   "metadata": {},
   "outputs": [],
   "source": [
    "test_set['dnn_prediction'] = model.predict({'description': test_set[description_cols], \n",
    "                                            'year': test_set['year'], \n",
    "                                            'country': test_set['country'], \n",
    "                                            'province': test_set['province'], \n",
    "                                            'variety': test_set['variety'], \n",
    "                                            'price': test_set['price']})"
   ]
  },
  {
   "cell_type": "code",
   "execution_count": null,
   "metadata": {},
   "outputs": [],
   "source": [
    "calc_prediction_quality(test_set, 'dnn_prediction', target_col)"
   ]
  },
  {
   "cell_type": "markdown",
   "metadata": {
    "tags": []
   },
   "source": [
    "## Using pretrained embeddings"
   ]
  },
  {
   "cell_type": "code",
   "execution_count": 13,
   "metadata": {},
   "outputs": [],
   "source": [
    "%%capture\n",
    "%pip install sentence-transformers"
   ]
  },
  {
   "cell_type": "code",
   "execution_count": 14,
   "metadata": {},
   "outputs": [],
   "source": [
    "from sentence_transformers import SentenceTransformer\n",
    "model = SentenceTransformer('all-mpnet-base-v2')"
   ]
  },
  {
   "cell_type": "code",
   "execution_count": 16,
   "metadata": {},
   "outputs": [],
   "source": [
    "import pickle"
   ]
  },
  {
   "cell_type": "markdown",
   "metadata": {
    "tags": []
   },
   "source": [
    "### description_embeddings"
   ]
  },
  {
   "cell_type": "code",
   "execution_count": 39,
   "metadata": {},
   "outputs": [],
   "source": [
    "description_vectors_path = 'Transformers_pickles/descriptions_embeddings_desc.pkl'"
   ]
  },
  {
   "cell_type": "code",
   "execution_count": 41,
   "metadata": {},
   "outputs": [
    {
     "name": "stdout",
     "output_type": "stream",
     "text": [
      "Completed step 1000 out of 25404\n",
      "Completed step 2000 out of 25404\n",
      "Completed step 3000 out of 25404\n",
      "Completed step 4000 out of 25404\n",
      "Completed step 5000 out of 25404\n",
      "Completed step 6000 out of 25404\n",
      "Completed step 7000 out of 25404\n",
      "Completed step 8000 out of 25404\n",
      "Completed step 9000 out of 25404\n",
      "Completed step 10000 out of 25404\n",
      "Completed step 11000 out of 25404\n",
      "Completed step 12000 out of 25404\n",
      "Completed step 13000 out of 25404\n",
      "Completed step 14000 out of 25404\n",
      "Completed step 15000 out of 25404\n",
      "Completed step 16000 out of 25404\n",
      "Completed step 17000 out of 25404\n",
      "Completed step 18000 out of 25404\n",
      "Completed step 19000 out of 25404\n",
      "Completed step 20000 out of 25404\n",
      "Completed step 21000 out of 25404\n",
      "Completed step 22000 out of 25404\n",
      "Completed step 23000 out of 25404\n",
      "Completed step 24000 out of 25404\n",
      "Completed step 25000 out of 25404\n",
      "Wall time: 7h 30min 44s\n"
     ]
    }
   ],
   "source": [
    "%%time\n",
    "description_embeddings = []\n",
    "for i,description in enumerate(df_pos[text_col].values):\n",
    "    description_embeddings.append((i,description, model.encode(description)))\n",
    "    if (i+1) % 1000 == 0:\n",
    "        print(f'Completed step {i+1} out of {len(df_pos)}')\n",
    "        pickle.dump(description_embeddings, open(description_vectors_path, 'wb'))\n",
    "pickle.dump(description_embeddings, open(description_vectors_path, 'wb'))"
   ]
  },
  {
   "cell_type": "code",
   "execution_count": 43,
   "metadata": {},
   "outputs": [],
   "source": [
    "assert(description_embeddings[1300][1] == df_pos.Description.iloc[1300])"
   ]
  },
  {
   "cell_type": "code",
   "execution_count": null,
   "metadata": {},
   "outputs": [],
   "source": [
    "import pickle\n",
    "description_embeddings_gibui = pickle.load(open('Transformers_pickles/descriptions_embeddings_desc.pkl', 'rb'))"
   ]
  },
  {
   "cell_type": "code",
   "execution_count": 47,
   "metadata": {},
   "outputs": [
    {
     "name": "stdout",
     "output_type": "stream",
     "text": [
      "Wall time: 4.78 s\n"
     ]
    }
   ],
   "source": [
    "%%time\n",
    "rows = []\n",
    "for d in description_embeddings:\n",
    "    vector = []\n",
    "    vector.append(d[0])\n",
    "    vector.append(d[1])\n",
    "    for item in d[2]:\n",
    "        vector.append(item)\n",
    "    rows.append(vector)   "
   ]
  },
  {
   "cell_type": "code",
   "execution_count": 61,
   "metadata": {},
   "outputs": [],
   "source": [
    "descriptions_with_sentence_embeddings_df = pd.DataFrame(rows, columns = ['row_id','description'] + [f'embedding_{i}' for i in range(768)])\n",
    "descriptions_with_sentence_embeddings_df.to_pickle('descriptions_with_sentence_embeddings_df.pkl')"
   ]
  },
  {
   "cell_type": "code",
   "execution_count": null,
   "metadata": {
    "tags": []
   },
   "outputs": [],
   "source": [
    "descriptions_with_sentence_embeddings_df"
   ]
  },
  {
   "cell_type": "code",
   "execution_count": 62,
   "metadata": {},
   "outputs": [],
   "source": [
    "descriptions_with_sentence_embeddings_df = descriptions_with_sentence_embeddings_df.set_index('row_id').join(df_pos['JobTitle_tokenized'])"
   ]
  },
  {
   "cell_type": "code",
   "execution_count": 64,
   "metadata": {
    "tags": []
   },
   "outputs": [
    {
     "data": {
      "text/html": [
       "<div>\n",
       "<style scoped>\n",
       "    .dataframe tbody tr th:only-of-type {\n",
       "        vertical-align: middle;\n",
       "    }\n",
       "\n",
       "    .dataframe tbody tr th {\n",
       "        vertical-align: top;\n",
       "    }\n",
       "\n",
       "    .dataframe thead th {\n",
       "        text-align: right;\n",
       "    }\n",
       "</style>\n",
       "<table border=\"1\" class=\"dataframe\">\n",
       "  <thead>\n",
       "    <tr style=\"text-align: right;\">\n",
       "      <th></th>\n",
       "      <th>description</th>\n",
       "      <th>embedding_0</th>\n",
       "      <th>embedding_1</th>\n",
       "      <th>embedding_2</th>\n",
       "      <th>embedding_3</th>\n",
       "      <th>embedding_4</th>\n",
       "      <th>embedding_5</th>\n",
       "      <th>embedding_6</th>\n",
       "      <th>embedding_7</th>\n",
       "      <th>embedding_8</th>\n",
       "      <th>...</th>\n",
       "      <th>embedding_759</th>\n",
       "      <th>embedding_760</th>\n",
       "      <th>embedding_761</th>\n",
       "      <th>embedding_762</th>\n",
       "      <th>embedding_763</th>\n",
       "      <th>embedding_764</th>\n",
       "      <th>embedding_765</th>\n",
       "      <th>embedding_766</th>\n",
       "      <th>embedding_767</th>\n",
       "      <th>JobTitle_tokenized</th>\n",
       "    </tr>\n",
       "    <tr>\n",
       "      <th>row_id</th>\n",
       "      <th></th>\n",
       "      <th></th>\n",
       "      <th></th>\n",
       "      <th></th>\n",
       "      <th></th>\n",
       "      <th></th>\n",
       "      <th></th>\n",
       "      <th></th>\n",
       "      <th></th>\n",
       "      <th></th>\n",
       "      <th></th>\n",
       "      <th></th>\n",
       "      <th></th>\n",
       "      <th></th>\n",
       "      <th></th>\n",
       "      <th></th>\n",
       "      <th></th>\n",
       "      <th></th>\n",
       "      <th></th>\n",
       "      <th></th>\n",
       "      <th></th>\n",
       "    </tr>\n",
       "  </thead>\n",
       "  <tbody>\n",
       "    <tr>\n",
       "      <th>5731</th>\n",
       "      <td>Registered Dental Hygienists: If you are passionate about the dental industry and believe in customer care, then apply for these opportunities. We are here for you if you are looking for supplemental work Monday-Friday, 1-5 days available and the...</td>\n",
       "      <td>-0.007627</td>\n",
       "      <td>0.019185</td>\n",
       "      <td>-0.008609</td>\n",
       "      <td>-0.044907</td>\n",
       "      <td>-0.027810</td>\n",
       "      <td>0.034229</td>\n",
       "      <td>-0.007145</td>\n",
       "      <td>0.038109</td>\n",
       "      <td>-0.020477</td>\n",
       "      <td>...</td>\n",
       "      <td>0.009165</td>\n",
       "      <td>0.018022</td>\n",
       "      <td>0.016249</td>\n",
       "      <td>-0.006722</td>\n",
       "      <td>0.009799</td>\n",
       "      <td>0.005243</td>\n",
       "      <td>0.039181</td>\n",
       "      <td>-0.019987</td>\n",
       "      <td>-0.028755</td>\n",
       "      <td>209.0</td>\n",
       "    </tr>\n",
       "    <tr>\n",
       "      <th>6787</th>\n",
       "      <td>The Staffing Specialist is responsible for providing support to the Branch Manager by assisting with daily operations for a location. This position advocates for the customer and associate experience. It also works on the process of generating sa...</td>\n",
       "      <td>0.053167</td>\n",
       "      <td>-0.076452</td>\n",
       "      <td>-0.015497</td>\n",
       "      <td>-0.022781</td>\n",
       "      <td>0.012712</td>\n",
       "      <td>0.069818</td>\n",
       "      <td>-0.014010</td>\n",
       "      <td>-0.017102</td>\n",
       "      <td>-0.012395</td>\n",
       "      <td>...</td>\n",
       "      <td>0.005767</td>\n",
       "      <td>0.010127</td>\n",
       "      <td>0.048258</td>\n",
       "      <td>-0.063438</td>\n",
       "      <td>-0.016074</td>\n",
       "      <td>-0.007940</td>\n",
       "      <td>0.015705</td>\n",
       "      <td>0.036672</td>\n",
       "      <td>-0.040522</td>\n",
       "      <td>193.0</td>\n",
       "    </tr>\n",
       "    <tr>\n",
       "      <th>18536</th>\n",
       "      <td>Are you committed to holding cleanliness next to godliness? Do you have a rare penchant for getting everything just right and striving for your work to be perfect? PeopleReady is now hiring meticulous Housekeepers. Housekeepers perform light clea...</td>\n",
       "      <td>0.017356</td>\n",
       "      <td>0.062786</td>\n",
       "      <td>-0.004281</td>\n",
       "      <td>-0.022958</td>\n",
       "      <td>0.007093</td>\n",
       "      <td>-0.003858</td>\n",
       "      <td>-0.042354</td>\n",
       "      <td>0.026579</td>\n",
       "      <td>-0.019894</td>\n",
       "      <td>...</td>\n",
       "      <td>-0.028089</td>\n",
       "      <td>0.024304</td>\n",
       "      <td>0.055210</td>\n",
       "      <td>-0.038802</td>\n",
       "      <td>-0.029499</td>\n",
       "      <td>0.019202</td>\n",
       "      <td>-0.001687</td>\n",
       "      <td>0.042558</td>\n",
       "      <td>0.006724</td>\n",
       "      <td>99.0</td>\n",
       "    </tr>\n",
       "  </tbody>\n",
       "</table>\n",
       "<p>3 rows × 770 columns</p>\n",
       "</div>"
      ],
      "text/plain": [
       "                                                                                                                                                                                                                                                      description  \\\n",
       "row_id                                                                                                                                                                                                                                                              \n",
       "5731    Registered Dental Hygienists: If you are passionate about the dental industry and believe in customer care, then apply for these opportunities. We are here for you if you are looking for supplemental work Monday-Friday, 1-5 days available and the...   \n",
       "6787    The Staffing Specialist is responsible for providing support to the Branch Manager by assisting with daily operations for a location. This position advocates for the customer and associate experience. It also works on the process of generating sa...   \n",
       "18536   Are you committed to holding cleanliness next to godliness? Do you have a rare penchant for getting everything just right and striving for your work to be perfect? PeopleReady is now hiring meticulous Housekeepers. Housekeepers perform light clea...   \n",
       "\n",
       "        embedding_0  embedding_1  embedding_2  embedding_3  embedding_4  \\\n",
       "row_id                                                                    \n",
       "5731      -0.007627     0.019185    -0.008609    -0.044907    -0.027810   \n",
       "6787       0.053167    -0.076452    -0.015497    -0.022781     0.012712   \n",
       "18536      0.017356     0.062786    -0.004281    -0.022958     0.007093   \n",
       "\n",
       "        embedding_5  embedding_6  embedding_7  embedding_8  ...  \\\n",
       "row_id                                                      ...   \n",
       "5731       0.034229    -0.007145     0.038109    -0.020477  ...   \n",
       "6787       0.069818    -0.014010    -0.017102    -0.012395  ...   \n",
       "18536     -0.003858    -0.042354     0.026579    -0.019894  ...   \n",
       "\n",
       "        embedding_759  embedding_760  embedding_761  embedding_762  \\\n",
       "row_id                                                               \n",
       "5731         0.009165       0.018022       0.016249      -0.006722   \n",
       "6787         0.005767       0.010127       0.048258      -0.063438   \n",
       "18536       -0.028089       0.024304       0.055210      -0.038802   \n",
       "\n",
       "        embedding_763  embedding_764  embedding_765  embedding_766  \\\n",
       "row_id                                                               \n",
       "5731         0.009799       0.005243       0.039181      -0.019987   \n",
       "6787        -0.016074      -0.007940       0.015705       0.036672   \n",
       "18536       -0.029499       0.019202      -0.001687       0.042558   \n",
       "\n",
       "        embedding_767  JobTitle_tokenized  \n",
       "row_id                                     \n",
       "5731        -0.028755               209.0  \n",
       "6787        -0.040522               193.0  \n",
       "18536        0.006724                99.0  \n",
       "\n",
       "[3 rows x 770 columns]"
      ]
     },
     "execution_count": 64,
     "metadata": {},
     "output_type": "execute_result"
    }
   ],
   "source": [
    "descriptions_with_sentence_embeddings_df.sample(3)"
   ]
  },
  {
   "cell_type": "code",
   "execution_count": 65,
   "metadata": {},
   "outputs": [
    {
     "data": {
      "text/plain": [
       "array([['We’re looking for an exceptional School Speech Language Pathologist for a full-time position in Eudora, KS for the 2021-2022 School year, from August 11, 2021 - May 2022. This therapist will work 40 hours per week on-site with childhood and elementary students. The caseload is 35-40.Job Requirements for School Speech Language Pathologist:Desire to bring life-giving excellence to school-aged children 1 year of verifiable, supervised professional experience as a',\n",
       "        321.0]], dtype=object)"
      ]
     },
     "execution_count": 65,
     "metadata": {},
     "output_type": "execute_result"
    }
   ],
   "source": [
    "s = descriptions_with_sentence_embeddings_df[['description','JobTitle_tokenized']].sample()\n",
    "s.values"
   ]
  },
  {
   "cell_type": "code",
   "execution_count": 66,
   "metadata": {},
   "outputs": [
    {
     "data": {
      "text/plain": [
       "row_id\n",
       "21938    321.0\n",
       "Name: JobTitle_tokenized, dtype: float64"
      ]
     },
     "execution_count": 66,
     "metadata": {},
     "output_type": "execute_result"
    }
   ],
   "source": [
    "descriptions_with_sentence_embeddings_df.query('description == @s.description.iloc[0]')['JobTitle_tokenized']"
   ]
  },
  {
   "cell_type": "markdown",
   "metadata": {},
   "source": [
    "### Modedling with transformers sequence embeddings"
   ]
  },
  {
   "cell_type": "code",
   "execution_count": 67,
   "metadata": {},
   "outputs": [],
   "source": [
    "from tensorflow.keras.layers import TextVectorization, Embedding, Dense, GlobalAveragePooling1D, Dropout, Reshape, Activation"
   ]
  },
  {
   "cell_type": "code",
   "execution_count": 77,
   "metadata": {},
   "outputs": [
    {
     "data": {
      "text/plain": [
       "True"
      ]
     },
     "execution_count": 77,
     "metadata": {},
     "output_type": "execute_result"
    }
   ],
   "source": [
    "np.any(np.isnan(training[target_col]))"
   ]
  },
  {
   "cell_type": "code",
   "execution_count": 83,
   "metadata": {},
   "outputs": [
    {
     "data": {
      "text/plain": [
       "(25404, 770)"
      ]
     },
     "execution_count": 83,
     "metadata": {},
     "output_type": "execute_result"
    }
   ],
   "source": [
    "descriptions_with_sentence_embeddings_df.shape"
   ]
  },
  {
   "cell_type": "code",
   "execution_count": 84,
   "metadata": {},
   "outputs": [],
   "source": [
    "descriptions_with_sentence_embeddings_df = descriptions_with_sentence_embeddings_df[descriptions_with_sentence_embeddings_df['description'].notnull()]\n",
    "descriptions_with_sentence_embeddings_df.dropna(inplace=True)"
   ]
  },
  {
   "cell_type": "code",
   "execution_count": null,
   "metadata": {},
   "outputs": [
    {
     "data": {
      "text/plain": [
       "(25403, 770)"
      ]
     },
     "execution_count": 85,
     "metadata": {},
     "output_type": "execute_result"
    }
   ],
   "source": [
    "descriptions_with_sentence_embeddings_df.shape"
   ]
  },
  {
   "cell_type": "markdown",
   "metadata": {},
   "source": [
    "how did we got one none at that point is a mystery"
   ]
  },
  {
   "cell_type": "code",
   "execution_count": 86,
   "metadata": {},
   "outputs": [],
   "source": [
    "text_col, target_col = 'description', 'JobTitle_tokenized'\n",
    "\n",
    "from sklearn.preprocessing import LabelBinarizer\n",
    "label_as_binary = LabelBinarizer()\n",
    "\n",
    "label_as_binary.fit(df_pos[target_col])\n",
    "\n",
    "training = descriptions_with_sentence_embeddings_df.sample(frac=0.8, random_state=41)\n",
    "test = descriptions_with_sentence_embeddings_df[~descriptions_with_sentence_embeddings_df.index.isin(training_set.index)]\n",
    "\n",
    "train__y_labels = label_as_binary.transform(training[target_col])\n",
    "test__y_labels = label_as_binary.transform(test[target_col])"
   ]
  },
  {
   "cell_type": "code",
   "execution_count": 89,
   "metadata": {},
   "outputs": [],
   "source": [
    "model = tf.keras.Sequential()\n",
    "model.add(Dense(4096, input_dim=768))\n",
    "model.add(Activation('elu'))\n",
    "# model.add(Dense(2048, input_dim=2048))\n",
    "# model.add(Activation('relu'))\n",
    "model.add(Dense(df_pos.JobTitle.nunique()))\n",
    "model.add(Activation('softmax'))\n",
    "model.compile(\n",
    "    optimizer=tf.optimizers.Adam(),\n",
    "    loss=tf.keras.losses.categorical_crossentropy,\n",
    "    metrics=[tf.keras.metrics.Precision(), tf.keras.metrics.Recall(),'accuracy']\n",
    "    )"
   ]
  },
  {
   "cell_type": "code",
   "execution_count": 90,
   "metadata": {},
   "outputs": [
    {
     "name": "stdout",
     "output_type": "stream",
     "text": [
      "Model: \"sequential_1\"\n",
      "_________________________________________________________________\n",
      " Layer (type)                Output Shape              Param #   \n",
      "=================================================================\n",
      " dense_2 (Dense)             (None, 4096)              3149824   \n",
      "                                                                 \n",
      " activation_2 (Activation)   (None, 4096)              0         \n",
      "                                                                 \n",
      " dense_3 (Dense)             (None, 352)               1442144   \n",
      "                                                                 \n",
      " activation_3 (Activation)   (None, 352)               0         \n",
      "                                                                 \n",
      "=================================================================\n",
      "Total params: 4,591,968\n",
      "Trainable params: 4,591,968\n",
      "Non-trainable params: 0\n",
      "_________________________________________________________________\n"
     ]
    }
   ],
   "source": [
    "model.summary()"
   ]
  },
  {
   "cell_type": "code",
   "execution_count": 91,
   "metadata": {},
   "outputs": [
    {
     "name": "stdout",
     "output_type": "stream",
     "text": [
      "Epoch 1/30\n",
      "20/20 [==============================] - 35s 1s/step - loss: 4.2054 - precision: 0.9422 - recall: 0.0545 - accuracy: 0.2886 - val_loss: 3.0085 - val_precision: 0.9191 - val_recall: 0.1655 - val_accuracy: 0.4249\n",
      "Epoch 2/30\n",
      "20/20 [==============================] - 23s 1s/step - loss: 2.5428 - precision: 0.8505 - recall: 0.2696 - accuracy: 0.4923 - val_loss: 2.1952 - val_precision: 0.8480 - val_recall: 0.3787 - val_accuracy: 0.5424\n",
      "Epoch 3/30\n",
      "20/20 [==============================] - 23s 1s/step - loss: 1.9628 - precision: 0.8398 - recall: 0.4179 - accuracy: 0.5931 - val_loss: 1.8403 - val_precision: 0.8408 - val_recall: 0.4533 - val_accuracy: 0.6219\n",
      "Epoch 4/30\n",
      "20/20 [==============================] - 22s 1s/step - loss: 1.6787 - precision: 0.8471 - recall: 0.4832 - accuracy: 0.6476 - val_loss: 1.6553 - val_precision: 0.8418 - val_recall: 0.4995 - val_accuracy: 0.6485\n",
      "Epoch 5/30\n",
      "20/20 [==============================] - 22s 1s/step - loss: 1.5073 - precision: 0.8493 - recall: 0.5282 - accuracy: 0.6815 - val_loss: 1.5400 - val_precision: 0.8454 - val_recall: 0.5369 - val_accuracy: 0.6737\n",
      "Epoch 6/30\n",
      "20/20 [==============================] - 22s 1s/step - loss: 1.3888 - precision: 0.8532 - recall: 0.5650 - accuracy: 0.7061 - val_loss: 1.4614 - val_precision: 0.8502 - val_recall: 0.5631 - val_accuracy: 0.6934\n",
      "Epoch 7/30\n",
      "20/20 [==============================] - 23s 1s/step - loss: 1.2986 - precision: 0.8586 - recall: 0.5933 - accuracy: 0.7221 - val_loss: 1.4063 - val_precision: 0.8503 - val_recall: 0.5900 - val_accuracy: 0.7064\n",
      "Epoch 8/30\n",
      "20/20 [==============================] - 24s 1s/step - loss: 1.2259 - precision: 0.8600 - recall: 0.6137 - accuracy: 0.7369 - val_loss: 1.3724 - val_precision: 0.8510 - val_recall: 0.6003 - val_accuracy: 0.7150\n",
      "Epoch 9/30\n",
      "20/20 [==============================] - 24s 1s/step - loss: 1.1693 - precision: 0.8621 - recall: 0.6321 - accuracy: 0.7453 - val_loss: 1.3421 - val_precision: 0.8440 - val_recall: 0.6166 - val_accuracy: 0.7170\n",
      "Epoch 10/30\n",
      "20/20 [==============================] - 22s 1s/step - loss: 1.1169 - precision: 0.8636 - recall: 0.6454 - accuracy: 0.7571 - val_loss: 1.3127 - val_precision: 0.8476 - val_recall: 0.6296 - val_accuracy: 0.7294\n",
      "Epoch 11/30\n",
      "20/20 [==============================] - 23s 1s/step - loss: 1.0689 - precision: 0.8684 - recall: 0.6606 - accuracy: 0.7641 - val_loss: 1.2981 - val_precision: 0.8506 - val_recall: 0.6355 - val_accuracy: 0.7337\n",
      "Epoch 12/30\n",
      "20/20 [==============================] - 21s 1s/step - loss: 1.0302 - precision: 0.8691 - recall: 0.6670 - accuracy: 0.7680 - val_loss: 1.2870 - val_precision: 0.8503 - val_recall: 0.6430 - val_accuracy: 0.7321\n",
      "Epoch 13/30\n",
      "20/20 [==============================] - 23s 1s/step - loss: 0.9916 - precision: 0.8741 - recall: 0.6838 - accuracy: 0.7749 - val_loss: 1.2756 - val_precision: 0.8450 - val_recall: 0.6479 - val_accuracy: 0.7317\n",
      "Epoch 14/30\n",
      "20/20 [==============================] - 24s 1s/step - loss: 0.9551 - precision: 0.8761 - recall: 0.6900 - accuracy: 0.7809 - val_loss: 1.2646 - val_precision: 0.8553 - val_recall: 0.6562 - val_accuracy: 0.7369\n",
      "Epoch 15/30\n",
      "20/20 [==============================] - 25s 1s/step - loss: 0.9206 - precision: 0.8800 - recall: 0.7003 - accuracy: 0.7868 - val_loss: 1.2565 - val_precision: 0.8550 - val_recall: 0.6579 - val_accuracy: 0.7449\n",
      "Epoch 16/30\n",
      "20/20 [==============================] - 23s 1s/step - loss: 0.8937 - precision: 0.8837 - recall: 0.7065 - accuracy: 0.7926 - val_loss: 1.2486 - val_precision: 0.8596 - val_recall: 0.6627 - val_accuracy: 0.7434\n",
      "Epoch 17/30\n",
      "20/20 [==============================] - 21s 1s/step - loss: 0.8606 - precision: 0.8857 - recall: 0.7132 - accuracy: 0.7942 - val_loss: 1.2460 - val_precision: 0.8560 - val_recall: 0.6646 - val_accuracy: 0.7428\n",
      "Epoch 18/30\n",
      "20/20 [==============================] - 24s 1s/step - loss: 0.8319 - precision: 0.8879 - recall: 0.7232 - accuracy: 0.7995 - val_loss: 1.2496 - val_precision: 0.8497 - val_recall: 0.6731 - val_accuracy: 0.7447\n",
      "Epoch 19/30\n",
      "20/20 [==============================] - 23s 1s/step - loss: 0.8056 - precision: 0.8905 - recall: 0.7263 - accuracy: 0.8057 - val_loss: 1.2397 - val_precision: 0.8593 - val_recall: 0.6766 - val_accuracy: 0.7500\n",
      "Epoch 20/30\n",
      "20/20 [==============================] - 25s 1s/step - loss: 0.7831 - precision: 0.8925 - recall: 0.7327 - accuracy: 0.8085 - val_loss: 1.2540 - val_precision: 0.8472 - val_recall: 0.6753 - val_accuracy: 0.7426\n",
      "Epoch 21/30\n",
      "20/20 [==============================] - 23s 1s/step - loss: 0.7624 - precision: 0.8912 - recall: 0.7382 - accuracy: 0.8101 - val_loss: 1.2504 - val_precision: 0.8543 - val_recall: 0.6753 - val_accuracy: 0.7469\n",
      "Epoch 22/30\n",
      "20/20 [==============================] - 23s 1s/step - loss: 0.7357 - precision: 0.8960 - recall: 0.7442 - accuracy: 0.8157 - val_loss: 1.2393 - val_precision: 0.8589 - val_recall: 0.6843 - val_accuracy: 0.7522\n",
      "Epoch 23/30\n",
      "20/20 [==============================] - 21s 1s/step - loss: 0.7147 - precision: 0.8986 - recall: 0.7497 - accuracy: 0.8195 - val_loss: 1.2454 - val_precision: 0.8528 - val_recall: 0.6827 - val_accuracy: 0.7493\n",
      "Epoch 24/30\n",
      "20/20 [==============================] - 24s 1s/step - loss: 0.6956 - precision: 0.9003 - recall: 0.7528 - accuracy: 0.8225 - val_loss: 1.2467 - val_precision: 0.8569 - val_recall: 0.6857 - val_accuracy: 0.7516\n",
      "Epoch 25/30\n",
      "20/20 [==============================] - 25s 1s/step - loss: 0.6732 - precision: 0.9036 - recall: 0.7608 - accuracy: 0.8277 - val_loss: 1.2492 - val_precision: 0.8607 - val_recall: 0.6833 - val_accuracy: 0.7526\n",
      "Epoch 26/30\n",
      "20/20 [==============================] - 23s 1s/step - loss: 0.6554 - precision: 0.9066 - recall: 0.7649 - accuracy: 0.8314 - val_loss: 1.2482 - val_precision: 0.8550 - val_recall: 0.6859 - val_accuracy: 0.7544\n",
      "Epoch 27/30\n",
      "20/20 [==============================] - 26s 1s/step - loss: 0.6376 - precision: 0.9048 - recall: 0.7706 - accuracy: 0.8327 - val_loss: 1.2597 - val_precision: 0.8493 - val_recall: 0.6898 - val_accuracy: 0.7520\n",
      "Epoch 28/30\n",
      "20/20 [==============================] - 26s 1s/step - loss: 0.6238 - precision: 0.9082 - recall: 0.7718 - accuracy: 0.8365 - val_loss: 1.2576 - val_precision: 0.8476 - val_recall: 0.6971 - val_accuracy: 0.7573\n",
      "Epoch 29/30\n",
      "20/20 [==============================] - 24s 1s/step - loss: 0.6072 - precision: 0.9100 - recall: 0.7785 - accuracy: 0.8398 - val_loss: 1.2678 - val_precision: 0.8452 - val_recall: 0.6953 - val_accuracy: 0.7532\n",
      "Epoch 30/30\n",
      "20/20 [==============================] - 21s 1s/step - loss: 0.5938 - precision: 0.9103 - recall: 0.7839 - accuracy: 0.8416 - val_loss: 1.2726 - val_precision: 0.8474 - val_recall: 0.6942 - val_accuracy: 0.7516\n"
     ]
    }
   ],
   "source": [
    "f_vector = [f'embedding_{i}' for i in range(768)]\n",
    "history = model.fit(training[f_vector], \n",
    "          train__y_labels, \n",
    "          validation_data=(test[f_vector], test__y_labels), \n",
    "          epochs=30,\n",
    "          batch_size=1024,\n",
    "          verbose=1)"
   ]
  },
  {
   "cell_type": "markdown",
   "metadata": {},
   "source": [
    "* Further training"
   ]
  },
  {
   "cell_type": "code",
   "execution_count": 92,
   "metadata": {},
   "outputs": [
    {
     "name": "stdout",
     "output_type": "stream",
     "text": [
      "Epoch 1/20\n",
      "20/20 [==============================] - 28s 1s/step - loss: 0.5777 - precision: 0.9136 - recall: 0.7871 - accuracy: 0.8465 - val_loss: 1.2786 - val_precision: 0.8463 - val_recall: 0.6979 - val_accuracy: 0.7540\n",
      "Epoch 2/20\n",
      "20/20 [==============================] - 22s 1s/step - loss: 0.5648 - precision: 0.9129 - recall: 0.7897 - accuracy: 0.8478 - val_loss: 1.2865 - val_precision: 0.8477 - val_recall: 0.7020 - val_accuracy: 0.7548\n",
      "Epoch 3/20\n",
      "20/20 [==============================] - 22s 1s/step - loss: 0.5501 - precision: 0.9161 - recall: 0.7962 - accuracy: 0.8515 - val_loss: 1.2900 - val_precision: 0.8489 - val_recall: 0.6997 - val_accuracy: 0.7536\n",
      "Epoch 4/20\n",
      "20/20 [==============================] - 21s 1s/step - loss: 0.5371 - precision: 0.9164 - recall: 0.7971 - accuracy: 0.8537 - val_loss: 1.2969 - val_precision: 0.8449 - val_recall: 0.7024 - val_accuracy: 0.7573\n",
      "Epoch 5/20\n",
      "20/20 [==============================] - 22s 1s/step - loss: 0.5247 - precision: 0.9207 - recall: 0.8031 - accuracy: 0.8584 - val_loss: 1.3076 - val_precision: 0.8452 - val_recall: 0.7018 - val_accuracy: 0.7546\n",
      "Epoch 6/20\n",
      "20/20 [==============================] - 20s 1s/step - loss: 0.5144 - precision: 0.9215 - recall: 0.8067 - accuracy: 0.8615 - val_loss: 1.3131 - val_precision: 0.8454 - val_recall: 0.7062 - val_accuracy: 0.7514\n",
      "Epoch 7/20\n",
      "20/20 [==============================] - 22s 1s/step - loss: 0.5054 - precision: 0.9194 - recall: 0.8096 - accuracy: 0.8621 - val_loss: 1.3197 - val_precision: 0.8452 - val_recall: 0.7018 - val_accuracy: 0.7538\n",
      "Epoch 8/20\n",
      "20/20 [==============================] - 20s 1s/step - loss: 0.4957 - precision: 0.9217 - recall: 0.8117 - accuracy: 0.8651 - val_loss: 1.3242 - val_precision: 0.8449 - val_recall: 0.7056 - val_accuracy: 0.7540\n",
      "Epoch 9/20\n",
      "20/20 [==============================] - 23s 1s/step - loss: 0.4808 - precision: 0.9237 - recall: 0.8188 - accuracy: 0.8690 - val_loss: 1.3293 - val_precision: 0.8400 - val_recall: 0.7077 - val_accuracy: 0.7571\n",
      "Epoch 10/20\n",
      "20/20 [==============================] - 22s 1s/step - loss: 0.4754 - precision: 0.9244 - recall: 0.8189 - accuracy: 0.8688 - val_loss: 1.3394 - val_precision: 0.8331 - val_recall: 0.7091 - val_accuracy: 0.7540\n",
      "Epoch 11/20\n",
      "20/20 [==============================] - 25s 1s/step - loss: 0.4653 - precision: 0.9246 - recall: 0.8223 - accuracy: 0.8710 - val_loss: 1.3490 - val_precision: 0.8397 - val_recall: 0.7085 - val_accuracy: 0.7571\n",
      "Epoch 12/20\n",
      "20/20 [==============================] - 21s 1s/step - loss: 0.4559 - precision: 0.9250 - recall: 0.8250 - accuracy: 0.8743 - val_loss: 1.3651 - val_precision: 0.8355 - val_recall: 0.7115 - val_accuracy: 0.7518\n",
      "Epoch 13/20\n",
      "20/20 [==============================] - 23s 1s/step - loss: 0.4481 - precision: 0.9273 - recall: 0.8264 - accuracy: 0.8743 - val_loss: 1.3604 - val_precision: 0.8379 - val_recall: 0.7140 - val_accuracy: 0.7571\n",
      "Epoch 14/20\n",
      "20/20 [==============================] - 20s 1s/step - loss: 0.4408 - precision: 0.9274 - recall: 0.8316 - accuracy: 0.8765 - val_loss: 1.3643 - val_precision: 0.8379 - val_recall: 0.7119 - val_accuracy: 0.7563\n",
      "Epoch 15/20\n",
      "20/20 [==============================] - 22s 1s/step - loss: 0.4331 - precision: 0.9277 - recall: 0.8327 - accuracy: 0.8801 - val_loss: 1.3906 - val_precision: 0.8307 - val_recall: 0.7138 - val_accuracy: 0.7530\n",
      "Epoch 16/20\n",
      "20/20 [==============================] - 24s 1s/step - loss: 0.4266 - precision: 0.9287 - recall: 0.8365 - accuracy: 0.8792 - val_loss: 1.3824 - val_precision: 0.8376 - val_recall: 0.7168 - val_accuracy: 0.7591\n",
      "Epoch 17/20\n",
      "20/20 [==============================] - 20s 1s/step - loss: 0.4203 - precision: 0.9294 - recall: 0.8373 - accuracy: 0.8820 - val_loss: 1.3975 - val_precision: 0.8333 - val_recall: 0.7140 - val_accuracy: 0.7567\n",
      "Epoch 18/20\n",
      "20/20 [==============================] - 23s 1s/step - loss: 0.4096 - precision: 0.9315 - recall: 0.8398 - accuracy: 0.8837 - val_loss: 1.3986 - val_precision: 0.8351 - val_recall: 0.7164 - val_accuracy: 0.7560\n",
      "Epoch 19/20\n",
      "20/20 [==============================] - 24s 1s/step - loss: 0.4003 - precision: 0.9342 - recall: 0.8435 - accuracy: 0.8858 - val_loss: 1.4075 - val_precision: 0.8313 - val_recall: 0.7178 - val_accuracy: 0.7562\n",
      "Epoch 20/20\n",
      "20/20 [==============================] - 24s 1s/step - loss: 0.3982 - precision: 0.9329 - recall: 0.8467 - accuracy: 0.8886 - val_loss: 1.4260 - val_precision: 0.8284 - val_recall: 0.7162 - val_accuracy: 0.7538\n"
     ]
    }
   ],
   "source": [
    "f_vector = [f'embedding_{i}' for i in range(768)]\n",
    "history = model.fit(training[f_vector], \n",
    "          train__y_labels, \n",
    "          validation_data=(test[f_vector], test__y_labels), \n",
    "          epochs=20,\n",
    "          batch_size=1024,\n",
    "          verbose=1)"
   ]
  },
  {
   "cell_type": "markdown",
   "metadata": {},
   "source": [
    "# Adding an additional column with information"
   ]
  },
  {
   "cell_type": "markdown",
   "metadata": {
    "tags": []
   },
   "source": [
    "### ExtJobTitleText_embeddings"
   ]
  },
  {
   "cell_type": "code",
   "execution_count": 48,
   "metadata": {},
   "outputs": [],
   "source": [
    "ext_job_title_vectors_path = 'Transformers_pickles/ext_job_title_embeddings_desc.pkl'"
   ]
  },
  {
   "cell_type": "code",
   "execution_count": 49,
   "metadata": {},
   "outputs": [
    {
     "name": "stdout",
     "output_type": "stream",
     "text": [
      "Completed step 1000 out of 25404\n",
      "Completed step 2000 out of 25404\n",
      "Completed step 3000 out of 25404\n",
      "Completed step 4000 out of 25404\n",
      "Completed step 5000 out of 25404\n",
      "Completed step 6000 out of 25404\n",
      "Completed step 7000 out of 25404\n",
      "Completed step 8000 out of 25404\n",
      "Completed step 9000 out of 25404\n",
      "Completed step 10000 out of 25404\n",
      "Completed step 11000 out of 25404\n",
      "Completed step 12000 out of 25404\n",
      "Completed step 13000 out of 25404\n",
      "Completed step 14000 out of 25404\n",
      "Completed step 15000 out of 25404\n",
      "Completed step 16000 out of 25404\n",
      "Completed step 17000 out of 25404\n",
      "Completed step 18000 out of 25404\n",
      "Completed step 19000 out of 25404\n",
      "Completed step 20000 out of 25404\n",
      "Completed step 21000 out of 25404\n",
      "Completed step 22000 out of 25404\n",
      "Completed step 23000 out of 25404\n",
      "Completed step 24000 out of 25404\n",
      "Completed step 25000 out of 25404\n",
      "Wall time: 37min 56s\n"
     ]
    }
   ],
   "source": [
    "%%time\n",
    "ext_job_title_embeddings = []\n",
    "for i,description in enumerate(df_pos['ExtJobTitleText'].values):\n",
    "    ext_job_title_embeddings.append((i,description, model.encode(description)))\n",
    "    if (i+1) % 1000 == 0:\n",
    "        print(f'Completed step {i+1} out of {len(df_pos)}')\n",
    "        pickle.dump(ext_job_title_embeddings, open(ext_job_title_vectors_path, 'wb'))\n",
    "pickle.dump(ext_job_title_embeddings, open(ext_job_title_vectors_path, 'wb'))"
   ]
  },
  {
   "cell_type": "code",
   "execution_count": 100,
   "metadata": {
    "collapsed": true,
    "jupyter": {
     "outputs_hidden": true
    },
    "tags": []
   },
   "outputs": [
    {
     "data": {
      "text/plain": [
       "[(0,\n",
       "  'Technician I',\n",
       "  array([ 7.95781706e-03, -3.90867442e-02, -2.52043866e-02,  5.29772323e-03,\n",
       "         -2.36905944e-02,  1.17308926e-02,  2.35404875e-02,  1.38915060e-02,\n",
       "         -3.20590809e-02,  8.28195829e-04,  4.41534072e-02, -2.09397525e-02,\n",
       "          2.34017405e-03,  7.22711906e-02,  2.48976238e-02,  2.49476405e-03,\n",
       "         -3.54840327e-03,  1.29383495e-02, -1.91736594e-02, -5.85854426e-03,\n",
       "          1.52683733e-02,  5.33449650e-02, -2.88587660e-02,  3.03384718e-02,\n",
       "         -9.11546573e-02,  1.73421316e-02,  4.67448272e-02,  1.06221123e-03,\n",
       "         -1.42873181e-02,  4.36828770e-02,  5.53772822e-02,  8.66331626e-03,\n",
       "          1.84997935e-02,  5.71507625e-02,  1.68100814e-06,  3.41190100e-02,\n",
       "          9.34779830e-03, -2.95979856e-03, -6.72660545e-02, -1.65763944e-02,\n",
       "         -6.27182201e-02,  1.34818126e-02,  2.08702423e-02,  4.10781391e-02,\n",
       "          4.53181472e-03,  2.97433231e-03,  3.35708112e-02,  3.84782674e-03,\n",
       "          5.38140628e-03, -3.12295929e-02, -2.17755809e-02,  2.78289765e-02,\n",
       "         -3.04711629e-02, -3.66397649e-02, -1.53854620e-02, -8.38645920e-03,\n",
       "         -1.22414269e-02,  1.38294576e-02,  5.29658869e-02,  9.57626030e-02,\n",
       "          1.61311924e-02, -2.75928457e-03,  2.82001086e-02,  4.66809515e-03,\n",
       "          3.46117020e-02,  2.78326161e-02,  1.25663996e-01, -3.75681408e-02,\n",
       "          4.85784933e-02, -1.91340167e-02,  5.58526590e-02,  3.71750593e-02,\n",
       "          3.29814409e-03,  1.25342682e-01, -2.30071228e-02, -3.52935046e-02,\n",
       "         -7.31703639e-03,  3.10138855e-02, -7.03850761e-02, -5.35579436e-02,\n",
       "         -4.50454094e-02, -7.92954210e-03,  4.16290294e-03, -3.69922332e-02,\n",
       "         -5.13688400e-02,  1.54342735e-02, -1.45707792e-02, -2.23197397e-02,\n",
       "         -8.19855835e-03,  5.51452823e-02, -4.83015101e-05, -3.44059151e-03,\n",
       "         -2.90740971e-02,  1.15055377e-02, -8.17113668e-02, -9.02542379e-03,\n",
       "          6.93278527e-03, -1.93775650e-02, -6.02727495e-02,  1.50661776e-02,\n",
       "         -4.86500002e-02, -1.73898656e-02,  2.27842722e-02,  3.30502428e-02,\n",
       "         -4.61722240e-02, -1.45863714e-02,  5.34242801e-02,  5.48960567e-02,\n",
       "         -9.57049057e-03,  1.90495849e-02, -1.15199611e-02, -3.55641656e-02,\n",
       "         -5.71280485e-03,  2.69722044e-02,  8.20827037e-02,  1.50422528e-02,\n",
       "          1.67871993e-02,  3.58016603e-02, -1.01921670e-02,  3.15484032e-02,\n",
       "          1.76053382e-02,  5.35906199e-03, -2.29110289e-02,  1.27166500e-02,\n",
       "          1.92222167e-02, -4.36582528e-02, -2.90168859e-02,  1.42249316e-02,\n",
       "          1.41047956e-02, -1.93504784e-02, -1.85937565e-02, -2.24488042e-02,\n",
       "          1.50119560e-02, -2.55546886e-02, -1.20281270e-02, -9.58246086e-03,\n",
       "         -6.35504201e-02,  6.40507927e-03, -1.20049878e-03, -4.72345129e-02,\n",
       "          1.87317673e-02, -2.90988330e-02, -4.58661318e-02,  2.59994958e-02,\n",
       "          1.45128416e-02,  6.08408172e-03,  2.07552835e-02,  1.90347414e-02,\n",
       "          2.69384347e-02,  1.68263763e-02, -2.50908127e-03,  3.24875750e-02,\n",
       "         -3.24819386e-02,  2.10397672e-02,  1.65754836e-02,  3.15485895e-02,\n",
       "         -6.46610884e-03, -7.20016286e-02, -4.68189865e-02,  2.63922904e-02,\n",
       "          5.03362669e-03, -1.74000114e-02,  2.74157394e-02,  6.19843416e-03,\n",
       "         -4.88849506e-02,  5.68833784e-05, -1.60784256e-02, -2.30663363e-02,\n",
       "         -7.30127171e-02, -5.09041771e-02,  4.37196679e-02,  4.81845858e-03,\n",
       "         -6.13573426e-03,  6.22955710e-02,  9.82980896e-03, -1.46318674e-02,\n",
       "          2.99898591e-02,  8.55007861e-03, -5.25325537e-03, -2.87498049e-02,\n",
       "         -3.05010062e-02, -9.75151509e-02,  4.75780666e-02,  6.29783282e-03,\n",
       "         -2.49179825e-02, -6.98750746e-03, -6.98064864e-02, -4.96208807e-03,\n",
       "         -3.61521319e-02,  1.81961358e-02, -2.51696771e-03, -3.90863642e-02,\n",
       "          1.16014900e-02,  1.71658807e-02,  5.33082634e-02, -6.92409556e-03,\n",
       "          2.52796989e-03, -2.83144321e-02, -1.12307048e-03, -3.01086847e-02,\n",
       "          7.09985802e-03, -2.70958673e-02,  2.11558770e-03,  9.23208743e-02,\n",
       "         -4.04256396e-02, -6.53825775e-02, -5.01559973e-02, -2.58901026e-02,\n",
       "         -2.99293641e-03,  1.00844749e-03,  1.12913074e-02,  1.25820003e-02,\n",
       "         -1.58483647e-02,  2.76575573e-02, -8.06515515e-02, -8.02925508e-03,\n",
       "          4.54285853e-02,  7.64246434e-02, -3.91465910e-02,  1.52831655e-02,\n",
       "          8.53178743e-03,  1.51092708e-02, -2.94021498e-02, -1.19890943e-02,\n",
       "         -5.27496263e-02, -4.53539565e-02,  7.95497280e-03,  1.99330244e-02,\n",
       "         -2.50518452e-02, -3.01849842e-03, -2.78885034e-03,  7.77671114e-03,\n",
       "          2.20075231e-02, -1.97611973e-02,  1.99137758e-02, -1.48061663e-02,\n",
       "          5.52966632e-02, -1.05698369e-02, -2.06657276e-02, -4.77008931e-02,\n",
       "         -2.38236096e-02,  6.72530457e-02, -1.48749212e-02,  1.83892436e-02,\n",
       "          6.92381486e-02, -1.04953699e-01, -6.89938888e-02,  2.88935788e-02,\n",
       "         -2.03278679e-02,  1.83783639e-02, -2.72211321e-02, -6.07438665e-03,\n",
       "         -2.56139170e-02,  3.59529629e-02,  4.29148227e-03,  2.10233610e-02,\n",
       "         -4.05671857e-02, -9.05563764e-04, -5.14330380e-02, -5.72465546e-02,\n",
       "          4.39211959e-04, -4.14273962e-02,  1.47101777e-02, -1.02993019e-03,\n",
       "          4.41982038e-02,  6.27154633e-02,  1.51359998e-02, -4.72545959e-02,\n",
       "         -2.41637714e-02, -1.89261604e-02, -5.03422432e-02,  1.63355637e-02,\n",
       "          4.89885267e-03, -1.39683159e-02, -3.13387660e-04, -1.19742639e-04,\n",
       "         -3.62081416e-02, -2.53751334e-02, -1.64173674e-02, -2.13381881e-03,\n",
       "          3.48829664e-04, -5.54201333e-03, -5.64200804e-04,  9.18803457e-03,\n",
       "         -9.82389227e-03, -1.30249662e-02,  4.02764045e-02, -9.90272909e-02,\n",
       "         -3.60857658e-02, -3.86015475e-02, -4.54218797e-02,  6.33944850e-03,\n",
       "          1.16767557e-02, -4.50674072e-02,  1.02463302e-04,  2.05141921e-02,\n",
       "         -5.61409183e-02,  3.77363078e-02, -8.53048731e-03,  3.22230160e-02,\n",
       "         -3.60167818e-03, -6.56371936e-04, -7.53777940e-03,  1.16674718e-03,\n",
       "         -3.05772061e-03, -4.58108634e-02,  6.76983744e-02, -3.99119258e-02,\n",
       "         -1.64250955e-02,  3.14829424e-02,  1.90588962e-02,  3.72256078e-02,\n",
       "         -1.91629548e-02, -2.13475190e-02, -1.52970329e-02,  2.14886107e-02,\n",
       "          2.31024455e-02,  7.40084983e-03,  6.83705369e-03,  6.77095205e-02,\n",
       "         -7.39957346e-03,  3.21200751e-02,  8.11611339e-02,  5.40804351e-03,\n",
       "         -7.42628891e-03,  2.53540799e-02, -6.46904111e-02,  1.03065353e-02,\n",
       "         -3.83488042e-03, -4.48026173e-02, -7.62408320e-03,  4.98846807e-02,\n",
       "         -4.79036756e-02,  1.17037795e-03,  1.01956390e-02, -2.06382908e-02,\n",
       "         -2.08244175e-02, -5.30200489e-02, -5.10278456e-02,  1.25838583e-02,\n",
       "         -2.10871156e-02, -3.65998596e-02,  2.23378260e-02,  2.23389044e-02,\n",
       "         -1.59603879e-02, -1.53766368e-02,  3.70077230e-02, -1.29488138e-02,\n",
       "         -4.20168750e-02,  4.45698649e-02,  4.63462956e-02,  6.91587329e-02,\n",
       "          2.93050613e-02, -2.55597825e-03, -9.46265459e-03,  3.66387554e-02,\n",
       "         -3.07838023e-02,  2.18850821e-02, -2.71651298e-02, -1.44917667e-02,\n",
       "         -3.37713026e-02, -1.17890602e-02, -6.78575179e-03, -2.50173733e-02,\n",
       "         -1.82788745e-02, -2.37072576e-02,  4.15117666e-02, -2.22547259e-02,\n",
       "         -2.08449122e-02, -5.81212118e-02, -4.67280261e-02, -7.31814886e-03,\n",
       "         -3.08653917e-02,  1.56517327e-02, -1.40797878e-02, -2.47914181e-03,\n",
       "          6.93506980e-03,  1.03825785e-01,  2.13678516e-02, -3.47662531e-02,\n",
       "          9.83553007e-03, -8.27014968e-02,  2.99668647e-02,  2.35763844e-02,\n",
       "          1.92609355e-02, -4.29783426e-02, -1.32922158e-02,  1.77090112e-02,\n",
       "         -1.45095389e-03,  4.55231257e-02,  1.59331802e-02, -1.09987881e-03,\n",
       "         -8.97783041e-02, -1.02551617e-02,  3.60780433e-02,  2.94996891e-03,\n",
       "          4.85513397e-02,  3.73481750e-03, -5.71420975e-03,  4.22350392e-02,\n",
       "          3.04546803e-02,  4.42661531e-02, -3.20462906e-03,  2.25484348e-03,\n",
       "          2.08285935e-02, -5.90660870e-02,  8.33347738e-02, -5.26246987e-02,\n",
       "         -4.46705110e-02,  6.04231693e-02, -3.69512156e-04,  1.99822821e-02,\n",
       "          2.09555333e-03,  2.46635173e-02, -1.97795667e-02, -2.34191231e-02,\n",
       "         -4.54285968e-04, -6.89707557e-03,  1.54673401e-02,  5.87586801e-05,\n",
       "          3.98775041e-02, -1.88993826e-03, -2.56636105e-02,  7.09561817e-03,\n",
       "          1.21747004e-02,  1.80453099e-02,  7.18314387e-03,  2.17302013e-02,\n",
       "          1.13094607e-02,  2.39097849e-02, -5.55684268e-02, -1.35670481e-02,\n",
       "         -5.67026669e-03,  6.30944148e-02,  2.35342458e-02, -6.21258430e-02,\n",
       "         -9.21327397e-02,  2.73552313e-02, -3.41400839e-02, -1.31737972e-02,\n",
       "         -4.15330566e-02,  3.45716365e-02,  1.88850109e-02, -1.24520352e-02,\n",
       "         -5.88272326e-02, -2.39969175e-02, -4.48313775e-03, -3.40109617e-02,\n",
       "         -3.16737108e-02, -1.00758215e-02,  5.99363558e-02, -3.51287201e-02,\n",
       "         -6.35059830e-03, -2.71906275e-02,  4.63618524e-02, -2.87188590e-02,\n",
       "         -2.72383615e-02,  5.67833111e-02, -2.16652956e-02,  1.19627127e-02,\n",
       "          7.79371932e-02,  3.64071056e-02, -4.37180186e-03, -1.77284032e-02,\n",
       "          1.75149534e-02, -4.22299914e-02,  3.60362157e-02, -8.76861587e-02,\n",
       "          1.60474759e-02, -4.95703779e-02, -2.62610205e-02,  8.03476840e-04,\n",
       "         -1.12088993e-02, -3.61917242e-02, -3.33363861e-02,  1.88909750e-03,\n",
       "         -3.45877395e-03, -1.59190167e-02, -9.02060643e-02,  3.71176749e-02,\n",
       "          3.04673519e-02,  4.46782000e-02,  3.71466717e-03,  1.09165013e-02,\n",
       "          1.31335938e-02,  4.32003196e-03,  1.53605407e-02, -9.52199381e-03,\n",
       "         -2.72156019e-02,  4.62283082e-02,  3.70723382e-02, -3.65407169e-02,\n",
       "         -1.01068923e-02, -6.47239462e-02,  4.67730165e-02,  3.24429162e-02,\n",
       "         -2.99727581e-02, -5.90697303e-02, -7.65090361e-02,  2.53546168e-03,\n",
       "         -4.89320792e-03,  7.77894957e-03,  8.06232507e-04,  1.67009234e-02,\n",
       "          7.05519021e-02,  2.72866599e-02,  2.17364747e-02, -2.30627079e-02,\n",
       "          1.04265837e-02, -1.57817286e-02, -3.54979299e-02,  4.84199151e-02,\n",
       "         -1.41375540e-02, -5.92479073e-02,  6.56110421e-02,  5.03102764e-02,\n",
       "          3.58855054e-02, -2.10273545e-02, -3.21113095e-02, -4.06747311e-02,\n",
       "          1.17093762e-02, -3.49414721e-02,  2.46378500e-03,  2.27812454e-02,\n",
       "          5.96849583e-02, -4.52509336e-02,  1.64447706e-02,  7.30833923e-03,\n",
       "          2.80264653e-02,  8.73503089e-02, -2.11994164e-02,  3.57301347e-02,\n",
       "         -3.95178646e-02, -6.37864985e-04, -5.35685793e-02,  7.08788484e-02,\n",
       "         -3.29674333e-02, -1.23528922e-02, -1.96627434e-03,  2.77006254e-02,\n",
       "         -2.81355977e-02,  1.13678221e-02,  4.55231266e-03, -3.62944826e-02,\n",
       "          9.52638034e-03,  3.86827160e-03, -7.82810850e-04,  2.12725513e-02,\n",
       "         -2.26240680e-02,  2.73767188e-02,  1.83266960e-02, -1.39708235e-03,\n",
       "          3.63078946e-03,  3.31606865e-02, -5.10055274e-02, -6.54620535e-33,\n",
       "         -2.74183415e-02, -2.07390822e-02, -1.72302835e-02,  3.92280929e-02,\n",
       "         -3.79633456e-02,  1.57663822e-02,  3.98757458e-02,  4.28486988e-02,\n",
       "          4.42315033e-03, -1.58829000e-02, -8.16992391e-03, -8.33315123e-03,\n",
       "          2.96793357e-02,  1.49656869e-02, -1.98373608e-02,  2.51538157e-02,\n",
       "          7.63413310e-02,  4.89674583e-02,  1.58818085e-02,  4.67304001e-03,\n",
       "         -1.40260020e-02,  1.47343194e-02,  8.77502467e-03, -2.19165590e-02,\n",
       "         -8.54723342e-03,  3.29950191e-02,  1.26768230e-02,  1.50628213e-03,\n",
       "         -2.08471809e-02, -3.17320116e-02,  2.10308321e-02,  4.65815850e-02,\n",
       "         -3.46294767e-03,  4.99474406e-02,  3.07524055e-02,  8.46025646e-02,\n",
       "         -4.48451787e-02, -3.90800182e-03, -4.98624705e-02,  6.42447770e-02,\n",
       "         -4.79740426e-02, -3.77283879e-02,  2.61374321e-02, -3.60895172e-02,\n",
       "         -1.51277166e-02, -2.97029093e-02,  3.74927744e-02,  1.73575226e-02,\n",
       "          2.62840334e-02,  5.26326969e-02,  7.83562288e-03,  5.99256065e-03,\n",
       "         -2.73080133e-02, -9.54434425e-02, -1.95488445e-02,  6.14053383e-02,\n",
       "          6.35228632e-03, -1.49171129e-02, -3.15937698e-02, -3.99229899e-02,\n",
       "          5.59513457e-03,  1.34696625e-02, -3.44904867e-04,  3.75449546e-02,\n",
       "         -2.73263417e-02,  7.80459167e-03,  1.22620679e-01,  5.68181351e-02,\n",
       "         -1.64320394e-02, -2.12764330e-02, -4.78154048e-02,  3.72095481e-02,\n",
       "         -1.01558417e-02, -8.41294304e-02, -2.25674175e-02, -3.80885787e-02,\n",
       "         -7.29362387e-03,  1.28218969e-02,  5.53768389e-02,  6.68841675e-02,\n",
       "         -6.26382157e-02,  1.97226182e-04,  1.34595074e-02, -3.59606594e-02,\n",
       "          1.40479580e-02, -4.37188037e-02,  5.40022645e-03, -3.54994982e-02,\n",
       "         -5.61966328e-04,  1.44350035e-02,  5.30607253e-03, -1.73898734e-05,\n",
       "         -9.96480417e-03,  2.41426658e-02,  6.43422380e-02, -1.11185692e-01,\n",
       "          4.42737304e-02, -8.95211939e-03, -3.57016027e-02,  1.81757621e-02,\n",
       "          9.73633491e-03,  3.81601304e-02, -1.56948753e-02,  6.11563958e-02,\n",
       "          2.28134356e-03, -5.27789257e-03, -7.50077234e-05,  3.19739766e-02,\n",
       "         -8.04287207e-04, -2.12793201e-02, -2.37573553e-02, -1.56322811e-02,\n",
       "         -5.85513050e-03,  7.99052492e-02,  5.65120466e-02,  6.20948011e-03,\n",
       "          4.45159748e-02, -2.89310310e-02, -9.56995320e-03, -3.98875177e-02,\n",
       "         -1.69690903e-02, -1.30384332e-02, -6.98251203e-02, -3.39042768e-02,\n",
       "         -4.09014430e-03,  2.30681198e-03, -4.20117117e-02,  2.87831109e-03,\n",
       "         -5.62629066e-02, -6.33220561e-03,  4.38142568e-03, -1.76652931e-02,\n",
       "          2.28821278e-07, -3.13964039e-02,  4.23433334e-02,  2.15496942e-02,\n",
       "         -2.58668829e-02, -3.93482856e-02, -2.96920501e-02, -1.95052079e-03,\n",
       "         -1.22982375e-02, -4.26991098e-03,  2.19940767e-02,  2.80546919e-02,\n",
       "         -4.77343885e-04,  2.33211424e-02, -4.54413034e-02,  7.44043337e-03,\n",
       "         -4.81200702e-02, -8.89749639e-03,  6.11624904e-02,  1.16666462e-02,\n",
       "         -2.18730140e-02,  7.10889697e-02, -2.72984207e-02,  9.82807297e-03,\n",
       "         -4.02580108e-03,  1.08831581e-02, -1.02061570e-01,  2.18129586e-02,\n",
       "          7.68885529e-03,  5.41856587e-02,  2.09537968e-02,  9.17892009e-02,\n",
       "          4.52726483e-02,  1.75920855e-02,  7.05278441e-02,  2.91433055e-02,\n",
       "         -7.54172653e-02,  3.84368226e-02,  8.79295245e-02, -5.26291260e-04,\n",
       "          6.09761029e-02, -2.18104180e-02,  1.26857851e-02,  3.36314142e-02,\n",
       "          2.99583320e-02, -2.64807269e-02, -2.47194245e-02,  2.62503289e-02,\n",
       "          6.93452135e-02, -9.16704014e-02, -2.33384836e-02, -6.07928745e-02,\n",
       "          2.07294673e-02,  7.04706693e-03,  4.06799354e-02,  1.15448758e-02,\n",
       "          2.74325199e-02, -3.94744202e-02,  5.58100501e-03,  2.35832855e-02,\n",
       "          2.88359113e-02, -5.39793670e-02, -5.34590892e-02,  4.21412475e-02,\n",
       "         -3.44525874e-02,  1.15910675e-02,  5.66160716e-02, -4.35275324e-02,\n",
       "          1.62437099e-34,  1.46280108e-02, -1.88397765e-02,  3.25950631e-03,\n",
       "          6.36817217e-02,  6.28678575e-02, -4.71024727e-03,  5.95772304e-02,\n",
       "          3.89195723e-03,  1.24521479e-02, -7.04394840e-03, -1.62846148e-02],\n",
       "        dtype=float32)),\n",
       " (1,\n",
       "  'RN or LPN Clinic Nurse, Urology',\n",
       "  array([ 1.43088084e-02,  5.83819337e-02, -2.91010495e-02, -6.44061863e-02,\n",
       "          1.51394093e-02,  5.05262278e-02,  3.90995592e-02,  2.88522895e-02,\n",
       "          1.89175978e-02, -1.99107006e-02,  3.06204725e-02, -8.83890409e-03,\n",
       "          7.38806371e-03, -3.22736762e-02,  1.88129265e-02, -7.08637584e-04,\n",
       "         -4.56632935e-02,  1.47471845e-03, -1.82594992e-02,  1.41523906e-03,\n",
       "         -5.77404723e-02, -4.93873656e-03, -4.46270249e-04,  4.65927050e-02,\n",
       "          2.99213678e-02, -3.91722703e-03,  4.79219817e-02, -1.82206428e-03,\n",
       "          7.76705286e-03,  6.56673238e-02,  4.27080616e-02, -3.69791351e-02,\n",
       "         -6.99087186e-03, -4.13563773e-02,  1.04029743e-06,  5.32949753e-02,\n",
       "         -4.35021818e-02,  6.37276322e-02,  9.58048832e-03, -1.21341161e-01,\n",
       "          4.76193428e-02, -1.63040310e-02,  1.18471077e-02,  7.63161629e-02,\n",
       "          3.29642482e-02, -3.30180638e-02,  3.59884240e-02,  1.29514104e-02,\n",
       "         -5.44029325e-02, -1.17050000e-02, -2.20140070e-03,  1.94456417e-03,\n",
       "         -6.62558675e-02, -1.95815992e-02, -7.11331668e-04, -4.83031161e-02,\n",
       "         -3.71881947e-03,  3.30758886e-03, -1.04848958e-04, -3.41773091e-04,\n",
       "          1.75786484e-02, -1.02828583e-02, -5.43789789e-02, -8.34860932e-03,\n",
       "         -2.32338402e-02,  3.33334692e-02,  3.36034596e-02,  2.44886670e-02,\n",
       "         -1.64156836e-02, -4.81349267e-02, -6.68894947e-02,  4.72583203e-03,\n",
       "          4.88452539e-02,  8.14565551e-03, -1.40252458e-02,  2.49085072e-02,\n",
       "         -1.53855765e-02, -2.85971649e-02, -4.66341339e-02, -1.40444357e-02,\n",
       "          2.69305948e-02,  3.07902619e-02,  3.16433795e-02,  4.23317738e-02,\n",
       "         -2.04291586e-02, -2.92309001e-02,  4.46826518e-02, -4.52266866e-03,\n",
       "          2.11983044e-02,  1.11349607e-02, -9.26326867e-03,  2.38102372e-03,\n",
       "         -6.89030485e-03,  1.74426276e-03, -4.59386595e-02, -4.88333264e-03,\n",
       "          5.64208478e-02, -1.19613986e-02, -6.13724673e-03,  7.73785934e-02,\n",
       "          2.61895657e-02, -1.27551733e-02, -4.74069864e-02,  5.75769320e-02,\n",
       "         -5.44820018e-02, -2.29412131e-02,  1.03494637e-02,  2.04097740e-02,\n",
       "          4.04510982e-02,  1.96487401e-02, -2.92184856e-02,  1.64407783e-03,\n",
       "          1.04516232e-02, -4.05345038e-02, -3.91155034e-02,  9.44405645e-02,\n",
       "         -9.16851033e-03, -1.58373397e-02, -2.83017233e-02,  5.96852740e-03,\n",
       "          5.66560030e-02,  1.84306689e-02, -1.90567598e-02,  5.54800890e-02,\n",
       "          9.40092579e-02,  5.23519479e-02,  5.15571460e-02,  1.86032671e-02,\n",
       "          2.42560022e-02,  4.45216261e-02,  3.47934198e-03, -5.45305549e-04,\n",
       "          1.68219805e-02,  8.08804063e-04, -2.09411494e-02,  1.86917149e-02,\n",
       "          3.68457064e-02,  1.16663869e-03,  3.43608186e-02, -2.20158920e-02,\n",
       "         -4.73540612e-02, -3.82207781e-02,  6.54627159e-02,  3.33760791e-02,\n",
       "         -3.47438268e-02, -1.59862060e-02,  2.41899339e-04, -3.21410857e-02,\n",
       "          4.04921398e-02, -4.22311872e-02, -2.05592276e-03, -6.61199167e-03,\n",
       "          6.54619709e-02, -4.71993946e-02,  2.20380183e-02,  3.41867246e-02,\n",
       "         -3.59970890e-03, -4.77637537e-03,  1.37212286e-02,  4.08403538e-02,\n",
       "         -5.93782216e-02, -6.72158375e-02, -3.17489617e-02, -1.43796261e-02,\n",
       "          1.64003484e-02, -3.24275456e-02,  1.72142629e-02, -7.16755399e-03,\n",
       "          2.18371339e-02,  5.34175485e-02, -1.66252013e-02, -3.90801504e-02,\n",
       "         -3.01917437e-02,  2.05234089e-03, -3.87840718e-02,  5.27687445e-02,\n",
       "          7.57566765e-02,  3.51238064e-02,  2.89346935e-04, -1.54493935e-02,\n",
       "         -5.78804687e-02, -4.68301065e-02, -3.09654791e-02, -2.48563616e-03,\n",
       "          2.26295907e-02,  3.86462198e-03, -8.56124610e-03, -2.71346532e-02,\n",
       "         -5.40327169e-02, -2.46352609e-02,  7.01938523e-04, -2.04426236e-02,\n",
       "         -4.68189828e-02, -6.85797334e-02,  3.39065120e-02, -6.93473034e-04,\n",
       "         -4.30466235e-02, -8.55218340e-03,  3.78226638e-02,  4.92404122e-03,\n",
       "          2.90315431e-02, -3.78465764e-02, -5.97070307e-02,  9.91756842e-02,\n",
       "         -1.81619767e-02, -7.61530176e-02, -1.16383294e-02, -5.98985255e-02,\n",
       "         -1.56113319e-02,  1.68886967e-03, -2.82090567e-02,  9.24579892e-03,\n",
       "          3.55297439e-02, -2.64627095e-02, -1.28677385e-02,  1.84678920e-02,\n",
       "          4.74836938e-02,  2.25776359e-02, -3.27016646e-03, -2.15022266e-02,\n",
       "          3.86241684e-03, -4.25430536e-02, -5.54193929e-02, -5.54059632e-03,\n",
       "         -9.45281088e-02,  9.96718882e-04,  7.59640709e-02, -3.68441716e-02,\n",
       "         -1.13666309e-02,  2.35658418e-02,  8.20506271e-03,  3.23049873e-02,\n",
       "         -3.34565379e-02, -3.94058041e-02,  6.88853115e-02, -3.27520519e-02,\n",
       "          1.40798977e-02, -3.76852416e-02, -7.48291016e-02,  4.20647860e-02,\n",
       "         -3.01958118e-02,  4.53719832e-02,  4.11654264e-02, -1.13214273e-02,\n",
       "          6.63124816e-03, -5.45758521e-03,  2.08577123e-02,  2.60656551e-02,\n",
       "          2.42442731e-02,  9.99374129e-03, -3.76407728e-02, -3.97170186e-02,\n",
       "         -1.45711442e-02,  9.78657883e-03,  3.29718627e-02,  3.19812521e-02,\n",
       "         -5.46011962e-02, -1.85578819e-02, -2.80516148e-02, -2.27835849e-02,\n",
       "         -7.26567283e-02,  2.24523712e-02, -9.04398563e-04, -2.12326944e-02,\n",
       "          2.92548425e-02,  2.79723499e-02, -7.28037208e-02, -8.03913269e-03,\n",
       "         -2.76862681e-02,  3.72528774e-03, -4.52338867e-02,  5.23299128e-02,\n",
       "          4.53909710e-02,  1.34641752e-02, -2.38827523e-02,  3.48031637e-03,\n",
       "          8.72916915e-03,  7.36330450e-02,  2.93077566e-02,  4.43412997e-02,\n",
       "          1.79407708e-02,  1.10547310e-02, -2.12015565e-02,  2.04671174e-02,\n",
       "         -2.86782831e-02, -3.16137783e-02,  5.34740239e-02,  2.31745876e-02,\n",
       "         -2.72247754e-02, -3.69801559e-02,  2.46641655e-02, -1.19738188e-03,\n",
       "         -2.53707916e-02, -5.58936298e-02, -2.80759148e-02,  3.50098722e-02,\n",
       "         -7.32866153e-02, -3.13829482e-02, -7.67571405e-02, -1.35416267e-02,\n",
       "         -2.61948369e-02, -1.67435426e-02,  4.29388024e-02, -1.32429758e-02,\n",
       "         -1.40430091e-03, -1.90834980e-03, -2.55716592e-02,  3.64883021e-02,\n",
       "         -5.19140065e-02, -3.06131560e-02, -5.29780984e-02, -2.66111214e-02,\n",
       "          6.91290572e-02, -2.34485641e-02,  1.11090736e-02, -2.95755640e-02,\n",
       "          2.15026643e-03,  5.11261113e-02, -1.75345186e-02, -1.08138639e-02,\n",
       "          1.70657318e-02,  3.74390371e-02, -3.52331772e-02,  1.95118897e-02,\n",
       "          2.61334851e-02, -2.07256638e-02, -5.71450964e-02, -2.18306910e-02,\n",
       "         -1.10439193e-02, -4.96050641e-02, -6.66204374e-03, -3.05527784e-02,\n",
       "         -4.58369330e-02,  1.51002128e-03,  7.03918841e-03, -1.08982600e-01,\n",
       "         -1.61379836e-02, -1.63840614e-02, -3.12561281e-02, -2.41994187e-02,\n",
       "          3.70119289e-02, -4.32842001e-02, -7.40305558e-02, -6.60499930e-02,\n",
       "          5.72785214e-02, -1.78646389e-02,  9.52570420e-03,  1.91893410e-02,\n",
       "         -1.64610948e-02,  1.52393961e-02, -6.03701510e-02,  5.76413386e-02,\n",
       "          3.49745974e-02,  3.86229418e-02, -6.47313893e-02,  1.04036868e-01,\n",
       "         -9.59468525e-05,  4.67376672e-02, -5.79712875e-02,  1.27474731e-03,\n",
       "         -6.52965903e-02, -1.54191088e-02, -2.06568912e-02, -3.24609037e-03,\n",
       "         -1.26210069e-02,  7.41839362e-03,  3.99837457e-02, -6.92221988e-03,\n",
       "         -1.73865333e-02, -1.02685904e-03, -8.13665334e-03, -1.23155192e-02,\n",
       "         -5.09264041e-03,  1.13590300e-04, -4.61651720e-02, -2.68200599e-02,\n",
       "          1.78692816e-03,  3.92997600e-02, -4.41674702e-02, -5.41294273e-03,\n",
       "          3.60978283e-02, -1.66052002e-02,  1.32732932e-02, -4.09624614e-02,\n",
       "         -1.03890263e-02,  4.18633316e-03,  2.09205989e-02, -3.85373943e-02,\n",
       "          3.10141724e-02,  2.37519071e-02, -1.43320765e-03, -1.08433794e-02,\n",
       "         -5.65382512e-03,  6.02571014e-03,  1.89219844e-02, -4.29066969e-03,\n",
       "         -1.69030447e-02, -2.87776459e-02,  6.27294835e-03, -2.99747642e-02,\n",
       "          2.15976071e-02,  3.91936898e-02, -1.08255446e-02,  2.00893935e-02,\n",
       "         -2.66018715e-02,  6.06343802e-03,  4.76095825e-02, -2.30723657e-02,\n",
       "         -6.57810345e-02,  5.40512428e-02, -1.71813928e-02,  1.03877328e-01,\n",
       "         -5.42402007e-02,  9.89838988e-02, -4.21251031e-03,  8.78528599e-03,\n",
       "          2.14473028e-02,  1.80555508e-02,  9.36064776e-03, -1.64264292e-02,\n",
       "          6.38817996e-02, -4.65987995e-03,  2.93132802e-03,  3.33053432e-03,\n",
       "         -3.05130035e-02, -3.44707095e-03,  1.29092271e-02,  6.50714859e-02,\n",
       "         -8.15112237e-03, -7.19224960e-02, -3.90717052e-02, -3.87722701e-02,\n",
       "          2.35236976e-02,  1.85794737e-02,  2.51644198e-02,  4.27181786e-03,\n",
       "         -8.33275914e-02, -9.97745711e-03, -4.24558073e-02,  1.86157264e-02,\n",
       "          4.64301594e-02,  5.54511249e-02,  1.85071602e-02, -1.33015607e-02,\n",
       "          1.40562197e-02,  1.42772451e-01, -1.59473456e-02, -7.62008410e-03,\n",
       "         -2.17694025e-02, -3.86774689e-02, -1.47717986e-02, -2.85554968e-04,\n",
       "         -1.06202494e-02, -1.10883528e-04,  7.25876726e-03, -3.62495743e-02,\n",
       "         -1.52556766e-02,  1.43900076e-02,  1.46785183e-02,  1.92799475e-02,\n",
       "          4.13436629e-02, -7.71549472e-04,  1.97949018e-02,  1.44099994e-02,\n",
       "          9.71654803e-03, -3.68989184e-02,  5.21636829e-02,  5.82765369e-03,\n",
       "          1.72869826e-03, -1.60428789e-02, -1.58197209e-02, -1.03181759e-02,\n",
       "          1.39603140e-02, -3.20597067e-02, -1.69315077e-02,  1.55219799e-02,\n",
       "         -4.68462259e-02,  2.16066912e-02, -2.26760935e-02, -4.24536653e-02,\n",
       "         -2.39360128e-02,  1.21211447e-02,  6.35035262e-02,  7.50972098e-03,\n",
       "         -5.15450276e-02,  6.40900284e-02, -2.35024318e-02,  1.06909275e-02,\n",
       "         -2.80278493e-02, -3.66717838e-02,  2.48088203e-02, -3.80403399e-02,\n",
       "          2.52249353e-02,  2.83087650e-03,  7.95998722e-02,  2.23530140e-02,\n",
       "         -4.77569029e-02, -2.87402924e-02, -2.34199874e-02,  6.32373542e-02,\n",
       "         -1.61918979e-02, -5.38121909e-03, -4.72246595e-02, -3.05528548e-02,\n",
       "          2.77450378e-03,  4.47518118e-02,  2.59197392e-02,  6.37560710e-03,\n",
       "          4.53426689e-03,  5.40545695e-02,  1.64988765e-03,  2.35811919e-02,\n",
       "          1.93108507e-02,  1.52896047e-02, -3.72423604e-02,  9.62260831e-03,\n",
       "          4.04028296e-02, -7.05023035e-02,  4.29489929e-03, -9.70223919e-04,\n",
       "          2.00140458e-02, -8.20510369e-03, -6.68987632e-03,  1.58752128e-03,\n",
       "          8.76232143e-03, -7.24981131e-04, -9.97224357e-03,  3.28772552e-02,\n",
       "         -2.54759882e-02,  1.39509235e-02,  9.58500132e-02,  6.20508157e-02,\n",
       "          3.45600098e-02,  1.62087230e-03, -2.10149791e-02,  4.70267497e-02,\n",
       "         -2.16531940e-03,  2.75358278e-02,  3.38450857e-02,  1.03811510e-01,\n",
       "          1.13318162e-02,  3.59292352e-03,  1.67306382e-02, -2.10968480e-02,\n",
       "         -4.66259532e-02, -2.30473187e-02,  9.04461276e-03, -3.37960795e-02,\n",
       "          1.95809244e-03,  1.12988273e-04, -4.51908000e-02,  6.22716825e-03,\n",
       "          3.68293375e-02,  3.06346286e-02, -3.08239944e-02, -3.99624108e-33,\n",
       "          2.84939837e-02, -5.84753267e-02,  5.53847216e-02, -6.44331649e-02,\n",
       "          4.57793362e-02,  2.67552529e-02,  5.60447425e-02, -1.38031989e-02,\n",
       "          1.02322204e-02, -7.89717678e-03,  1.87257398e-02, -3.77999730e-02,\n",
       "          1.33358529e-02,  4.52305824e-02, -1.11285169e-02,  2.26998031e-02,\n",
       "         -1.13831954e-02,  4.24832222e-04,  2.59269867e-02, -2.72453297e-02,\n",
       "         -3.37547697e-02,  3.32929543e-03,  1.18654547e-02, -3.41651514e-02,\n",
       "         -2.41553262e-02,  2.94580329e-02,  2.60909367e-02, -5.91525286e-02,\n",
       "         -1.67079810e-02, -2.58558779e-04,  1.14745181e-02,  3.72480713e-02,\n",
       "          1.16086388e-02,  9.29885730e-03,  2.95633599e-02, -3.18811424e-02,\n",
       "         -3.16618308e-02,  3.53991124e-03,  1.50556322e-02,  2.59053474e-03,\n",
       "         -2.59417966e-02, -3.64681892e-02, -1.87567268e-02,  1.13253621e-02,\n",
       "          2.19033938e-03, -8.49717930e-02, -3.10384165e-02, -3.02650761e-02,\n",
       "          5.74083030e-02,  6.20154515e-02,  4.46382649e-02,  3.06744743e-02,\n",
       "          2.23404299e-02,  4.84691979e-03, -5.65151535e-02, -6.02100790e-02,\n",
       "         -5.45940222e-03,  2.71517187e-02, -6.96867630e-02, -6.15696562e-03,\n",
       "         -1.07911471e-02,  9.42399055e-02,  3.21652330e-02, -6.98492751e-02,\n",
       "         -2.08158162e-03,  2.25339141e-02, -2.85542514e-02,  2.42339838e-02,\n",
       "          3.95562723e-02, -3.10570672e-02, -6.87359720e-02,  4.64863926e-02,\n",
       "         -1.96899232e-02, -1.69404000e-02,  2.87438054e-02,  1.22474935e-02,\n",
       "          2.62345746e-02, -6.82785884e-02, -2.35533994e-02,  7.78681645e-03,\n",
       "          4.19359691e-02,  1.76403075e-02,  4.50458117e-02,  1.14132920e-02,\n",
       "         -3.63593176e-02, -3.06628700e-02,  1.82018690e-02,  3.39235738e-02,\n",
       "          1.61879063e-02,  2.27424931e-02,  6.08733371e-02,  4.83948924e-02,\n",
       "         -3.09277438e-02, -2.55188793e-02,  7.96725322e-03,  2.17194911e-02,\n",
       "          5.25719263e-02,  3.75619438e-03,  1.28216704e-03,  2.33387947e-03,\n",
       "         -3.78724597e-02,  6.05048835e-02,  1.74061134e-02, -1.54778063e-02,\n",
       "          6.55721454e-03,  3.15772556e-02, -1.01627009e-02, -3.42373587e-02,\n",
       "          6.03272673e-03, -1.51913874e-02, -9.94751323e-03,  2.46725362e-02,\n",
       "         -2.29251683e-02,  3.20769027e-02,  7.18108341e-02, -1.63950920e-02,\n",
       "          1.32140033e-02, -4.93205618e-04,  1.59095158e-03, -1.14932433e-02,\n",
       "          5.21095879e-02, -3.12152170e-02,  5.66356592e-02, -5.09992056e-03,\n",
       "          2.16070082e-04, -4.16159295e-02,  7.55682737e-02,  4.14605020e-05,\n",
       "         -2.77197082e-02,  9.31692030e-03,  5.14821224e-02,  2.15093303e-03,\n",
       "          1.81115368e-07,  4.14231122e-02, -1.89345405e-02,  5.50881065e-02,\n",
       "          3.35792522e-03,  2.08032690e-02, -5.93499504e-02, -1.32806450e-02,\n",
       "         -2.69908160e-02, -4.20217169e-03,  5.36764972e-02, -1.12305675e-02,\n",
       "         -7.78430626e-02,  1.19834570e-02, -8.40726197e-02, -3.38788442e-02,\n",
       "          1.78097263e-02, -2.66842395e-02,  4.04915921e-02,  3.94232534e-02,\n",
       "         -5.75436689e-02, -5.32712340e-02,  2.31078696e-02, -4.56294641e-02,\n",
       "         -6.92246780e-02,  6.11994043e-03,  4.82022353e-02,  1.77575052e-02,\n",
       "          3.63653973e-02,  5.49398921e-02,  1.80285480e-02,  3.18515562e-02,\n",
       "          1.73064694e-02,  3.08299530e-02, -1.06307147e-02, -3.61194387e-02,\n",
       "         -1.93721913e-02,  6.12042891e-03,  5.87829165e-02, -1.33910775e-02,\n",
       "          1.72718521e-02, -8.02541431e-03,  5.94564900e-02, -2.28542592e-02,\n",
       "         -7.48015102e-03,  2.43657995e-02, -1.68723147e-02, -1.06577734e-02,\n",
       "          6.80623157e-03, -4.74019274e-02, -5.34382463e-02, -3.36189680e-02,\n",
       "          2.61743627e-02, -6.69111609e-02, -1.84023604e-02,  2.60337424e-02,\n",
       "          4.25537303e-02, -5.22669069e-02,  2.50509586e-02,  8.22694506e-03,\n",
       "          2.42518056e-02,  9.13348049e-03, -3.97950485e-02,  3.14081311e-02,\n",
       "          5.47672715e-03,  9.54743475e-02, -1.02190211e-01, -3.79082561e-02,\n",
       "          1.11839494e-34,  1.37114022e-02, -1.73116494e-02,  2.77528372e-02,\n",
       "         -8.21263005e-04, -1.56024359e-02, -6.39884360e-03, -1.88347865e-02,\n",
       "          3.04248184e-03,  1.24243982e-02,  5.55218346e-02, -1.37045169e-02],\n",
       "        dtype=float32))]"
      ]
     },
     "execution_count": 100,
     "metadata": {},
     "output_type": "execute_result"
    }
   ],
   "source": [
    "ext_job_title_embeddings[:2]"
   ]
  },
  {
   "cell_type": "code",
   "execution_count": 52,
   "metadata": {},
   "outputs": [],
   "source": [
    "assert(ext_job_title_embeddings[1300][1] == df_pos.ExtJobTitleText.iloc[1300])"
   ]
  },
  {
   "cell_type": "code",
   "execution_count": null,
   "metadata": {},
   "outputs": [],
   "source": [
    "ext_job_title_embeddings_gibui = pickle.load(open('Transformers_pickles/ext_job_title_embeddings_desc.pkl', 'rb'))"
   ]
  },
  {
   "cell_type": "code",
   "execution_count": 53,
   "metadata": {},
   "outputs": [
    {
     "name": "stdout",
     "output_type": "stream",
     "text": [
      "Wall time: 6.64 s\n"
     ]
    }
   ],
   "source": [
    "%%time\n",
    "rows_ext_job_title = []\n",
    "for d in ext_job_title_embeddings:\n",
    "    vector = []\n",
    "    vector.append(d[0])\n",
    "    vector.append(d[1])\n",
    "    for item in d[2]:\n",
    "        vector.append(item)\n",
    "    rows_ext_job_title.append(vector)   "
   ]
  },
  {
   "cell_type": "markdown",
   "metadata": {
    "tags": []
   },
   "source": [
    "### Concatinating everything together"
   ]
  },
  {
   "cell_type": "code",
   "execution_count": 60,
   "metadata": {},
   "outputs": [
    {
     "data": {
      "text/plain": [
       "770"
      ]
     },
     "execution_count": 60,
     "metadata": {},
     "output_type": "execute_result"
    }
   ],
   "source": [
    "len(rows_ext_job_title[0])"
   ]
  },
  {
   "cell_type": "code",
   "execution_count": 94,
   "metadata": {},
   "outputs": [
    {
     "data": {
      "text/plain": [
       "770"
      ]
     },
     "execution_count": 94,
     "metadata": {},
     "output_type": "execute_result"
    }
   ],
   "source": [
    "len(rows[0])"
   ]
  },
  {
   "cell_type": "code",
   "execution_count": 101,
   "metadata": {},
   "outputs": [],
   "source": [
    "descriptions_with_ExtJobTitleText_df = pd.DataFrame(rows_ext_job_title, columns = ['rows_ext_job_title','ExtJobTitleText'] + [f'embedding2_{i}' for i in range(768)])\n",
    "descriptions_with_ExtJobTitleText_df.to_pickle('descriptions_with_ExtJobTitleText_df.pkl')"
   ]
  },
  {
   "cell_type": "code",
   "execution_count": 103,
   "metadata": {},
   "outputs": [
    {
     "data": {
      "text/html": [
       "<div>\n",
       "<style scoped>\n",
       "    .dataframe tbody tr th:only-of-type {\n",
       "        vertical-align: middle;\n",
       "    }\n",
       "\n",
       "    .dataframe tbody tr th {\n",
       "        vertical-align: top;\n",
       "    }\n",
       "\n",
       "    .dataframe thead th {\n",
       "        text-align: right;\n",
       "    }\n",
       "</style>\n",
       "<table border=\"1\" class=\"dataframe\">\n",
       "  <thead>\n",
       "    <tr style=\"text-align: right;\">\n",
       "      <th></th>\n",
       "      <th>rows_ext_job_title</th>\n",
       "      <th>ExtJobTitleText</th>\n",
       "      <th>embedding2_0</th>\n",
       "      <th>embedding2_1</th>\n",
       "      <th>embedding2_2</th>\n",
       "      <th>embedding2_3</th>\n",
       "      <th>embedding2_4</th>\n",
       "      <th>embedding2_5</th>\n",
       "      <th>embedding2_6</th>\n",
       "      <th>embedding2_7</th>\n",
       "      <th>...</th>\n",
       "      <th>embedding2_758</th>\n",
       "      <th>embedding2_759</th>\n",
       "      <th>embedding2_760</th>\n",
       "      <th>embedding2_761</th>\n",
       "      <th>embedding2_762</th>\n",
       "      <th>embedding2_763</th>\n",
       "      <th>embedding2_764</th>\n",
       "      <th>embedding2_765</th>\n",
       "      <th>embedding2_766</th>\n",
       "      <th>embedding2_767</th>\n",
       "    </tr>\n",
       "  </thead>\n",
       "  <tbody>\n",
       "    <tr>\n",
       "      <th>0</th>\n",
       "      <td>0</td>\n",
       "      <td>Technician I</td>\n",
       "      <td>0.007958</td>\n",
       "      <td>-0.039087</td>\n",
       "      <td>-0.025204</td>\n",
       "      <td>0.005298</td>\n",
       "      <td>-0.023691</td>\n",
       "      <td>0.011731</td>\n",
       "      <td>0.02354</td>\n",
       "      <td>0.013892</td>\n",
       "      <td>...</td>\n",
       "      <td>-0.018840</td>\n",
       "      <td>0.003260</td>\n",
       "      <td>0.063682</td>\n",
       "      <td>0.062868</td>\n",
       "      <td>-0.004710</td>\n",
       "      <td>0.059577</td>\n",
       "      <td>0.003892</td>\n",
       "      <td>0.012452</td>\n",
       "      <td>-0.007044</td>\n",
       "      <td>-0.016285</td>\n",
       "    </tr>\n",
       "    <tr>\n",
       "      <th>1</th>\n",
       "      <td>1</td>\n",
       "      <td>RN or LPN Clinic Nurse, Urology</td>\n",
       "      <td>0.014309</td>\n",
       "      <td>0.058382</td>\n",
       "      <td>-0.029101</td>\n",
       "      <td>-0.064406</td>\n",
       "      <td>0.015139</td>\n",
       "      <td>0.050526</td>\n",
       "      <td>0.03910</td>\n",
       "      <td>0.028852</td>\n",
       "      <td>...</td>\n",
       "      <td>-0.017312</td>\n",
       "      <td>0.027753</td>\n",
       "      <td>-0.000821</td>\n",
       "      <td>-0.015602</td>\n",
       "      <td>-0.006399</td>\n",
       "      <td>-0.018835</td>\n",
       "      <td>0.003042</td>\n",
       "      <td>0.012424</td>\n",
       "      <td>0.055522</td>\n",
       "      <td>-0.013705</td>\n",
       "    </tr>\n",
       "  </tbody>\n",
       "</table>\n",
       "<p>2 rows × 770 columns</p>\n",
       "</div>"
      ],
      "text/plain": [
       "   rows_ext_job_title                  ExtJobTitleText  embedding2_0  \\\n",
       "0                   0                     Technician I      0.007958   \n",
       "1                   1  RN or LPN Clinic Nurse, Urology      0.014309   \n",
       "\n",
       "   embedding2_1  embedding2_2  embedding2_3  embedding2_4  embedding2_5  \\\n",
       "0     -0.039087     -0.025204      0.005298     -0.023691      0.011731   \n",
       "1      0.058382     -0.029101     -0.064406      0.015139      0.050526   \n",
       "\n",
       "   embedding2_6  embedding2_7  ...  embedding2_758  embedding2_759  \\\n",
       "0       0.02354      0.013892  ...       -0.018840        0.003260   \n",
       "1       0.03910      0.028852  ...       -0.017312        0.027753   \n",
       "\n",
       "   embedding2_760  embedding2_761  embedding2_762  embedding2_763  \\\n",
       "0        0.063682        0.062868       -0.004710        0.059577   \n",
       "1       -0.000821       -0.015602       -0.006399       -0.018835   \n",
       "\n",
       "   embedding2_764  embedding2_765  embedding2_766  embedding2_767  \n",
       "0        0.003892        0.012452       -0.007044       -0.016285  \n",
       "1        0.003042        0.012424        0.055522       -0.013705  \n",
       "\n",
       "[2 rows x 770 columns]"
      ]
     },
     "execution_count": 103,
     "metadata": {},
     "output_type": "execute_result"
    }
   ],
   "source": [
    "descriptions_with_ExtJobTitleText_df.head(2)"
   ]
  },
  {
   "cell_type": "code",
   "execution_count": 107,
   "metadata": {},
   "outputs": [],
   "source": [
    "descriptions_with_ExtJobTitleText_df = descriptions_with_ExtJobTitleText_df.set_index('rows_ext_job_title')"
   ]
  },
  {
   "cell_type": "code",
   "execution_count": 115,
   "metadata": {},
   "outputs": [
    {
     "data": {
      "text/html": [
       "<div>\n",
       "<style scoped>\n",
       "    .dataframe tbody tr th:only-of-type {\n",
       "        vertical-align: middle;\n",
       "    }\n",
       "\n",
       "    .dataframe tbody tr th {\n",
       "        vertical-align: top;\n",
       "    }\n",
       "\n",
       "    .dataframe thead th {\n",
       "        text-align: right;\n",
       "    }\n",
       "</style>\n",
       "<table border=\"1\" class=\"dataframe\">\n",
       "  <thead>\n",
       "    <tr style=\"text-align: right;\">\n",
       "      <th></th>\n",
       "      <th>ExtJobTitleText</th>\n",
       "      <th>embedding2_0</th>\n",
       "      <th>embedding2_1</th>\n",
       "      <th>embedding2_2</th>\n",
       "      <th>embedding2_3</th>\n",
       "      <th>embedding2_4</th>\n",
       "      <th>embedding2_5</th>\n",
       "      <th>embedding2_6</th>\n",
       "      <th>embedding2_7</th>\n",
       "      <th>embedding2_8</th>\n",
       "      <th>...</th>\n",
       "      <th>embedding2_758</th>\n",
       "      <th>embedding2_759</th>\n",
       "      <th>embedding2_760</th>\n",
       "      <th>embedding2_761</th>\n",
       "      <th>embedding2_762</th>\n",
       "      <th>embedding2_763</th>\n",
       "      <th>embedding2_764</th>\n",
       "      <th>embedding2_765</th>\n",
       "      <th>embedding2_766</th>\n",
       "      <th>embedding2_767</th>\n",
       "    </tr>\n",
       "    <tr>\n",
       "      <th>rows_ext_job_title</th>\n",
       "      <th></th>\n",
       "      <th></th>\n",
       "      <th></th>\n",
       "      <th></th>\n",
       "      <th></th>\n",
       "      <th></th>\n",
       "      <th></th>\n",
       "      <th></th>\n",
       "      <th></th>\n",
       "      <th></th>\n",
       "      <th></th>\n",
       "      <th></th>\n",
       "      <th></th>\n",
       "      <th></th>\n",
       "      <th></th>\n",
       "      <th></th>\n",
       "      <th></th>\n",
       "      <th></th>\n",
       "      <th></th>\n",
       "      <th></th>\n",
       "      <th></th>\n",
       "    </tr>\n",
       "  </thead>\n",
       "  <tbody>\n",
       "    <tr>\n",
       "      <th>0</th>\n",
       "      <td>Technician I</td>\n",
       "      <td>0.007958</td>\n",
       "      <td>-0.039087</td>\n",
       "      <td>-0.025204</td>\n",
       "      <td>0.005298</td>\n",
       "      <td>-0.023691</td>\n",
       "      <td>0.011731</td>\n",
       "      <td>0.02354</td>\n",
       "      <td>0.013892</td>\n",
       "      <td>-0.032059</td>\n",
       "      <td>...</td>\n",
       "      <td>-0.018840</td>\n",
       "      <td>0.003260</td>\n",
       "      <td>0.063682</td>\n",
       "      <td>0.062868</td>\n",
       "      <td>-0.004710</td>\n",
       "      <td>0.059577</td>\n",
       "      <td>0.003892</td>\n",
       "      <td>0.012452</td>\n",
       "      <td>-0.007044</td>\n",
       "      <td>-0.016285</td>\n",
       "    </tr>\n",
       "    <tr>\n",
       "      <th>1</th>\n",
       "      <td>RN or LPN Clinic Nurse, Urology</td>\n",
       "      <td>0.014309</td>\n",
       "      <td>0.058382</td>\n",
       "      <td>-0.029101</td>\n",
       "      <td>-0.064406</td>\n",
       "      <td>0.015139</td>\n",
       "      <td>0.050526</td>\n",
       "      <td>0.03910</td>\n",
       "      <td>0.028852</td>\n",
       "      <td>0.018918</td>\n",
       "      <td>...</td>\n",
       "      <td>-0.017312</td>\n",
       "      <td>0.027753</td>\n",
       "      <td>-0.000821</td>\n",
       "      <td>-0.015602</td>\n",
       "      <td>-0.006399</td>\n",
       "      <td>-0.018835</td>\n",
       "      <td>0.003042</td>\n",
       "      <td>0.012424</td>\n",
       "      <td>0.055522</td>\n",
       "      <td>-0.013705</td>\n",
       "    </tr>\n",
       "  </tbody>\n",
       "</table>\n",
       "<p>2 rows × 769 columns</p>\n",
       "</div>"
      ],
      "text/plain": [
       "                                    ExtJobTitleText  embedding2_0  \\\n",
       "rows_ext_job_title                                                  \n",
       "0                                      Technician I      0.007958   \n",
       "1                   RN or LPN Clinic Nurse, Urology      0.014309   \n",
       "\n",
       "                    embedding2_1  embedding2_2  embedding2_3  embedding2_4  \\\n",
       "rows_ext_job_title                                                           \n",
       "0                      -0.039087     -0.025204      0.005298     -0.023691   \n",
       "1                       0.058382     -0.029101     -0.064406      0.015139   \n",
       "\n",
       "                    embedding2_5  embedding2_6  embedding2_7  embedding2_8  \\\n",
       "rows_ext_job_title                                                           \n",
       "0                       0.011731       0.02354      0.013892     -0.032059   \n",
       "1                       0.050526       0.03910      0.028852      0.018918   \n",
       "\n",
       "                    ...  embedding2_758  embedding2_759  embedding2_760  \\\n",
       "rows_ext_job_title  ...                                                   \n",
       "0                   ...       -0.018840        0.003260        0.063682   \n",
       "1                   ...       -0.017312        0.027753       -0.000821   \n",
       "\n",
       "                    embedding2_761  embedding2_762  embedding2_763  \\\n",
       "rows_ext_job_title                                                   \n",
       "0                         0.062868       -0.004710        0.059577   \n",
       "1                        -0.015602       -0.006399       -0.018835   \n",
       "\n",
       "                    embedding2_764  embedding2_765  embedding2_766  \\\n",
       "rows_ext_job_title                                                   \n",
       "0                         0.003892        0.012452       -0.007044   \n",
       "1                         0.003042        0.012424        0.055522   \n",
       "\n",
       "                    embedding2_767  \n",
       "rows_ext_job_title                  \n",
       "0                        -0.016285  \n",
       "1                        -0.013705  \n",
       "\n",
       "[2 rows x 769 columns]"
      ]
     },
     "execution_count": 115,
     "metadata": {},
     "output_type": "execute_result"
    }
   ],
   "source": [
    "descriptions_with_ExtJobTitleText_df.head(2)"
   ]
  },
  {
   "cell_type": "code",
   "execution_count": 118,
   "metadata": {},
   "outputs": [],
   "source": [
    "columns1 = [f'embedding2_{i}' for i in range(768)]"
   ]
  },
  {
   "cell_type": "code",
   "execution_count": 119,
   "metadata": {},
   "outputs": [],
   "source": [
    "descriptions_with_ext = descriptions_with_sentence_embeddings_df.join(descriptions_with_ExtJobTitleText_df[columns1])"
   ]
  },
  {
   "cell_type": "code",
   "execution_count": 128,
   "metadata": {},
   "outputs": [],
   "source": [
    "descriptions_with_ext = descriptions_with_ext.set_index('row_id').join(df_pos['JobTitle_tokenized'])"
   ]
  },
  {
   "cell_type": "code",
   "execution_count": 129,
   "metadata": {},
   "outputs": [
    {
     "data": {
      "text/html": [
       "<div>\n",
       "<style scoped>\n",
       "    .dataframe tbody tr th:only-of-type {\n",
       "        vertical-align: middle;\n",
       "    }\n",
       "\n",
       "    .dataframe tbody tr th {\n",
       "        vertical-align: top;\n",
       "    }\n",
       "\n",
       "    .dataframe thead th {\n",
       "        text-align: right;\n",
       "    }\n",
       "</style>\n",
       "<table border=\"1\" class=\"dataframe\">\n",
       "  <thead>\n",
       "    <tr style=\"text-align: right;\">\n",
       "      <th></th>\n",
       "      <th>description</th>\n",
       "      <th>embedding_0</th>\n",
       "      <th>embedding_1</th>\n",
       "      <th>embedding_2</th>\n",
       "      <th>embedding_3</th>\n",
       "      <th>embedding_4</th>\n",
       "      <th>embedding_5</th>\n",
       "      <th>embedding_6</th>\n",
       "      <th>embedding_7</th>\n",
       "      <th>embedding_8</th>\n",
       "      <th>...</th>\n",
       "      <th>embedding2_759</th>\n",
       "      <th>embedding2_760</th>\n",
       "      <th>embedding2_761</th>\n",
       "      <th>embedding2_762</th>\n",
       "      <th>embedding2_763</th>\n",
       "      <th>embedding2_764</th>\n",
       "      <th>embedding2_765</th>\n",
       "      <th>embedding2_766</th>\n",
       "      <th>embedding2_767</th>\n",
       "      <th>JobTitle_tokenized</th>\n",
       "    </tr>\n",
       "    <tr>\n",
       "      <th>row_id</th>\n",
       "      <th></th>\n",
       "      <th></th>\n",
       "      <th></th>\n",
       "      <th></th>\n",
       "      <th></th>\n",
       "      <th></th>\n",
       "      <th></th>\n",
       "      <th></th>\n",
       "      <th></th>\n",
       "      <th></th>\n",
       "      <th></th>\n",
       "      <th></th>\n",
       "      <th></th>\n",
       "      <th></th>\n",
       "      <th></th>\n",
       "      <th></th>\n",
       "      <th></th>\n",
       "      <th></th>\n",
       "      <th></th>\n",
       "      <th></th>\n",
       "      <th></th>\n",
       "    </tr>\n",
       "  </thead>\n",
       "  <tbody>\n",
       "    <tr>\n",
       "      <th>1178</th>\n",
       "      <td>At Corizon Health, we share a common bond to deliver extraordinary care and client service. We take pride in achieving excellence and honoring our responsibility to deliver safe, effective and efficient healthcare services that better our communi...</td>\n",
       "      <td>0.042775</td>\n",
       "      <td>0.033650</td>\n",
       "      <td>0.005054</td>\n",
       "      <td>-0.047619</td>\n",
       "      <td>-0.038533</td>\n",
       "      <td>0.087811</td>\n",
       "      <td>-0.032835</td>\n",
       "      <td>-0.007134</td>\n",
       "      <td>-0.003032</td>\n",
       "      <td>...</td>\n",
       "      <td>0.009367</td>\n",
       "      <td>-0.018443</td>\n",
       "      <td>0.015939</td>\n",
       "      <td>-0.009930</td>\n",
       "      <td>0.033735</td>\n",
       "      <td>0.030152</td>\n",
       "      <td>-0.003777</td>\n",
       "      <td>0.011917</td>\n",
       "      <td>-0.002766</td>\n",
       "      <td>37.0</td>\n",
       "    </tr>\n",
       "    <tr>\n",
       "      <th>6169</th>\n",
       "      <td>Entry Level Accountant needed for a contract opportunity with Yoh’s client located in Davidson, NC.The Big Picture – Top Skills Should You Possess:Responsible for analyzing financial information and prepare financial reports to determine or maint...</td>\n",
       "      <td>-0.008369</td>\n",
       "      <td>0.052168</td>\n",
       "      <td>0.010882</td>\n",
       "      <td>-0.059119</td>\n",
       "      <td>0.019008</td>\n",
       "      <td>0.036149</td>\n",
       "      <td>0.001782</td>\n",
       "      <td>0.000330</td>\n",
       "      <td>-0.016669</td>\n",
       "      <td>...</td>\n",
       "      <td>-0.014962</td>\n",
       "      <td>-0.042643</td>\n",
       "      <td>-0.002026</td>\n",
       "      <td>0.001162</td>\n",
       "      <td>0.076365</td>\n",
       "      <td>0.003684</td>\n",
       "      <td>0.019822</td>\n",
       "      <td>0.039129</td>\n",
       "      <td>0.006079</td>\n",
       "      <td>153.0</td>\n",
       "    </tr>\n",
       "    <tr>\n",
       "      <th>333</th>\n",
       "      <td>Envision Physician Services and Lawnwood Regional Medical Center are seeking hospitalists to become a part of our well established program in Fort Pierce, Florida. All candidates must reside in St. Lucie County.­ 331 Bed Hospital CLOSED ICU No pr...</td>\n",
       "      <td>-0.001417</td>\n",
       "      <td>-0.016857</td>\n",
       "      <td>0.008566</td>\n",
       "      <td>0.006584</td>\n",
       "      <td>0.003686</td>\n",
       "      <td>0.006942</td>\n",
       "      <td>-0.001357</td>\n",
       "      <td>-0.001182</td>\n",
       "      <td>-0.069176</td>\n",
       "      <td>...</td>\n",
       "      <td>0.011785</td>\n",
       "      <td>0.026147</td>\n",
       "      <td>0.015226</td>\n",
       "      <td>-0.027453</td>\n",
       "      <td>0.026922</td>\n",
       "      <td>0.020609</td>\n",
       "      <td>0.003587</td>\n",
       "      <td>0.006931</td>\n",
       "      <td>-0.006606</td>\n",
       "      <td>9.0</td>\n",
       "    </tr>\n",
       "  </tbody>\n",
       "</table>\n",
       "<p>3 rows × 1538 columns</p>\n",
       "</div>"
      ],
      "text/plain": [
       "                                                                                                                                                                                                                                                      description  \\\n",
       "row_id                                                                                                                                                                                                                                                              \n",
       "1178    At Corizon Health, we share a common bond to deliver extraordinary care and client service. We take pride in achieving excellence and honoring our responsibility to deliver safe, effective and efficient healthcare services that better our communi...   \n",
       "6169    Entry Level Accountant needed for a contract opportunity with Yoh’s client located in Davidson, NC.The Big Picture – Top Skills Should You Possess:Responsible for analyzing financial information and prepare financial reports to determine or maint...   \n",
       "333     Envision Physician Services and Lawnwood Regional Medical Center are seeking hospitalists to become a part of our well established program in Fort Pierce, Florida. All candidates must reside in St. Lucie County.­ 331 Bed Hospital CLOSED ICU No pr...   \n",
       "\n",
       "        embedding_0  embedding_1  embedding_2  embedding_3  embedding_4  \\\n",
       "row_id                                                                    \n",
       "1178       0.042775     0.033650     0.005054    -0.047619    -0.038533   \n",
       "6169      -0.008369     0.052168     0.010882    -0.059119     0.019008   \n",
       "333       -0.001417    -0.016857     0.008566     0.006584     0.003686   \n",
       "\n",
       "        embedding_5  embedding_6  embedding_7  embedding_8  ...  \\\n",
       "row_id                                                      ...   \n",
       "1178       0.087811    -0.032835    -0.007134    -0.003032  ...   \n",
       "6169       0.036149     0.001782     0.000330    -0.016669  ...   \n",
       "333        0.006942    -0.001357    -0.001182    -0.069176  ...   \n",
       "\n",
       "        embedding2_759  embedding2_760  embedding2_761  embedding2_762  \\\n",
       "row_id                                                                   \n",
       "1178          0.009367       -0.018443        0.015939       -0.009930   \n",
       "6169         -0.014962       -0.042643       -0.002026        0.001162   \n",
       "333           0.011785        0.026147        0.015226       -0.027453   \n",
       "\n",
       "        embedding2_763  embedding2_764  embedding2_765  embedding2_766  \\\n",
       "row_id                                                                   \n",
       "1178          0.033735        0.030152       -0.003777        0.011917   \n",
       "6169          0.076365        0.003684        0.019822        0.039129   \n",
       "333           0.026922        0.020609        0.003587        0.006931   \n",
       "\n",
       "        embedding2_767  JobTitle_tokenized  \n",
       "row_id                                      \n",
       "1178         -0.002766                37.0  \n",
       "6169          0.006079               153.0  \n",
       "333          -0.006606                 9.0  \n",
       "\n",
       "[3 rows x 1538 columns]"
      ]
     },
     "execution_count": 129,
     "metadata": {},
     "output_type": "execute_result"
    }
   ],
   "source": [
    "descriptions_with_ext.sample(3)"
   ]
  },
  {
   "cell_type": "code",
   "execution_count": 130,
   "metadata": {},
   "outputs": [
    {
     "data": {
      "text/plain": [
       "ExtJobTitleText                                                                                                                                                                                                                                               Entry Level Accountant\n",
       "JobTitle                                                                                                                                                                                                                                                                  Accountant\n",
       "Description                Entry Level Accountant needed for a contract opportunity with Yoh’s client located in Davidson, NC.The Big Picture – Top Skills Should You Possess:Responsible for analyzing financial information and prepare financial reports to determine or maint...\n",
       "JobTitle_tokenized                                                                                                                                                                                                                                                               153\n",
       "ext_job_title_tokenized                                                                                                                                                                                                                                                         2962\n",
       "Name: 6169, dtype: object"
      ]
     },
     "execution_count": 130,
     "metadata": {},
     "output_type": "execute_result"
    }
   ],
   "source": [
    "df_pos.iloc[6169]"
   ]
  },
  {
   "cell_type": "markdown",
   "metadata": {},
   "source": [
    "### Modedling with transformers sequence embeddings"
   ]
  },
  {
   "cell_type": "code",
   "execution_count": 67,
   "metadata": {},
   "outputs": [],
   "source": [
    "from tensorflow.keras.layers import TextVectorization, Embedding, Dense, GlobalAveragePooling1D, Dropout, Reshape, Activation"
   ]
  },
  {
   "cell_type": "code",
   "execution_count": 131,
   "metadata": {},
   "outputs": [
    {
     "data": {
      "text/plain": [
       "(25404, 1538)"
      ]
     },
     "execution_count": 131,
     "metadata": {},
     "output_type": "execute_result"
    }
   ],
   "source": [
    "descriptions_with_ext.shape"
   ]
  },
  {
   "cell_type": "code",
   "execution_count": 132,
   "metadata": {},
   "outputs": [],
   "source": [
    "descriptions_with_ext = descriptions_with_ext[descriptions_with_ext['description'].notnull()]\n",
    "descriptions_with_ext.dropna(inplace=True)"
   ]
  },
  {
   "cell_type": "code",
   "execution_count": 134,
   "metadata": {},
   "outputs": [
    {
     "data": {
      "text/plain": [
       "(25403, 1538)"
      ]
     },
     "execution_count": 134,
     "metadata": {},
     "output_type": "execute_result"
    }
   ],
   "source": [
    "descriptions_with_ext.shape"
   ]
  },
  {
   "cell_type": "markdown",
   "metadata": {},
   "source": [
    "still there was one none"
   ]
  },
  {
   "cell_type": "code",
   "execution_count": 135,
   "metadata": {},
   "outputs": [],
   "source": [
    "text_col, target_col = 'description', 'JobTitle_tokenized'\n",
    "\n",
    "from sklearn.preprocessing import LabelBinarizer\n",
    "label_as_binary = LabelBinarizer()\n",
    "\n",
    "label_as_binary.fit(df_pos[target_col])\n",
    "\n",
    "training1 = descriptions_with_ext.sample(frac=0.8, random_state=41)\n",
    "test1 = descriptions_with_ext[~descriptions_with_ext.index.isin(training1.index)]\n",
    "\n",
    "train__y_labels1 = label_as_binary.transform(training1[target_col])\n",
    "test__y_labels1 = label_as_binary.transform(test1[target_col])"
   ]
  },
  {
   "cell_type": "code",
   "execution_count": 144,
   "metadata": {},
   "outputs": [],
   "source": [
    "model1 = tf.keras.Sequential()\n",
    "model1.add(Dense(4096, input_dim=768*2))\n",
    "model1.add(Activation('elu'))\n",
    "# model.add(Dense(2048, input_dim=2048))\n",
    "# model.add(Activation('relu'))\n",
    "model1.add(Dense(df_pos.JobTitle.nunique()))\n",
    "model1.add(Activation('softmax'))\n",
    "model1.compile(\n",
    "    optimizer=tf.optimizers.Adam(),\n",
    "    loss=tf.keras.losses.categorical_crossentropy,\n",
    "    metrics=[tf.keras.metrics.Precision(), tf.keras.metrics.Recall(),'accuracy']\n",
    "    )"
   ]
  },
  {
   "cell_type": "code",
   "execution_count": 145,
   "metadata": {},
   "outputs": [
    {
     "name": "stdout",
     "output_type": "stream",
     "text": [
      "Model: \"sequential_6\"\n",
      "_________________________________________________________________\n",
      " Layer (type)                Output Shape              Param #   \n",
      "=================================================================\n",
      " dense_12 (Dense)            (None, 4096)              6295552   \n",
      "                                                                 \n",
      " activation_12 (Activation)  (None, 4096)              0         \n",
      "                                                                 \n",
      " dense_13 (Dense)            (None, 352)               1442144   \n",
      "                                                                 \n",
      " activation_13 (Activation)  (None, 352)               0         \n",
      "                                                                 \n",
      "=================================================================\n",
      "Total params: 7,737,696\n",
      "Trainable params: 7,737,696\n",
      "Non-trainable params: 0\n",
      "_________________________________________________________________\n"
     ]
    }
   ],
   "source": [
    "model1.summary()"
   ]
  },
  {
   "cell_type": "code",
   "execution_count": 149,
   "metadata": {},
   "outputs": [],
   "source": [
    "f_vector3 = [f'embedding_{i}' for i in range(768)]\n",
    "f_vector2 = [f'embedding2_{i}' for i in range(768)]\n",
    "f_vector1 = f_vector3+f_vector2"
   ]
  },
  {
   "cell_type": "code",
   "execution_count": 151,
   "metadata": {},
   "outputs": [
    {
     "name": "stdout",
     "output_type": "stream",
     "text": [
      "Epoch 1/50\n",
      "20/20 [==============================] - 44s 2s/step - loss: 0.7950 - precision_5: 0.9047 - recall_5: 0.7682 - accuracy: 0.8313 - val_loss: 1.1206 - val_precision_5: 0.8828 - val_recall_5: 0.7337 - val_accuracy: 0.7951\n",
      "Epoch 2/50\n",
      "20/20 [==============================] - 29s 1s/step - loss: 0.7441 - precision_5: 0.9097 - recall_5: 0.7772 - accuracy: 0.8384 - val_loss: 1.1140 - val_precision_5: 0.8794 - val_recall_5: 0.7319 - val_accuracy: 0.7949\n",
      "Epoch 3/50\n",
      "20/20 [==============================] - 27s 1s/step - loss: 0.7028 - precision_5: 0.9107 - recall_5: 0.7868 - accuracy: 0.8417 - val_loss: 1.1180 - val_precision_5: 0.8775 - val_recall_5: 0.7400 - val_accuracy: 0.7957\n",
      "Epoch 4/50\n",
      "20/20 [==============================] - 24s 1s/step - loss: 0.6620 - precision_5: 0.9155 - recall_5: 0.7973 - accuracy: 0.8482 - val_loss: 1.1265 - val_precision_5: 0.8742 - val_recall_5: 0.7371 - val_accuracy: 0.7916\n",
      "Epoch 5/50\n",
      "20/20 [==============================] - 23s 1s/step - loss: 0.6240 - precision_5: 0.9214 - recall_5: 0.8023 - accuracy: 0.8545 - val_loss: 1.1218 - val_precision_5: 0.8738 - val_recall_5: 0.7469 - val_accuracy: 0.7994\n",
      "Epoch 6/50\n",
      "20/20 [==============================] - 25s 1s/step - loss: 0.5839 - precision_5: 0.9230 - recall_5: 0.8119 - accuracy: 0.8613 - val_loss: 1.1191 - val_precision_5: 0.8841 - val_recall_5: 0.7461 - val_accuracy: 0.7987\n",
      "Epoch 7/50\n",
      "20/20 [==============================] - 25s 1s/step - loss: 0.5494 - precision_5: 0.9283 - recall_5: 0.8187 - accuracy: 0.8665 - val_loss: 1.1281 - val_precision_5: 0.8785 - val_recall_5: 0.7510 - val_accuracy: 0.8008\n",
      "Epoch 8/50\n",
      "20/20 [==============================] - 25s 1s/step - loss: 0.5234 - precision_5: 0.9294 - recall_5: 0.8237 - accuracy: 0.8691 - val_loss: 1.1368 - val_precision_5: 0.8801 - val_recall_5: 0.7514 - val_accuracy: 0.7987\n",
      "Epoch 9/50\n",
      "20/20 [==============================] - 25s 1s/step - loss: 0.4951 - precision_5: 0.9319 - recall_5: 0.8316 - accuracy: 0.8751 - val_loss: 1.1501 - val_precision_5: 0.8783 - val_recall_5: 0.7439 - val_accuracy: 0.7963\n",
      "Epoch 10/50\n",
      "20/20 [==============================] - 27s 1s/step - loss: 0.4667 - precision_5: 0.9358 - recall_5: 0.8349 - accuracy: 0.8819 - val_loss: 1.1573 - val_precision_5: 0.8780 - val_recall_5: 0.7562 - val_accuracy: 0.8014\n",
      "Epoch 11/50\n",
      "20/20 [==============================] - 23s 1s/step - loss: 0.4386 - precision_5: 0.9397 - recall_5: 0.8447 - accuracy: 0.8858 - val_loss: 1.1702 - val_precision_5: 0.8781 - val_recall_5: 0.7613 - val_accuracy: 0.8012\n",
      "Epoch 12/50\n",
      "20/20 [==============================] - 26s 1s/step - loss: 0.4171 - precision_5: 0.9424 - recall_5: 0.8505 - accuracy: 0.8924 - val_loss: 1.1902 - val_precision_5: 0.8775 - val_recall_5: 0.7597 - val_accuracy: 0.8010\n",
      "Epoch 13/50\n",
      "20/20 [==============================] - 27s 1s/step - loss: 0.3963 - precision_5: 0.9438 - recall_5: 0.8564 - accuracy: 0.8966 - val_loss: 1.1871 - val_precision_5: 0.8822 - val_recall_5: 0.7573 - val_accuracy: 0.8032\n",
      "Epoch 14/50\n",
      "20/20 [==============================] - 26s 1s/step - loss: 0.3776 - precision_5: 0.9470 - recall_5: 0.8613 - accuracy: 0.9000 - val_loss: 1.2105 - val_precision_5: 0.8707 - val_recall_5: 0.7609 - val_accuracy: 0.7979\n",
      "Epoch 15/50\n",
      "20/20 [==============================] - 25s 1s/step - loss: 0.3606 - precision_5: 0.9466 - recall_5: 0.8677 - accuracy: 0.9039 - val_loss: 1.2118 - val_precision_5: 0.8748 - val_recall_5: 0.7621 - val_accuracy: 0.8010\n",
      "Epoch 16/50\n",
      "20/20 [==============================] - 26s 1s/step - loss: 0.3430 - precision_5: 0.9501 - recall_5: 0.8715 - accuracy: 0.9079 - val_loss: 1.2275 - val_precision_5: 0.8729 - val_recall_5: 0.7693 - val_accuracy: 0.8040\n",
      "Epoch 17/50\n",
      "20/20 [==============================] - 26s 1s/step - loss: 0.3291 - precision_5: 0.9529 - recall_5: 0.8762 - accuracy: 0.9116 - val_loss: 1.2429 - val_precision_5: 0.8707 - val_recall_5: 0.7611 - val_accuracy: 0.7979\n",
      "Epoch 18/50\n",
      "20/20 [==============================] - 28s 1s/step - loss: 0.3161 - precision_5: 0.9533 - recall_5: 0.8795 - accuracy: 0.9135 - val_loss: 1.2560 - val_precision_5: 0.8667 - val_recall_5: 0.7642 - val_accuracy: 0.7987\n",
      "Epoch 19/50\n",
      "20/20 [==============================] - 27s 1s/step - loss: 0.3055 - precision_5: 0.9533 - recall_5: 0.8858 - accuracy: 0.9172 - val_loss: 1.2669 - val_precision_5: 0.8609 - val_recall_5: 0.7638 - val_accuracy: 0.7961\n",
      "Epoch 20/50\n",
      "20/20 [==============================] - 25s 1s/step - loss: 0.2877 - precision_5: 0.9597 - recall_5: 0.8911 - accuracy: 0.9215 - val_loss: 1.2895 - val_precision_5: 0.8666 - val_recall_5: 0.7684 - val_accuracy: 0.7963\n",
      "Epoch 21/50\n",
      "20/20 [==============================] - 28s 1s/step - loss: 0.2797 - precision_5: 0.9570 - recall_5: 0.8939 - accuracy: 0.9239 - val_loss: 1.2962 - val_precision_5: 0.8632 - val_recall_5: 0.7685 - val_accuracy: 0.7991\n",
      "Epoch 22/50\n",
      "20/20 [==============================] - 28s 1s/step - loss: 0.2694 - precision_5: 0.9589 - recall_5: 0.8978 - accuracy: 0.9264 - val_loss: 1.3105 - val_precision_5: 0.8623 - val_recall_5: 0.7652 - val_accuracy: 0.7967\n",
      "Epoch 23/50\n",
      "20/20 [==============================] - 27s 1s/step - loss: 0.2607 - precision_5: 0.9608 - recall_5: 0.9007 - accuracy: 0.9284 - val_loss: 1.3143 - val_precision_5: 0.8643 - val_recall_5: 0.7723 - val_accuracy: 0.8012\n",
      "Epoch 24/50\n",
      "20/20 [==============================] - 27s 1s/step - loss: 0.2505 - precision_5: 0.9633 - recall_5: 0.9033 - accuracy: 0.9310 - val_loss: 1.3276 - val_precision_5: 0.8600 - val_recall_5: 0.7687 - val_accuracy: 0.7991\n",
      "Epoch 25/50\n",
      "20/20 [==============================] - 27s 1s/step - loss: 0.2390 - precision_5: 0.9637 - recall_5: 0.9083 - accuracy: 0.9331 - val_loss: 1.3455 - val_precision_5: 0.8582 - val_recall_5: 0.7741 - val_accuracy: 0.7975\n",
      "Epoch 26/50\n",
      "20/20 [==============================] - 25s 1s/step - loss: 0.2325 - precision_5: 0.9621 - recall_5: 0.9093 - accuracy: 0.9336 - val_loss: 1.3657 - val_precision_5: 0.8583 - val_recall_5: 0.7666 - val_accuracy: 0.7945\n",
      "Epoch 27/50\n",
      "20/20 [==============================] - 26s 1s/step - loss: 0.2275 - precision_5: 0.9644 - recall_5: 0.9119 - accuracy: 0.9357 - val_loss: 1.3704 - val_precision_5: 0.8540 - val_recall_5: 0.7713 - val_accuracy: 0.7987\n",
      "Epoch 28/50\n",
      "20/20 [==============================] - 26s 1s/step - loss: 0.2203 - precision_5: 0.9653 - recall_5: 0.9148 - accuracy: 0.9377 - val_loss: 1.3876 - val_precision_5: 0.8510 - val_recall_5: 0.7731 - val_accuracy: 0.7967\n",
      "Epoch 29/50\n",
      "20/20 [==============================] - 30s 2s/step - loss: 0.2146 - precision_5: 0.9640 - recall_5: 0.9166 - accuracy: 0.9382 - val_loss: 1.3912 - val_precision_5: 0.8551 - val_recall_5: 0.7697 - val_accuracy: 0.7955\n",
      "Epoch 30/50\n",
      "20/20 [==============================] - 27s 1s/step - loss: 0.2051 - precision_5: 0.9680 - recall_5: 0.9192 - accuracy: 0.9413 - val_loss: 1.4133 - val_precision_5: 0.8501 - val_recall_5: 0.7733 - val_accuracy: 0.7975\n",
      "Epoch 31/50\n",
      "20/20 [==============================] - 26s 1s/step - loss: 0.1999 - precision_5: 0.9681 - recall_5: 0.9237 - accuracy: 0.9436 - val_loss: 1.4224 - val_precision_5: 0.8466 - val_recall_5: 0.7723 - val_accuracy: 0.7965\n",
      "Epoch 32/50\n",
      "20/20 [==============================] - 26s 1s/step - loss: 0.1966 - precision_5: 0.9674 - recall_5: 0.9222 - accuracy: 0.9439 - val_loss: 1.4332 - val_precision_5: 0.8507 - val_recall_5: 0.7717 - val_accuracy: 0.7945\n",
      "Epoch 33/50\n",
      "20/20 [==============================] - 29s 1s/step - loss: 0.1920 - precision_5: 0.9680 - recall_5: 0.9247 - accuracy: 0.9449 - val_loss: 1.4332 - val_precision_5: 0.8492 - val_recall_5: 0.7747 - val_accuracy: 0.7955\n",
      "Epoch 34/50\n",
      "20/20 [==============================] - 27s 1s/step - loss: 0.1864 - precision_5: 0.9682 - recall_5: 0.9261 - accuracy: 0.9460 - val_loss: 1.4404 - val_precision_5: 0.8488 - val_recall_5: 0.7756 - val_accuracy: 0.7965\n",
      "Epoch 35/50\n",
      "20/20 [==============================] - 25s 1s/step - loss: 0.1818 - precision_5: 0.9691 - recall_5: 0.9286 - accuracy: 0.9473 - val_loss: 1.4751 - val_precision_5: 0.8466 - val_recall_5: 0.7723 - val_accuracy: 0.7926\n",
      "Epoch 36/50\n",
      "20/20 [==============================] - 28s 1s/step - loss: 0.1795 - precision_5: 0.9686 - recall_5: 0.9287 - accuracy: 0.9486 - val_loss: 1.4752 - val_precision_5: 0.8429 - val_recall_5: 0.7748 - val_accuracy: 0.7941\n",
      "Epoch 37/50\n",
      "20/20 [==============================] - 26s 1s/step - loss: 0.1735 - precision_5: 0.9694 - recall_5: 0.9307 - accuracy: 0.9491 - val_loss: 1.4872 - val_precision_5: 0.8453 - val_recall_5: 0.7788 - val_accuracy: 0.7963\n",
      "Epoch 38/50\n",
      "20/20 [==============================] - 26s 1s/step - loss: 0.1655 - precision_5: 0.9722 - recall_5: 0.9346 - accuracy: 0.9523 - val_loss: 1.4950 - val_precision_5: 0.8420 - val_recall_5: 0.7721 - val_accuracy: 0.7935\n",
      "Epoch 39/50\n",
      "20/20 [==============================] - 26s 1s/step - loss: 0.1643 - precision_5: 0.9715 - recall_5: 0.9348 - accuracy: 0.9517 - val_loss: 1.5084 - val_precision_5: 0.8401 - val_recall_5: 0.7768 - val_accuracy: 0.7951\n",
      "Epoch 40/50\n",
      "20/20 [==============================] - 27s 1s/step - loss: 0.1619 - precision_5: 0.9721 - recall_5: 0.9351 - accuracy: 0.9521 - val_loss: 1.5129 - val_precision_5: 0.8385 - val_recall_5: 0.7723 - val_accuracy: 0.7924\n",
      "Epoch 41/50\n",
      "20/20 [==============================] - 25s 1s/step - loss: 0.1554 - precision_5: 0.9732 - recall_5: 0.9379 - accuracy: 0.9552 - val_loss: 1.5208 - val_precision_5: 0.8424 - val_recall_5: 0.7754 - val_accuracy: 0.7932\n",
      "Epoch 42/50\n",
      "20/20 [==============================] - 26s 1s/step - loss: 0.1531 - precision_5: 0.9728 - recall_5: 0.9383 - accuracy: 0.9544 - val_loss: 1.5382 - val_precision_5: 0.8381 - val_recall_5: 0.7743 - val_accuracy: 0.7908\n",
      "Epoch 43/50\n",
      "20/20 [==============================] - 26s 1s/step - loss: 0.1495 - precision_5: 0.9741 - recall_5: 0.9415 - accuracy: 0.9580 - val_loss: 1.5569 - val_precision_5: 0.8389 - val_recall_5: 0.7766 - val_accuracy: 0.7935\n",
      "Epoch 44/50\n",
      "20/20 [==============================] - 26s 1s/step - loss: 0.1479 - precision_5: 0.9724 - recall_5: 0.9413 - accuracy: 0.9557 - val_loss: 1.5672 - val_precision_5: 0.8353 - val_recall_5: 0.7717 - val_accuracy: 0.7918\n",
      "Epoch 45/50\n",
      "20/20 [==============================] - 28s 1s/step - loss: 0.1450 - precision_5: 0.9737 - recall_5: 0.9428 - accuracy: 0.9577 - val_loss: 1.5741 - val_precision_5: 0.8406 - val_recall_5: 0.7750 - val_accuracy: 0.7941\n",
      "Epoch 46/50\n",
      "20/20 [==============================] - 25s 1s/step - loss: 0.1416 - precision_5: 0.9739 - recall_5: 0.9424 - accuracy: 0.9574 - val_loss: 1.5842 - val_precision_5: 0.8375 - val_recall_5: 0.7731 - val_accuracy: 0.7902\n",
      "Epoch 47/50\n",
      "20/20 [==============================] - 29s 1s/step - loss: 0.1371 - precision_5: 0.9753 - recall_5: 0.9450 - accuracy: 0.9600 - val_loss: 1.5924 - val_precision_5: 0.8365 - val_recall_5: 0.7733 - val_accuracy: 0.7898\n",
      "Epoch 48/50\n",
      "20/20 [==============================] - 28s 1s/step - loss: 0.1376 - precision_5: 0.9747 - recall_5: 0.9445 - accuracy: 0.9585 - val_loss: 1.6042 - val_precision_5: 0.8366 - val_recall_5: 0.7760 - val_accuracy: 0.7916\n",
      "Epoch 49/50\n",
      "20/20 [==============================] - 25s 1s/step - loss: 0.1305 - precision_5: 0.9760 - recall_5: 0.9474 - accuracy: 0.9623 - val_loss: 1.6055 - val_precision_5: 0.8352 - val_recall_5: 0.7760 - val_accuracy: 0.7908\n",
      "Epoch 50/50\n",
      "20/20 [==============================] - 26s 1s/step - loss: 0.1292 - precision_5: 0.9773 - recall_5: 0.9486 - accuracy: 0.9621 - val_loss: 1.6277 - val_precision_5: 0.8352 - val_recall_5: 0.7762 - val_accuracy: 0.7904\n"
     ]
    }
   ],
   "source": [
    "history1 = model1.fit(training1[f_vector1], \n",
    "          train__y_labels1, \n",
    "          validation_data=(test1[f_vector1], test__y_labels1), \n",
    "          epochs=50,\n",
    "          batch_size=1024,\n",
    "          verbose=1)"
   ]
  },
  {
   "cell_type": "markdown",
   "metadata": {},
   "source": [
    "# Results"
   ]
  },
  {
   "cell_type": "code",
   "execution_count": 153,
   "metadata": {},
   "outputs": [
    {
     "data": {
      "text/html": [
       "<div>\n",
       "<style scoped>\n",
       "    .dataframe tbody tr th:only-of-type {\n",
       "        vertical-align: middle;\n",
       "    }\n",
       "\n",
       "    .dataframe tbody tr th {\n",
       "        vertical-align: top;\n",
       "    }\n",
       "\n",
       "    .dataframe thead th {\n",
       "        text-align: right;\n",
       "    }\n",
       "</style>\n",
       "<table border=\"1\" class=\"dataframe\">\n",
       "  <thead>\n",
       "    <tr style=\"text-align: right;\">\n",
       "      <th></th>\n",
       "      <th>precision</th>\n",
       "      <th>recall</th>\n",
       "    </tr>\n",
       "  </thead>\n",
       "  <tbody>\n",
       "    <tr>\n",
       "      <th>SVM</th>\n",
       "      <td>0.78</td>\n",
       "      <td>0.80</td>\n",
       "    </tr>\n",
       "    <tr>\n",
       "      <th>Random Forest</th>\n",
       "      <td>0.58</td>\n",
       "      <td>0.52</td>\n",
       "    </tr>\n",
       "    <tr>\n",
       "      <th>SGD</th>\n",
       "      <td>0.76</td>\n",
       "      <td>0.75</td>\n",
       "    </tr>\n",
       "    <tr>\n",
       "      <th>Embedding_with_pooling</th>\n",
       "      <td>0.82</td>\n",
       "      <td>0.66</td>\n",
       "    </tr>\n",
       "    <tr>\n",
       "      <th>Embedding_concatinated</th>\n",
       "      <td>0.83</td>\n",
       "      <td>0.64</td>\n",
       "    </tr>\n",
       "    <tr>\n",
       "      <th>Transformer</th>\n",
       "      <td>0.84</td>\n",
       "      <td>0.72</td>\n",
       "    </tr>\n",
       "    <tr>\n",
       "      <th>Transformer with ext_job_title</th>\n",
       "      <td>0.85</td>\n",
       "      <td>0.78</td>\n",
       "    </tr>\n",
       "  </tbody>\n",
       "</table>\n",
       "</div>"
      ],
      "text/plain": [
       "                                precision  recall\n",
       "SVM                                  0.78    0.80\n",
       "Random Forest                        0.58    0.52\n",
       "SGD                                  0.76    0.75\n",
       "Embedding_with_pooling               0.82    0.66\n",
       "Embedding_concatinated               0.83    0.64\n",
       "Transformer                          0.84    0.72\n",
       "Transformer with ext_job_title       0.85    0.78"
      ]
     },
     "execution_count": 153,
     "metadata": {},
     "output_type": "execute_result"
    }
   ],
   "source": [
    "pd.read_csv('Results.csv', index_col='Unnamed: 0')"
   ]
  },
  {
   "cell_type": "code",
   "execution_count": null,
   "metadata": {},
   "outputs": [],
   "source": []
  }
 ],
 "metadata": {
  "kernelspec": {
   "display_name": "Python 3 (ipykernel)",
   "language": "python",
   "name": "python3"
  },
  "language_info": {
   "codemirror_mode": {
    "name": "ipython",
    "version": 3
   },
   "file_extension": ".py",
   "mimetype": "text/x-python",
   "name": "python",
   "nbconvert_exporter": "python",
   "pygments_lexer": "ipython3",
   "version": "3.9.7"
  }
 },
 "nbformat": 4,
 "nbformat_minor": 4
}
